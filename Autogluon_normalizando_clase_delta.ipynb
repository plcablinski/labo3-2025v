{
 "cells": [
  {
   "cell_type": "code",
   "execution_count": 1,
   "id": "55c9b116",
   "metadata": {},
   "outputs": [],
   "source": [
    "import lightgbm as lgb\n",
    "import numpy as np\n",
    "import pandas as pd\n",
    "import numpy as np\n",
    "import gc\n",
    "import os\n",
    "import optuna\n",
    "import sqlite3\n",
    "import ray\n",
    "import matplotlib.pyplot as plt\n",
    "from optuna.integration import LightGBMPruningCallback\n",
    "from autogluon.tabular import TabularPredictor\n",
    "from sklearn.metrics import mean_squared_error, mean_absolute_error"
   ]
  },
  {
   "cell_type": "code",
   "execution_count": 2,
   "id": "7d80a483",
   "metadata": {},
   "outputs": [],
   "source": [
    "gc.collect()\n",
    "df_full = pd.read_parquet('./data/l_vm_completa_normalizada_fe.parquet', engine='fastparquet')"
   ]
  },
  {
   "cell_type": "code",
   "execution_count": 3,
   "id": "c4c2e2d0",
   "metadata": {},
   "outputs": [
    {
     "data": {
      "text/plain": [
       "48"
      ]
     },
     "execution_count": 3,
     "metadata": {},
     "output_type": "execute_result"
    }
   ],
   "source": [
    "# Variables predictoras y objetivo\n",
    "# filtrar que en X el periodo sea menor o igual a 201910\n",
    "# En x eliminar la columna 'CLASE_ZSCORE' y 'CLASE_DELTA_ZSCORE' si existen\n",
    "cols_to_drop = [col for col in ['CLASE_ZSCORE', 'CLASE_DELTA_ZSCORE','CLASE_ZSCORE_CLIP', 'CLASE_DELTA_ZSCORE_CLIP'] if col in df_full.columns]\n",
    "X = df_full[df_full['PERIODO'] <= 201910].drop(columns=cols_to_drop)\n",
    "# Filtrar en y que el periodo sea menor o igual a 201910 y que la columna exista\n",
    "y = df_full[df_full['PERIODO'] <= 201910]['CLASE_DELTA_ZSCORE_CLIP']\n",
    "# Eliminar df_full para liberar memoria\n",
    "del df_full\n",
    "gc.collect()"
   ]
  },
  {
   "cell_type": "code",
   "execution_count": 4,
   "id": "cdd36925",
   "metadata": {},
   "outputs": [
    {
     "data": {
      "text/plain": [
       "0"
      ]
     },
     "execution_count": 4,
     "metadata": {},
     "output_type": "execute_result"
    }
   ],
   "source": [
    "# Definir los periodos de validación \n",
    "periodos_valid = [201909, 201910]\n",
    "\n",
    "# Separar train y cinco conjuntos de validación respetando la secuencia temporal\n",
    "X_train = X[X['PERIODO'] < periodos_valid[0]]\n",
    "y_train = y[X['PERIODO'] < periodos_valid[0]]\n",
    "X_val_list = [X[X['PERIODO'] == p] for p in periodos_valid]\n",
    "y_val_list = [y[X['PERIODO'] == p] for p in periodos_valid]\n",
    "del X, y\n",
    "gc.collect()"
   ]
  },
  {
   "cell_type": "code",
   "execution_count": 5,
   "id": "af1a4473",
   "metadata": {},
   "outputs": [],
   "source": [
    "from autogluon.tabular import TabularPredictor\n",
    "\n",
    "# Dataset de entrenamiento\n",
    "df_train = X_train.copy()\n",
    "df_train['CLASE_DELTA_ZSCORE_CLIP'] = y_train\n",
    "\n",
    "# Dataset de validación\n",
    "df_val = X_val_list[0].copy()\n",
    "df_val['CLASE_DELTA_ZSCORE_CLIP'] = y_val_list[0]"
   ]
  },
  {
   "cell_type": "code",
   "execution_count": 6,
   "id": "4920fb2f",
   "metadata": {},
   "outputs": [
    {
     "data": {
      "text/plain": [
       "' import datetime\\nimport gc\\nfrom autogluon.tabular import TabularPredictor\\n\\ngc.collect()\\n\\n# === Configuración general ===\\nlabel_column = \\'CLASE_DELTA_ZSCORE_CLIP\\'\\noutput_path = f\"AutogluonModels/model_fast_{datetime.datetime.now().strftime(\\'%Y%m%d_%H%M\\')}\"\\n\\n# === Entrenamiento ===\\npredictor = TabularPredictor(\\n    label=label_column,\\n    problem_type=\\'regression\\',\\n    eval_metric=\\'mean_absolute_error\\',\\n    path=output_path\\n).fit(\\n    train_data=df_train,\\n    tuning_data=df_val,\\n    use_bag_holdout=True,\\n    presets=\\'medium_quality\\',               # Entrenamiento rápido pero razonable\\n    time_limit=1800,                         # ⏱️ Máximo 15 minutos (900 segundos)\\n    num_bag_folds=3,                        # Reduce cantidad de folds\\n    num_bag_sets=1,                         # Una sola pasada\\n    auto_stack=False,                       # Apagar stacking para acelerar\\n    ag_args_ensemble={\\'fold_fitting_strategy\\': \\'parallel_local\\'},\\n    hyperparameters={\\n        \\'GBM\\': [\\n            {\\n                \\'ag_args\\': {\\'name_suffix\\': \\'QuickXT\\'},\\n                \\'extra_trees\\': True,\\n                \\'time_limit\\': 300,\\n                \\'early_stopping_rounds\\': 10,\\n            },\\n            {\\n                \\'ag_args\\': {\\'name_suffix\\': \\'QuickDefault\\'},\\n                \\'num_leaves\\': 31,\\n                \\'feature_fraction\\': 0.8,\\n                \\'bagging_fraction\\': 0.8,\\n                \\'time_limit\\': 300,\\n                \\'early_stopping_rounds\\': 10,\\n            }\\n        ]\\n    },\\n    verbosity=2\\n)\\n '"
      ]
     },
     "execution_count": 6,
     "metadata": {},
     "output_type": "execute_result"
    }
   ],
   "source": [
    "\"\"\" import datetime\n",
    "import gc\n",
    "from autogluon.tabular import TabularPredictor\n",
    "\n",
    "gc.collect()\n",
    "\n",
    "# === Configuración general ===\n",
    "label_column = 'CLASE_DELTA_ZSCORE_CLIP'\n",
    "output_path = f\"AutogluonModels/model_fast_{datetime.datetime.now().strftime('%Y%m%d_%H%M')}\"\n",
    "\n",
    "# === Entrenamiento ===\n",
    "predictor = TabularPredictor(\n",
    "    label=label_column,\n",
    "    problem_type='regression',\n",
    "    eval_metric='mean_absolute_error',\n",
    "    path=output_path\n",
    ").fit(\n",
    "    train_data=df_train,\n",
    "    tuning_data=df_val,\n",
    "    use_bag_holdout=True,\n",
    "    presets='medium_quality',               # Entrenamiento rápido pero razonable\n",
    "    time_limit=1800,                         # ⏱️ Máximo 15 minutos (900 segundos)\n",
    "    num_bag_folds=3,                        # Reduce cantidad de folds\n",
    "    num_bag_sets=1,                         # Una sola pasada\n",
    "    auto_stack=False,                       # Apagar stacking para acelerar\n",
    "    ag_args_ensemble={'fold_fitting_strategy': 'parallel_local'},\n",
    "    hyperparameters={\n",
    "        'GBM': [\n",
    "            {\n",
    "                'ag_args': {'name_suffix': 'QuickXT'},\n",
    "                'extra_trees': True,\n",
    "                'time_limit': 300,\n",
    "                'early_stopping_rounds': 10,\n",
    "            },\n",
    "            {\n",
    "                'ag_args': {'name_suffix': 'QuickDefault'},\n",
    "                'num_leaves': 31,\n",
    "                'feature_fraction': 0.8,\n",
    "                'bagging_fraction': 0.8,\n",
    "                'time_limit': 300,\n",
    "                'early_stopping_rounds': 10,\n",
    "            }\n",
    "        ]\n",
    "    },\n",
    "    verbosity=2\n",
    ")\n",
    " \"\"\""
   ]
  },
  {
   "cell_type": "code",
   "execution_count": 7,
   "id": "278f6e4b",
   "metadata": {},
   "outputs": [],
   "source": [
    "predictor = TabularPredictor.load(\"AutogluonModels/model_fast_20250629_0112\")\n"
   ]
  },
  {
   "cell_type": "code",
   "execution_count": null,
   "id": "47e1e59c",
   "metadata": {},
   "outputs": [
    {
     "name": "stderr",
     "output_type": "stream",
     "text": [
      "Fitting 1 L1 models, fit_strategy=\"sequential\" ...\n",
      "Fitting model: NeuralNetTorchNN_LightFast_BAG_L1 ... Training model for up to 1800.00s of the 1800.00s of remaining time.\n",
      "\tFitting 3 child models (S1F1 - S1F3) | Fitting with SequentialLocalFoldFittingStrategy\n"
     ]
    }
   ],
   "source": [
    "predictor.fit_extra(\n",
    "    time_limit=1800,  # 30 minutos\n",
    "    ag_args_ensemble={\n",
    "        'fold_fitting_strategy': 'sequential_local',\n",
    "        'num_bag_folds': 1  # 👈 solo 1 fold para asegurar que termine\n",
    "    },\n",
    "    fit_weighted_ensemble=True,\n",
    "    hyperparameters={\n",
    "        'NN_TORCH': [{\n",
    "            'num_epochs': 4,\n",
    "            'learning_rate': 0.01,\n",
    "            'dropout_prob': 0.1,\n",
    "            'weight_decay': 1e-5,\n",
    "            'batch_size': 256,\n",
    "            'hidden_size': 128,\n",
    "            'ag_args': {'name_suffix': 'NN_LightFast'},\n",
    "            'ag_args_fit': {\n",
    "                'num_gpus': 1,  # Usa GPU si está disponible\n",
    "            }\n",
    "        }]\n",
    "    },\n",
    "    verbosity=2\n",
    ")"
   ]
  },
  {
   "cell_type": "code",
   "execution_count": null,
   "id": "c26e5841",
   "metadata": {},
   "outputs": [],
   "source": [
    "predictor.fit_extra(\n",
    "    time_limit=600,  # 5 minutos\n",
    "    ag_args_ensemble={'fold_fitting_strategy': 'parallel_local'},\n",
    "    fit_weighted_ensemble=True,\n",
    "    hyperparameters={\n",
    "        'CAT': [{'ag_args': {'name_suffix': 'CAT_Quick'}\n",
    "        }]\n",
    "    },\n",
    "    verbosity=2\n",
    ")"
   ]
  },
  {
   "cell_type": "code",
   "execution_count": null,
   "id": "c6187325",
   "metadata": {},
   "outputs": [],
   "source": [
    "predictor.fit_extra(\n",
    "    time_limit=600,  # 5 minutos\n",
    "    ag_args_ensemble={'fold_fitting_strategy': 'parallel_local'},\n",
    "    fit_weighted_ensemble=True,\n",
    "    hyperparameters={\n",
    "        'XGB': [{\n",
    "            'n_estimators': 150,\n",
    "            'early_stopping_rounds': 10,\n",
    "            'learning_rate': 0.05,\n",
    "            'booster': 'gbtree',\n",
    "            'ag_args': {'name_suffix': 'XGB_Quick'}\n",
    "        }]\n",
    "    },\n",
    "    verbosity=2\n",
    ")"
   ]
  },
  {
   "cell_type": "code",
   "execution_count": null,
   "id": "b375bc4a",
   "metadata": {},
   "outputs": [],
   "source": [
    "import datetime\n",
    "gc.collect()\n",
    "# === Configuración general ===\n",
    "label_column = 'CLASE_DELTA_ZSCORE_CLIP'\n",
    "output_path = f\"AutogluonModels/model_gbm_{datetime.datetime.now().strftime('%Y%m%d_%H%M')}\"\n",
    "\n",
    "# === Entrenamiento ===\n",
    "predictor = TabularPredictor(\n",
    "    label=label_column,\n",
    "    problem_type='regression',\n",
    "    eval_metric='mean_absolute_error',\n",
    "    path=output_path\n",
    ").fit(\n",
    "    train_data=df_train,\n",
    "    tuning_data=df_val,\n",
    "    use_bag_holdout=True,\n",
    "    presets='medium_quality',\n",
    "    num_bag_folds=8,         # Mayor robustez\n",
    "    num_bag_sets=2,          # Mejor estimación out-of-fold\n",
    "    auto_stack=True,         # Activar stacking desde el inicio\n",
    "    time_limit=10800,\n",
    "    ag_args_ensemble={'fold_fitting_strategy': 'parallel_local'},\n",
    "    hyperparameters={\n",
    "        'GBM': [\n",
    "            {\n",
    "                'ag_args': {'name_suffix': 'XT'},\n",
    "                'extra_trees': True,\n",
    "                'time_limit': 600,\n",
    "                'early_stopping_rounds': 20,\n",
    "            },\n",
    "            {\n",
    "                'ag_args': {'name_suffix': 'LinearTree'},\n",
    "                'linear_tree': True,\n",
    "                'time_limit': 600,\n",
    "                'early_stopping_rounds': 20,\n",
    "            },\n",
    "            {\n",
    "                'ag_args': {'name_suffix': 'Default'},\n",
    "                'num_leaves': 31,\n",
    "                'feature_fraction': 0.8,\n",
    "                'bagging_fraction': 0.8,\n",
    "                'time_limit': 600,\n",
    "                'early_stopping_rounds': 20,\n",
    "            }\n",
    "        ]\n",
    "    }\n",
    ")\n"
   ]
  },
  {
   "cell_type": "code",
   "execution_count": null,
   "id": "d2503094",
   "metadata": {},
   "outputs": [],
   "source": [
    "# === Cargar modelo ya entrenado ===\n",
    "#predictor = TabularPredictor.load(\"AutogluonModels/model_gbm\")\n",
    "\n",
    "predictor.fit_extra(\n",
    "    time_limit=10800,  # Tiempo total disponible para todos los modelos nuevos\n",
    "    ag_args_ensemble={'fold_fitting_strategy': 'parallel_local'},\n",
    "    fit_weighted_ensemble=True,  # Activar Weighted Ensemble\n",
    "    hyperparameters={\n",
    "        'XGB': [{\n",
    "            'n_estimators': 1000,\n",
    "            'early_stopping_rounds': 25,\n",
    "            'learning_rate': 0.03,\n",
    "            'booster': 'gbtree',\n",
    "            'ag_args': {'name_suffix': 'XGB_Custom'}\n",
    "        }],\n",
    "        'CAT': [{\n",
    "            'ag_args_fit': {'time_limit': 1200},\n",
    "            'ag_args': {'name_suffix': 'CAT_Custom'}\n",
    "        }],\n",
    "        'NN_TORCH': [{\n",
    "            'num_epochs': 50,\n",
    "            'learning_rate': 0.003,\n",
    "            'layers': [1024, 512, 256],\n",
    "            'dropout_prob': 0.3,\n",
    "            'weight_decay': 1e-5,\n",
    "            'batch_size': 2048,\n",
    "            'ag_args': {'name_suffix': 'DeepCustom'},\n",
    "            'ag_args_fit': {'num_gpus': 1}\n",
    "        }]\n",
    "    },\n",
    "    verbosity=2\n",
    ")\n"
   ]
  },
  {
   "cell_type": "code",
   "execution_count": null,
   "id": "c08426fd",
   "metadata": {},
   "outputs": [],
   "source": [
    "# Comparar MAE y MedAE en el leaderboard\n",
    "lb = predictor.leaderboard(data = df_val, extra_metrics=['mean_absolute_error', 'median_absolute_error', 'r2'], silent=False)"
   ]
  },
  {
   "cell_type": "code",
   "execution_count": null,
   "id": "a3b1f98b",
   "metadata": {},
   "outputs": [],
   "source": [
    "predictor.get_model_best().get_info()['stacker_model'].weights"
   ]
  },
  {
   "cell_type": "code",
   "execution_count": null,
   "id": "50559ac1",
   "metadata": {},
   "outputs": [],
   "source": [
    "# Evaluar feature importance sobre el conjunto de validación\n",
    "importancia = predictor.feature_importance(df_val)"
   ]
  },
  {
   "cell_type": "code",
   "execution_count": null,
   "id": "ac970579",
   "metadata": {},
   "outputs": [],
   "source": [
    "# Combinar entrenamiento + validación\n",
    "df_full = pd.concat([df_train, df_val], axis=0)\n",
    "del df_train, df_val\n",
    "gc.collect()"
   ]
  },
  {
   "cell_type": "code",
   "execution_count": null,
   "id": "e31acb87",
   "metadata": {},
   "outputs": [],
   "source": [
    "# Reentrenar el mejor modelo con TODOS los datos disponibles\n",
    "predictor_full = predictor.refit_full(train_data=df_full)"
   ]
  },
  {
   "cell_type": "code",
   "execution_count": null,
   "id": "d9fdca08",
   "metadata": {},
   "outputs": [],
   "source": [
    "# Verificar los modelos disponibles (el mejor ahora tiene el sufijo '_FULL')\n",
    "print(\"Modelos disponibles luego del refit completo:\")\n",
    "print(predictor.leaderboard(silent=True)['model'].tolist())\n",
    "# Eliminar modelos intermedios para liberar espacio\n",
    "predictor.delete_models(models_to_keep='best', dry_run=False)\n",
    "\n",
    "# Confirmar que solo queda el modelo reentrenado\n",
    "print(\"\\nModelos restantes después de eliminar los intermedios:\")\n",
    "print(predictor.leaderboard(silent=True)['model'].tolist())\n",
    "\n",
    "# (Opcional) Guardar el predictor final si querés usarlo luego sin volver a cargar todo\n",
    "predictor.save('./data/modelo_final_autogluon')\n",
    "\n",
    "# ---  Liberar memoria ---\n",
    "del df_full\n",
    "gc.collect()\n"
   ]
  },
  {
   "cell_type": "code",
   "execution_count": null,
   "id": "e32fcd66",
   "metadata": {},
   "outputs": [],
   "source": [
    "# Cargo los datos sobre los que quiero hacer predicciones\n",
    "df_pred_full = pd.read_parquet('./data/l_vm_completa_normalizada_fe.parquet', engine='fastparquet')\n",
    "# Dejo solo los datos del periodo 201910 y que A_PREDECIR sea True\n",
    "# Filtrar solo los datos del periodo 201910 y donde A_PREDECIR sea True\n",
    "df_pred_full = df_pred_full[\n",
    "    (df_pred_full['PERIODO'] == 201910) & (df_pred_full['A_PREDECIR'] == True)\n",
    "].drop(columns=['CLASE_ZSCORE', 'CLASE_DELTA_ZSCORE'])"
   ]
  },
  {
   "cell_type": "code",
   "execution_count": null,
   "id": "ee7da41a",
   "metadata": {},
   "outputs": [],
   "source": [
    "# Realizar las predicciones usando el predictor original\n",
    "predictions = predictor.predict(df_pred_full)\n",
    "# Agregar las predicciones al DataFrame original\n",
    "df_pred_full['CLASE_DELTA_ZSCORE'] = predictions"
   ]
  },
  {
   "cell_type": "code",
   "execution_count": null,
   "id": "be3f5677",
   "metadata": {},
   "outputs": [],
   "source": [
    "# Imprimir la lista de columas del DataFrame con las predicciones\n",
    "print(\"Columnas del DataFrame con las predicciones:\")\n",
    "print(df_pred_full.columns.tolist())"
   ]
  },
  {
   "cell_type": "code",
   "execution_count": null,
   "id": "1d459184",
   "metadata": {},
   "outputs": [],
   "source": [
    "# Dernormalizar la columna CLASE_DELTA_ZSCORE\n",
    "df_pred_full['CLASE_DELTA'] = df_pred_full['CLASE_DELTA_ZSCORE'] * df_pred_full['CLASE_DELTA_STD'] + df_pred_full['CLASE_DELTA_MEAN']\n",
    "df_pred_full['TN'] = df_pred_full['TN_ZSCORE'] * df_pred_full['TN_STD'] + df_pred_full['TN_MEAN']\n",
    "# Agregar la columna TN_PREDICT que sea la suma de TN y CLASE_DELTA y si es menor que cero, poner cero\n",
    "df_pred_full['TN_PREDICT'] = df_pred_full['TN'] + df_pred_full['CLASE_DELTA']\n",
    "df_pred_full['TN_PREDICT'] = df_pred_full['TN_PREDICT'].clip(lower=0)"
   ]
  },
  {
   "cell_type": "code",
   "execution_count": null,
   "id": "4d822ae9",
   "metadata": {},
   "outputs": [],
   "source": [
    "# Generar Dataframe que contenga por cada PRODUCT_ID la suma de TN_PREDICT\n",
    "df_final = df_pred_full.groupby('PRODUCT_ID').agg({'TN_PREDICT': 'sum'}).reset_index()\n",
    "df_final = df_final.rename(columns={'PRODUCT_ID': 'product_id', 'TN_PREDICT': 'tn'})\n",
    "# Guardar el DataFrame df_final en un archivo CSV\n",
    "df_final.to_csv('./modelos/autoglun_normalizando_clase_delta.csv', index=False)\n",
    "df_final.shape\n"
   ]
  }
 ],
 "metadata": {
  "kernelspec": {
   "display_name": "LaboIII",
   "language": "python",
   "name": "python3"
  },
  "language_info": {
   "codemirror_mode": {
    "name": "ipython",
    "version": 3
   },
   "file_extension": ".py",
   "mimetype": "text/x-python",
   "name": "python",
   "nbconvert_exporter": "python",
   "pygments_lexer": "ipython3",
   "version": "3.9.23"
  }
 },
 "nbformat": 4,
 "nbformat_minor": 5
}
