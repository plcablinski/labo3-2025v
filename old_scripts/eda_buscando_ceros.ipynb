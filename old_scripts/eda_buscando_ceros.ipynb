{
 "cells": [
  {
   "cell_type": "code",
   "execution_count": 1,
   "id": "eb576fd4",
   "metadata": {},
   "outputs": [],
   "source": [
    "import lightgbm as lgb\n",
    "import numpy as np\n",
    "import pandas as pd\n",
    "import numpy as np\n",
    "import gc\n",
    "import os\n",
    "import optuna\n",
    "import sqlite3\n",
    "import ray\n",
    "import matplotlib.pyplot as plt\n",
    "import polars as pl\n",
    "from optuna.integration import LightGBMPruningCallback\n",
    "from autogluon.tabular import TabularPredictor\n",
    "from sklearn.metrics import mean_squared_error, mean_absolute_error\n",
    "from joblib import Parallel, delayed\n",
    "from more_itertools import chunked\n",
    "from functools import reduce\n",
    "from typing import List\n",
    "from itertools import combinations"
   ]
  },
  {
   "cell_type": "code",
   "execution_count": 2,
   "id": "1e764452",
   "metadata": {},
   "outputs": [],
   "source": [
    "gc.collect()\n",
    "df_full = pd.read_parquet('./data/l_vm_completa_train.parquet', engine='fastparquet')"
   ]
  },
  {
   "cell_type": "code",
   "execution_count": 6,
   "id": "802e5501",
   "metadata": {},
   "outputs": [],
   "source": [
    "# Eliminar de df_full las filas donde la columna A_PREDECIR sea 'N'\n",
    "df_full = df_full[df_full['A_PREDECIR'] != 'N']\n",
    "df_full = df_full.drop(columns=['A_PREDECIR'])"
   ]
  },
  {
   "cell_type": "code",
   "execution_count": 10,
   "id": "7c2e56e7",
   "metadata": {},
   "outputs": [
    {
     "name": "stdout",
     "output_type": "stream",
     "text": [
      "Productos con TN solo ceros: 0\n"
     ]
    }
   ],
   "source": [
    "# QUiero que busques en df_full los product_id, customer_id que solo tienen ceros en TN\n",
    "def buscar_productos_solo_ceros(df: pd.DataFrame) -> pd.DataFrame:\n",
    "    # Agrupar por product_id y customer_id, y sumar los valores de TN\n",
    "    grouped = df.groupby(['PRODUCT_ID', 'CUSTOMER_ID'])['TN'].sum().reset_index()\n",
    "    \n",
    "    # Filtrar aquellos que tienen suma de TN igual a 0\n",
    "    productos_solo_ceros = grouped[grouped['TN'] == 0]\n",
    "    \n",
    "    return productos_solo_ceros\n",
    "productos_solo_ceros = buscar_productos_solo_ceros(df_full)\n",
    "print(f\"Productos con TN solo ceros: {len(productos_solo_ceros)}\")"
   ]
  },
  {
   "cell_type": "code",
   "execution_count": 9,
   "id": "2b595dbd",
   "metadata": {},
   "outputs": [],
   "source": [
    "# Eliminar del df_full los product_id, customer_id que solo tienen ceros en TN\n",
    "def eliminar_productos_solo_ceros(df: pd.DataFrame, productos_solo_ceros: pd.DataFrame) -> pd.DataFrame:\n",
    "    # Convertir productos_solo_ceros a un set para una búsqueda más rápida\n",
    "    productos_set = set(zip(productos_solo_ceros['PRODUCT_ID'], productos_solo_ceros['CUSTOMER_ID']))\n",
    "    \n",
    "    # Filtrar el DataFrame original\n",
    "    df_filtrado = df[~df.set_index(['PRODUCT_ID', 'CUSTOMER_ID']).index.isin(productos_set)]\n",
    "    \n",
    "    return df_filtrado\n",
    "df_full = eliminar_productos_solo_ceros(df_full, productos_solo_ceros)"
   ]
  },
  {
   "cell_type": "code",
   "execution_count": 8,
   "id": "a5774815",
   "metadata": {},
   "outputs": [
    {
     "name": "stdout",
     "output_type": "stream",
     "text": [
      "     PRODUCT_ID  CUSTOMER_ID   TN\n",
      "84        20001        10085  0.0\n",
      "141       20001        10142  0.0\n",
      "165       20001        10166  0.0\n",
      "167       20001        10168  0.0\n",
      "173       20001        10174  0.0\n",
      "176       20001        10177  0.0\n",
      "190       20001        10191  0.0\n",
      "209       20001        10210  0.0\n",
      "215       20001        10216  0.0\n",
      "218       20001        10219  0.0\n"
     ]
    }
   ],
   "source": [
    "# Ordenar los productos por PRODUCT_ID y CUSTOMER_ID\n",
    "productos_solo_ceros = productos_solo_ceros.sort_values(by=['PRODUCT_ID', 'CUSTOMER_ID'])\n",
    "# Mostrar los primeros 10 productos\n",
    "print(productos_solo_ceros.head(10))"
   ]
  }
 ],
 "metadata": {
  "kernelspec": {
   "display_name": "LaboIII",
   "language": "python",
   "name": "python3"
  },
  "language_info": {
   "codemirror_mode": {
    "name": "ipython",
    "version": 3
   },
   "file_extension": ".py",
   "mimetype": "text/x-python",
   "name": "python",
   "nbconvert_exporter": "python",
   "pygments_lexer": "ipython3",
   "version": "3.9.23"
  }
 },
 "nbformat": 4,
 "nbformat_minor": 5
}
