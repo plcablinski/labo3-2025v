{
 "cells": [
  {
   "cell_type": "code",
   "execution_count": 1,
   "id": "a41eccff",
   "metadata": {},
   "outputs": [],
   "source": [
    "import numpy as np\n",
    "import pandas as pd\n",
    "import gc\n",
    "import os\n",
    "import matplotlib.pyplot as plt\n",
    "import polars as pl\n",
    "from sklearn.metrics import mean_squared_error, mean_absolute_error\n",
    "from joblib import Parallel, delayed\n",
    "from more_itertools import chunked\n",
    "from functools import reduce\n",
    "from typing import List\n",
    "from sklearn.preprocessing import LabelEncoder\n",
    "from sklearn.preprocessing import StandardScaler\n",
    "import pandas as pd\n",
    "import joblib\n",
    "import os\n"
   ]
  },
  {
   "cell_type": "markdown",
   "id": "2c9628af",
   "metadata": {},
   "source": [
    "El objetivo de este Notebook es preparar los datos para modelar con redes neuronales"
   ]
  },
  {
   "cell_type": "code",
   "execution_count": 2,
   "id": "c9cd76b4",
   "metadata": {},
   "outputs": [],
   "source": [
    "# Reducir memoria automáticamente\n",
    "def optimizar_memoria(df):\n",
    "    for col in df.select_dtypes(include=['int64', 'int32']).columns:\n",
    "        df[col] = pd.to_numeric(df[col], downcast='integer')\n",
    "    for col in df.select_dtypes(include=['float64', 'float32']).columns:\n",
    "        df[col] = pd.to_numeric(df[col], downcast='float')\n",
    "    return df"
   ]
  },
  {
   "cell_type": "code",
   "execution_count": 3,
   "id": "2d1dd9da",
   "metadata": {},
   "outputs": [],
   "source": [
    "# Abrir el archivo parquet y cargarlo en un DataFrame data/l_vm_completa_train_pendientes.parquet\n",
    "gc.collect()\n",
    "df_full = pd.read_parquet('./data/l_vm_completa_train.parquet', engine='fastparquet')\n",
    "df_pendientes = pd.read_parquet('./data/l_vm_completa_train_pendientes.parquet', engine='fastparquet')"
   ]
  },
  {
   "cell_type": "code",
   "execution_count": 4,
   "id": "1990a401",
   "metadata": {},
   "outputs": [],
   "source": [
    "# Concatenar los DataFrames df_full y df_pendientes por PRODUCT_ID,CUSTOMER_ID y PERIODO\n",
    "df_full = pd.merge(\n",
    "    df_full,\n",
    "    df_pendientes,\n",
    "    on=['PRODUCT_ID', 'CUSTOMER_ID', 'PERIODO'],\n",
    "    how='inner'  # solo filas que existen en ambos DataFrames\n",
    ")"
   ]
  },
  {
   "cell_type": "code",
   "execution_count": 5,
   "id": "ccba47f0",
   "metadata": {},
   "outputs": [
    {
     "name": "stdout",
     "output_type": "stream",
     "text": [
      "🔍 Combinaciones PRODUCT_ID + CUSTOMER_ID con TN = 0 en todos sus registros: 327068\n",
      "🗑️ Filas eliminadas de df_full: 6,594,430\n"
     ]
    }
   ],
   "source": [
    "# Buscar en df_full los product_id, customer_id que solo tienen ceros en TN\n",
    "def buscar_productos_solo_ceros(df: pd.DataFrame) -> pd.DataFrame:\n",
    "    grouped = df.groupby(['PRODUCT_ID', 'CUSTOMER_ID'])['TN'].sum().reset_index()\n",
    "    productos_solo_ceros = grouped[grouped['TN'] == 0]\n",
    "    return productos_solo_ceros\n",
    "\n",
    "productos_solo_ceros = buscar_productos_solo_ceros(df_full)\n",
    "print(f\"🔍 Combinaciones PRODUCT_ID + CUSTOMER_ID con TN = 0 en todos sus registros: {len(productos_solo_ceros)}\")\n",
    "\n",
    "# Eliminar del df_full los product_id, customer_id que solo tienen ceros en TN\n",
    "def eliminar_productos_solo_ceros(df: pd.DataFrame, productos_solo_ceros: pd.DataFrame) -> pd.DataFrame:\n",
    "    productos_set = set(zip(productos_solo_ceros['PRODUCT_ID'], productos_solo_ceros['CUSTOMER_ID']))\n",
    "    mask = df.set_index(['PRODUCT_ID', 'CUSTOMER_ID']).index.isin(productos_set)\n",
    "    \n",
    "    cantidad_eliminada = mask.sum()\n",
    "    print(f\"🗑️ Filas eliminadas de df_full: {cantidad_eliminada:,}\")\n",
    "    \n",
    "    df_filtrado = df[~mask]\n",
    "    return df_filtrado\n",
    "\n",
    "df_full = eliminar_productos_solo_ceros(df_full, productos_solo_ceros)\n"
   ]
  },
  {
   "cell_type": "code",
   "execution_count": 6,
   "id": "7d03193a",
   "metadata": {},
   "outputs": [],
   "source": [
    "# Eliminar de df_full las filas donde la columna A_PREDECIR sea 'N'\n",
    "df_full = df_full[df_full['A_PREDECIR'] != 'N']\n",
    "df_full = df_full.drop(columns=['A_PREDECIR'])"
   ]
  },
  {
   "cell_type": "code",
   "execution_count": 7,
   "id": "aad9c519",
   "metadata": {},
   "outputs": [
    {
     "name": "stdout",
     "output_type": "stream",
     "text": [
      "Total de combinaciones que mueven la aguja: 19050\n",
      "Combinaciones que NO mueven la aguja: 243755\n",
      "Promedio de valores absolutos de TN que mueven la aguja: 50.53084197900262\n",
      "Promedio de valores absolutos de TN que NO mueven la aguja: 0.6563667518615002\n",
      "Mediana de valores absolutos de TN que mueven la aguja: 14.8093\n",
      "Mediana de valores absolutos de TN que NO mueven la aguja: 0.09924999999999999\n"
     ]
    }
   ],
   "source": [
    "# Calcular para cada combinación:\n",
    "grouped = df_full.groupby(['PRODUCT_ID', 'CUSTOMER_ID'])\n",
    "stats = grouped['TN'].agg(\n",
    "    count='count',\n",
    "    nonzero_count=lambda x: (x != 0).sum(),\n",
    "    nonzero_pct=lambda x: (x != 0).mean(),\n",
    "    abs_sum=lambda x: x.abs().sum(),\n",
    "    mean='mean'\n",
    ").reset_index()\n",
    "\n",
    "# Definir criterio de \"mover la aguja\" (ajustá los thresholds)\n",
    "min_n_nonzero = 12   # mínimo 12 movimientos\n",
    "min_pct_nonzero = 0.30  # al menos 30% de los registros son no cero\n",
    "min_abs_sum = 5    # suma absoluta de los movimientos\n",
    "\n",
    "mueven_aguja = stats[\n",
    "    (stats['nonzero_count'] >= min_n_nonzero) &\n",
    "    (stats['nonzero_pct'] >= min_pct_nonzero) &\n",
    "    (stats['abs_sum'] >= min_abs_sum)\n",
    "]\n",
    "\n",
    "print(f'Total de combinaciones que mueven la aguja: {len(mueven_aguja)}')\n",
    "\n",
    "# Para las combinaciones que NO mueven la aguja, guardá el promedio histórico\n",
    "otros = stats[~stats.set_index(['PRODUCT_ID', 'CUSTOMER_ID']).index.isin(\n",
    "    mueven_aguja.set_index(['PRODUCT_ID', 'CUSTOMER_ID']).index\n",
    ")]\n",
    "promedio_mueven_aguja = mueven_aguja[['PRODUCT_ID', 'CUSTOMER_ID', 'mean']]\n",
    "otros_promedios = otros[['PRODUCT_ID', 'CUSTOMER_ID', 'mean']]\n",
    "print(f'Combinaciones que NO mueven la aguja: {len(otros)}')\n",
    "# Mostrar los promedio de los valores absolutos de TN para los que mueven la aguja y los que no\n",
    "print(f'Promedio de valores absolutos de TN que mueven la aguja: {mueven_aguja[\"abs_sum\"].mean()}')\n",
    "print(f'Promedio de valores absolutos de TN que NO mueven la aguja: {otros[\"abs_sum\"].mean()}')\n",
    "print(f'Mediana de valores absolutos de TN que mueven la aguja: {mueven_aguja[\"abs_sum\"].median()}')\n",
    "print(f'Mediana de valores absolutos de TN que NO mueven la aguja: {otros[\"abs_sum\"].median()}')\n"
   ]
  },
  {
   "cell_type": "code",
   "execution_count": 8,
   "id": "a4252433",
   "metadata": {},
   "outputs": [
    {
     "data": {
      "image/png": "[encoded data removed]",
      "text/plain": [
       "<Figure size 640x480 with 1 Axes>"
      ]
     },
     "metadata": {},
     "output_type": "display_data"
    }
   ],
   "source": [
    "import matplotlib.pyplot as plt\n",
    "\n",
    "plt.hist(stats['abs_sum'], bins=100, log=True)\n",
    "plt.title(\"Distribución de abs_sum por combinación\")\n",
    "plt.xlabel(\"Suma absoluta de TN\")\n",
    "plt.ylabel(\"Cantidad de combinaciones\")\n",
    "plt.show()\n"
   ]
  },
  {
   "cell_type": "code",
   "execution_count": 9,
   "id": "9f27b0d8",
   "metadata": {},
   "outputs": [
    {
     "data": {
      "image/png": "[encoded data removed]",
      "text/plain": [
       "<Figure size 800x500 with 1 Axes>"
      ]
     },
     "metadata": {},
     "output_type": "display_data"
    }
   ],
   "source": [
    "import matplotlib.pyplot as plt\n",
    "\n",
    "plt.figure(figsize=(8, 5))\n",
    "plt.hist(stats['nonzero_count'], bins=50, alpha=0.7, color='skyblue', edgecolor='k')\n",
    "plt.title('Distribución de nonzero_count (cantidad de TN ≠ 0 por combinación)')\n",
    "plt.xlabel('Cantidad de registros TN ≠ 0')\n",
    "plt.ylabel('Cantidad de combinaciones')\n",
    "plt.grid(True, axis='y', linestyle=':')\n",
    "plt.tight_layout()\n",
    "plt.show()"
   ]
  },
  {
   "cell_type": "code",
   "execution_count": 10,
   "id": "33ed1638",
   "metadata": {},
   "outputs": [
    {
     "data": {
      "image/png": "[encoded data removed]",
      "text/plain": [
       "<Figure size 800x500 with 1 Axes>"
      ]
     },
     "metadata": {},
     "output_type": "display_data"
    }
   ],
   "source": [
    "plt.figure(figsize=(8, 5))\n",
    "plt.hist(stats['nonzero_pct'], bins=50, alpha=0.7, color='salmon', edgecolor='k')\n",
    "plt.title('Distribución de nonzero_pct (% de TN ≠ 0 por combinación)')\n",
    "plt.xlabel('Porcentaje de registros TN ≠ 0')\n",
    "plt.ylabel('Cantidad de combinaciones')\n",
    "plt.grid(True, axis='y', linestyle=':')\n",
    "plt.tight_layout()\n",
    "plt.show()"
   ]
  },
  {
   "cell_type": "code",
   "execution_count": 11,
   "id": "740abae9",
   "metadata": {},
   "outputs": [
    {
     "name": "stdout",
     "output_type": "stream",
     "text": [
      "min_n_nonzero=8, min_pct_nonzero=0.20: 21068 combinaciones, cobertura=88.51%\n",
      "min_n_nonzero=8, min_pct_nonzero=0.25: 20755 combinaciones, cobertura=88.14%\n",
      "min_n_nonzero=8, min_pct_nonzero=0.30: 19980 combinaciones, cobertura=87.18%\n",
      "min_n_nonzero=8, min_pct_nonzero=0.35: 19106 combinaciones, cobertura=85.96%\n",
      "min_n_nonzero=8, min_pct_nonzero=0.40: 17898 combinaciones, cobertura=84.18%\n",
      "min_n_nonzero=8, min_pct_nonzero=0.45: 16575 combinaciones, cobertura=82.10%\n",
      "min_n_nonzero=8, min_pct_nonzero=0.50: 15831 combinaciones, cobertura=80.78%\n",
      "min_n_nonzero=10, min_pct_nonzero=0.20: 20112 combinaciones, cobertura=87.25%\n",
      "min_n_nonzero=10, min_pct_nonzero=0.25: 20112 combinaciones, cobertura=87.25%\n",
      "min_n_nonzero=10, min_pct_nonzero=0.30: 19710 combinaciones, cobertura=86.75%\n",
      "min_n_nonzero=10, min_pct_nonzero=0.35: 18856 combinaciones, cobertura=85.55%\n",
      "min_n_nonzero=10, min_pct_nonzero=0.40: 17663 combinaciones, cobertura=83.78%\n",
      "min_n_nonzero=10, min_pct_nonzero=0.45: 16397 combinaciones, cobertura=81.77%\n",
      "min_n_nonzero=10, min_pct_nonzero=0.50: 15691 combinaciones, cobertura=80.48%\n",
      "min_n_nonzero=12, min_pct_nonzero=0.20: 19050 combinaciones, cobertura=85.75%\n",
      "min_n_nonzero=12, min_pct_nonzero=0.25: 19050 combinaciones, cobertura=85.75%\n",
      "min_n_nonzero=12, min_pct_nonzero=0.30: 19050 combinaciones, cobertura=85.75%\n",
      "min_n_nonzero=12, min_pct_nonzero=0.35: 18621 combinaciones, cobertura=85.14%\n",
      "min_n_nonzero=12, min_pct_nonzero=0.40: 17453 combinaciones, cobertura=83.39%\n",
      "min_n_nonzero=12, min_pct_nonzero=0.45: 16212 combinaciones, cobertura=81.41%\n",
      "min_n_nonzero=12, min_pct_nonzero=0.50: 15527 combinaciones, cobertura=80.15%\n",
      "min_n_nonzero=15, min_pct_nonzero=0.20: 17043 combinaciones, cobertura=82.72%\n",
      "min_n_nonzero=15, min_pct_nonzero=0.25: 17043 combinaciones, cobertura=82.72%\n",
      "min_n_nonzero=15, min_pct_nonzero=0.30: 17043 combinaciones, cobertura=82.72%\n",
      "min_n_nonzero=15, min_pct_nonzero=0.35: 17043 combinaciones, cobertura=82.72%\n",
      "min_n_nonzero=15, min_pct_nonzero=0.40: 17043 combinaciones, cobertura=82.72%\n",
      "min_n_nonzero=15, min_pct_nonzero=0.45: 15852 combinaciones, cobertura=80.83%\n",
      "min_n_nonzero=15, min_pct_nonzero=0.50: 15187 combinaciones, cobertura=79.60%\n"
     ]
    }
   ],
   "source": [
    "for min_n in [8, 10, 12, 15]:\n",
    "    for min_pct in [0.20, 0.25, 0.30, 0.35, 0.40, 0.45, 0.50]:\n",
    "        seleccion = stats[\n",
    "            (stats['nonzero_count'] >= min_n) &\n",
    "            (stats['nonzero_pct'] >= min_pct) &\n",
    "            (stats['abs_sum'] >= min_abs_sum)\n",
    "        ]\n",
    "        cobertura = seleccion['abs_sum'].sum() / stats['abs_sum'].sum()\n",
    "        print(f\"min_n_nonzero={min_n}, min_pct_nonzero={min_pct:.2f}: {len(seleccion)} combinaciones, cobertura={cobertura*100:.2f}%\")\n",
    "\n"
   ]
  },
  {
   "cell_type": "code",
   "execution_count": 12,
   "id": "d58c64f5",
   "metadata": {},
   "outputs": [
    {
     "name": "stdout",
     "output_type": "stream",
     "text": [
      "Archivo 'promedios_tn_no_mueven_aguja.csv' generado correctamente.\n",
      "df_full ahora contiene solo las combinaciones que mueven la aguja: (702853, 95)\n"
     ]
    }
   ],
   "source": [
    "import pandas as pd\n",
    "\n",
    "# Suponiendo que ya tenés df_full y stats armados\n",
    "\n",
    "# 1. Definir el filtro para \"mueven la aguja\"\n",
    "filtro = (\n",
    "    (stats['nonzero_count'] >= 10) &\n",
    "    (stats['nonzero_pct'] >= 0.25) &\n",
    "    (stats['abs_sum'] >= 5)\n",
    ")\n",
    "mueven_aguja = stats[filtro]\n",
    "\n",
    "# 2. Set de combinaciones activas\n",
    "set_mueven_aguja = set(zip(mueven_aguja['PRODUCT_ID'], mueven_aguja['CUSTOMER_ID']))\n",
    "\n",
    "# 3. Filtrar combinaciones que NO mueven la aguja\n",
    "mask_no_aguja = ~df_full.set_index(['PRODUCT_ID', 'CUSTOMER_ID']).index.isin(set_mueven_aguja)\n",
    "df_no_aguja = df_full[mask_no_aguja].copy()\n",
    "\n",
    "# 4. Calcular promedios TN por combinación inactiva\n",
    "promedios_no_aguja = (\n",
    "    df_no_aguja\n",
    "    .groupby(['PRODUCT_ID', 'CUSTOMER_ID'])['TN']\n",
    "    .mean()\n",
    "    .reset_index()\n",
    "    .rename(columns={'TN': 'TN_MEAN'})\n",
    ")\n",
    "\n",
    "# 5. Guardar a CSV\n",
    "promedios_no_aguja.to_csv('promedios_tn_no_mueven_aguja.csv', index=False)\n",
    "\n",
    "print(\"Archivo 'promedios_tn_no_mueven_aguja.csv' generado correctamente.\")\n",
    "\n",
    "# 6.  Filtrar df_full para que contenga SOLO los que mueven la aguja\n",
    "mask_mueven_aguja = df_full.set_index(['PRODUCT_ID', 'CUSTOMER_ID']).index.isin(set_mueven_aguja)\n",
    "df_full = df_full[mask_mueven_aguja].copy()\n",
    "print(\"df_full ahora contiene solo las combinaciones que mueven la aguja:\", df_full.shape)"
   ]
  },
  {
   "cell_type": "code",
   "execution_count": 14,
   "id": "f4695127",
   "metadata": {},
   "outputs": [],
   "source": [
    "# 7. Calcular medianas TN por combinación inactiva\n",
    "medianas_no_aguja = (\n",
    "    df_no_aguja\n",
    "    .groupby(['PRODUCT_ID', 'CUSTOMER_ID'])['TN']\n",
    "    .median()\n",
    "    .reset_index()\n",
    "    .rename(columns={'TN': 'TN_MEDIAN'})\n",
    ")\n",
    "medianas_no_aguja.to_csv('medianas_tn_no_mueven_aguja.csv', index=False)"
   ]
  },
  {
   "cell_type": "code",
   "execution_count": 13,
   "id": "46edb4cf",
   "metadata": {},
   "outputs": [
    {
     "name": "stdout",
     "output_type": "stream",
     "text": [
      "Combinaciones PRODUCT_ID + CUSTOMER_ID que mueven la aguja: 20112\n"
     ]
    }
   ],
   "source": [
    "# contar las combinaciones PRODUCT_ID, CUSTOMER_ID que mueven la aguja\n",
    "print(f\"Combinaciones PRODUCT_ID + CUSTOMER_ID que mueven la aguja: {len(set(zip(df_full['PRODUCT_ID'], df_full['CUSTOMER_ID'])))}\")\n"
   ]
  },
  {
   "cell_type": "code",
   "execution_count": 94,
   "id": "355a135c",
   "metadata": {},
   "outputs": [],
   "source": [
    "# Agregar una columna que indique la diferencia en ORDINAL entre el ORDINAL actual y el ORDINAL anterior donde TN sea mayor a 0\n",
    "# para ese CUSTOMER_ID y PRODUCT_ID\n",
    "\n",
    "from joblib import Parallel, delayed\n",
    "import numpy as np\n",
    "import pandas as pd\n",
    "\n",
    "def calcular_mejoras_por_grupo(grupo):\n",
    "    grupo = grupo.sort_values('ORDINAL').copy()\n",
    "    ult_ordinal = None\n",
    "    valores = []\n",
    "\n",
    "    for _, row in grupo.iterrows():\n",
    "        if ult_ordinal is None:\n",
    "            valores.append(36)\n",
    "        else:\n",
    "            valores.append(int(row['ORDINAL'] - ult_ordinal))\n",
    "\n",
    "        if row['TN'] > 0:\n",
    "            ult_ordinal = row['ORDINAL']\n",
    "\n",
    "    grupo['MESES_SIN_COMPRAR_PRODUCT_CUSTOMER_ID'] = np.array(valores, dtype=np.int16)\n",
    "    return grupo\n",
    "\n",
    "def agregar_diferencia_ordinal_parallel(df: pd.DataFrame, n_jobs: int = -1) -> pd.DataFrame:\n",
    "    df = df.copy()\n",
    "    df['MESES_SIN_COMPRAR_PRODUCT_CUSTOMER_ID'] = 36  # valor inicial\n",
    "    df['MESES_SIN_COMPRAR_PRODUCT_CUSTOMER_ID'] = df['MESES_SIN_COMPRAR_PRODUCT_CUSTOMER_ID'].astype('int16')\n",
    "\n",
    "    # Agrupar por cliente y producto\n",
    "    grupos = list(df.groupby(['CUSTOMER_ID', 'PRODUCT_ID']))\n",
    "\n",
    "    # Procesar en paralelo\n",
    "    resultados = Parallel(n_jobs=n_jobs, backend='loky', batch_size=128)(\n",
    "        delayed(calcular_mejoras_por_grupo)(grupo) for _, grupo in grupos\n",
    "    )\n",
    "\n",
    "    # Concatenar todos los resultados\n",
    "    df_resultado = pd.concat(resultados, axis=0).sort_index()\n",
    "    return df_resultado\n",
    "\n",
    "\n",
    "\n",
    "df_full = agregar_diferencia_ordinal_parallel(df_full, n_jobs=28)"
   ]
  },
  {
   "cell_type": "code",
   "execution_count": 95,
   "id": "8275d722",
   "metadata": {},
   "outputs": [],
   "source": [
    "from joblib import Parallel, delayed\n",
    "import numpy as np\n",
    "import pandas as pd\n",
    "\n",
    "def calcular_mejoras_por_producto(grupo):\n",
    "    grupo = grupo.sort_values('ORDINAL').copy()\n",
    "    ult_ordinal = None\n",
    "    valores = []\n",
    "\n",
    "    for _, row in grupo.iterrows():\n",
    "        if ult_ordinal is None:\n",
    "            valores.append(36)\n",
    "        else:\n",
    "            valores.append(int(row['ORDINAL'] - ult_ordinal))\n",
    "\n",
    "        if row['TN'] > 0:\n",
    "            ult_ordinal = row['ORDINAL']\n",
    "\n",
    "    grupo['MESES_SIN_COMPRAR_PRODUCT_ID'] = np.array(valores, dtype=np.int16)\n",
    "    return grupo\n",
    "\n",
    "def agregar_diferencia_ordinal_por_producto(df: pd.DataFrame, n_jobs: int = -1) -> pd.DataFrame:\n",
    "    df = df.copy()\n",
    "    df['MESES_SIN_COMPRAR_PRODUCT_ID'] = 36\n",
    "    df['MESES_SIN_COMPRAR_PRODUCT_ID'] = df['MESES_SIN_COMPRAR_PRODUCT_ID'].astype('int16')\n",
    "\n",
    "    # Agrupar solo por PRODUCT_ID\n",
    "    grupos = list(df.groupby('PRODUCT_ID'))\n",
    "\n",
    "    resultados = Parallel(n_jobs=n_jobs, backend='loky', batch_size=128)(\n",
    "        delayed(calcular_mejoras_por_producto)(grupo) for _, grupo in grupos\n",
    "    )\n",
    "\n",
    "    df_resultado = pd.concat(resultados, axis=0).sort_index()\n",
    "    return df_resultado\n",
    "\n",
    "df_full = agregar_diferencia_ordinal_por_producto(df_full, n_jobs=28)\n"
   ]
  },
  {
   "cell_type": "code",
   "execution_count": 96,
   "id": "651a8e4d",
   "metadata": {},
   "outputs": [],
   "source": [
    "from joblib import Parallel, delayed\n",
    "import numpy as np\n",
    "import pandas as pd\n",
    "\n",
    "def calcular_mejoras_por_cliente(grupo):\n",
    "    grupo = grupo.sort_values('ORDINAL').copy()\n",
    "    ult_ordinal = None\n",
    "    valores = []\n",
    "\n",
    "    for _, row in grupo.iterrows():\n",
    "        if ult_ordinal is None:\n",
    "            valores.append(36)\n",
    "        else:\n",
    "            valores.append(int(row['ORDINAL'] - ult_ordinal))\n",
    "\n",
    "        if row['TN'] > 0:\n",
    "            ult_ordinal = row['ORDINAL']\n",
    "\n",
    "    grupo['MESES_SIN_COMPRAR_CUSTOMER_ID'] = np.array(valores, dtype=np.int16)\n",
    "    return grupo\n",
    "\n",
    "def agregar_diferencia_ordinal_por_cliente(df: pd.DataFrame, n_jobs: int = -1) -> pd.DataFrame:\n",
    "    df = df.copy()\n",
    "    df['MESES_SIN_COMPRAR_CUSTOMER_ID'] = 36\n",
    "    df['MESES_SIN_COMPRAR_CUSTOMER_ID'] = df['MESES_SIN_COMPRAR_CUSTOMER_ID'].astype('int16')\n",
    "\n",
    "    grupos = list(df.groupby('CUSTOMER_ID'))\n",
    "\n",
    "    resultados = Parallel(n_jobs=n_jobs, backend='loky', batch_size=128)(\n",
    "        delayed(calcular_mejoras_por_cliente)(grupo) for _, grupo in grupos\n",
    "    )\n",
    "\n",
    "    df_resultado = pd.concat(resultados, axis=0).sort_index()\n",
    "    return df_resultado\n",
    "\n",
    "df_full = agregar_diferencia_ordinal_por_cliente(df_full, n_jobs=28)"
   ]
  },
  {
   "cell_type": "code",
   "execution_count": 97,
   "id": "ba02f672",
   "metadata": {},
   "outputs": [],
   "source": [
    "# Agregar a df_full una variable categorica MES_PROBLEMATICO que sea 1 si PERIODO es 201906 o 201908 o 201910, y 0 en caso contrario\n",
    "# Calcular los días del mes usando las columnas ANIO y MES\n",
    "\n",
    "# Agregar a df_full una variable categorica MES_PROBLEMATICO que sea 1 si ANIO==2019 y MES en [6, 8, 10], y 0 en caso contrario\n",
    "df_full['MES_PROBLEMATICO'] = np.where(\n",
    "       (df_full['ANIO'] == 2019) & (df_full['MES'].isin([6, 8, 10])),\n",
    "       1., 0.0\n",
    ")\n",
    "df_full['MES_PROBLEMATICO'] = df_full['MES_PROBLEMATICO'].astype(np.float32)"
   ]
  },
  {
   "cell_type": "code",
   "execution_count": 98,
   "id": "f26846e2",
   "metadata": {},
   "outputs": [],
   "source": [
    "# Guardar el DataFrame en parquet\n",
    "df_full.to_parquet('./data/interm_NN_TORCH.parquet', index=False, engine='fastparquet')"
   ]
  },
  {
   "cell_type": "code",
   "execution_count": 99,
   "id": "a78d2e85",
   "metadata": {},
   "outputs": [
    {
     "name": "stdout",
     "output_type": "stream",
     "text": [
      "['PERIODO', 'ANIO', 'MES', 'MES_SIN', 'MES_COS', 'TRIMESTRE', 'ID_CAT1', 'ID_CAT2', 'ID_CAT3', 'ID_BRAND', 'SKU_SIZE', 'CUSTOMER_ID', 'PRODUCT_ID', 'PLAN_PRECIOS_CUIDADOS', 'CUST_REQUEST_QTY', 'CUST_REQUEST_TN', 'TN', 'STOCK_FINAL', 'MEDIA_MOVIL_3M_CLI_PROD', 'MEDIA_MOVIL_6M_CLI_PROD', 'MEDIA_MOVIL_12M_CLI_PROD', 'DESVIO_MOVIL_3M_CLI_PROD', 'DESVIO_MOVIL_6M_CLI_PROD', 'DESVIO_MOVIL_12M_CLI_PROD', 'MEDIA_MOVIL_3M_PROD', 'MEDIA_MOVIL_6M_PROD', 'MEDIA_MOVIL_12M_PROD', 'DESVIO_MOVIL_3M_PROD', 'DESVIO_MOVIL_6M_PROD', 'DESVIO_MOVIL_12M_PROD', 'MEDIA_MOVIL_3M_CLI', 'MEDIA_MOVIL_6M_CLI', 'MEDIA_MOVIL_12M_CLI', 'DESVIO_MOVIL_3M_CLI', 'DESVIO_MOVIL_6M_CLI', 'DESVIO_MOVIL_12M_CLI', 'TN_LAG_01', 'TN_LAG_02', 'TN_LAG_03', 'TN_LAG_04', 'TN_LAG_05', 'TN_LAG_06', 'TN_LAG_07', 'TN_LAG_08', 'TN_LAG_09', 'TN_LAG_10', 'TN_LAG_11', 'TN_LAG_12', 'TN_LAG_13', 'TN_LAG_14', 'TN_LAG_15', 'CLASE', 'CLASE_DELTA', 'ORDINAL', 'TN_DELTA_01', 'TN_DELTA_02', 'TN_DELTA_03', 'TN_DELTA_04', 'TN_DELTA_05', 'TN_DELTA_06', 'TN_DELTA_07', 'TN_DELTA_08', 'TN_DELTA_09', 'TN_DELTA_10', 'TN_DELTA_11', 'TN_DELTA_12', 'TN_DELTA_13', 'TN_DELTA_14', 'TN_DELTA_15', 'ANTIG_CLIENTE', 'ANTIG_PRODUCTO', 'CANT_PROD_CLI_PER', 'MEDIA_PROD_PER', 'MEDIA_PROD', 'MEDIA_PER', 'PENDIENTE_TENDENCIA_3', 'TN_EWMA_03', 'TN_MEDIAN_03', 'TN_MIN_03', 'TN_MAX_03', 'PENDIENTE_TENDENCIA_6', 'TN_EWMA_06', 'TN_MEDIAN_06', 'TN_MIN_06', 'TN_MAX_06', 'PENDIENTE_TENDENCIA_9', 'TN_EWMA_09', 'TN_MEDIAN_09', 'TN_MIN_09', 'TN_MAX_09', 'PENDIENTE_TENDENCIA_12', 'TN_EWMA_12', 'TN_MEDIAN_12', 'TN_MIN_12', 'TN_MAX_12', 'MESES_SIN_COMPRAR_PRODUCT_CUSTOMER_ID', 'MESES_SIN_COMPRAR_PRODUCT_ID', 'MESES_SIN_COMPRAR_CUSTOMER_ID', 'MES_PROBLEMATICO']\n"
     ]
    }
   ],
   "source": [
    "print(df_full.columns.to_list())"
   ]
  },
  {
   "cell_type": "code",
   "execution_count": 100,
   "id": "c59f2c31",
   "metadata": {},
   "outputs": [],
   "source": [
    "\n",
    "# Conservar las siguientes columnas\n",
    "# #columns_to_keep = ['MES_SIN', 'MES_COS', 'ID_CAT1',\n",
    "#        'ID_CAT2', 'ID_CAT3', 'ID_BRAND', 'SKU_SIZE', 'CUSTOMER_ID',\n",
    "#        'PRODUCT_ID', 'CUST_REQUEST_QTY',\n",
    "#        'CUST_REQUEST_TN', 'TN', 'CLASE_DELTA',\n",
    "#        'ANTIG_CLIENTE','ANTIG_PRODUCTO', 'CANT_PROD_CLI_PER',\n",
    "#        'MESES_SIN_COMPRAR_PRODUCT_CUSTOMER_ID','MESES_SIN_COMPRAR_PRODUCT_ID','MESES_SIN_COMPRAR_CUSTOMER_ID',\n",
    "#        'MES_PROBLEMATICO','PERIODO','ORDINAL']\n",
    "# Filtrar el DataFrame para conservar solo las columnas deseadas \n",
    "columns_to_keep = ['PERIODO', 'ANIO', 'MES', 'MES_SIN', 'MES_COS', 'TRIMESTRE', 'ID_CAT1', 'ID_CAT2', 'ID_CAT3', 'ID_BRAND', \n",
    "                   'SKU_SIZE', 'CUSTOMER_ID', 'PRODUCT_ID', 'CUST_REQUEST_QTY', 'CUST_REQUEST_TN', 'TN', \n",
    "                   'MEDIA_MOVIL_3M_CLI_PROD', 'MEDIA_MOVIL_6M_CLI_PROD', 'MEDIA_MOVIL_12M_CLI_PROD', \n",
    "                   'DESVIO_MOVIL_3M_CLI_PROD', 'DESVIO_MOVIL_6M_CLI_PROD', 'DESVIO_MOVIL_12M_CLI_PROD', 'MEDIA_MOVIL_3M_PROD', \n",
    "                   'MEDIA_MOVIL_6M_PROD', 'MEDIA_MOVIL_12M_PROD', 'DESVIO_MOVIL_3M_PROD', 'DESVIO_MOVIL_6M_PROD', \n",
    "                   'DESVIO_MOVIL_12M_PROD', 'MEDIA_MOVIL_3M_CLI', 'MEDIA_MOVIL_6M_CLI', 'MEDIA_MOVIL_12M_CLI', \n",
    "                   'DESVIO_MOVIL_3M_CLI', 'DESVIO_MOVIL_6M_CLI', 'DESVIO_MOVIL_12M_CLI', 'TN_LAG_01', 'TN_LAG_02', 'TN_LAG_03', \n",
    "                   'TN_LAG_04', 'TN_LAG_05', 'TN_LAG_06', 'TN_LAG_07', 'TN_LAG_08', 'TN_LAG_09', 'TN_LAG_10', 'TN_LAG_11', \n",
    "                   'TN_LAG_12', 'TN_LAG_13', 'TN_LAG_14', 'TN_LAG_15','CLASE', 'ORDINAL', \n",
    "                   'TN_DELTA_01', 'TN_DELTA_02', 'TN_DELTA_03', 'TN_DELTA_04', 'TN_DELTA_05', 'TN_DELTA_06', 'TN_DELTA_07', \n",
    "                   'TN_DELTA_08', 'TN_DELTA_09', 'TN_DELTA_10', 'TN_DELTA_11', 'TN_DELTA_12', 'TN_DELTA_13', 'TN_DELTA_14', \n",
    "                   'TN_DELTA_15', 'ANTIG_CLIENTE', 'ANTIG_PRODUCTO', 'CANT_PROD_CLI_PER', 'MEDIA_PROD_PER', 'MEDIA_PROD', \n",
    "                   'MEDIA_PER', 'PENDIENTE_TENDENCIA_3', 'TN_EWMA_03', 'TN_MEDIAN_03', 'TN_MIN_03', 'TN_MAX_03', \n",
    "                   'PENDIENTE_TENDENCIA_6', 'TN_EWMA_06', 'TN_MEDIAN_06', 'TN_MIN_06', 'TN_MAX_06', 'PENDIENTE_TENDENCIA_9',\n",
    "                   'TN_EWMA_09', 'TN_MEDIAN_09', 'TN_MIN_09', 'TN_MAX_09', 'PENDIENTE_TENDENCIA_12', 'TN_EWMA_12', \n",
    "                   'TN_MEDIAN_12', 'TN_MIN_12', 'TN_MAX_12', 'MESES_SIN_COMPRAR_PRODUCT_CUSTOMER_ID', \n",
    "                   'MESES_SIN_COMPRAR_PRODUCT_ID', 'MESES_SIN_COMPRAR_CUSTOMER_ID', 'MES_PROBLEMATICO']\n",
    "df_full = df_full[columns_to_keep]"
   ]
  },
  {
   "cell_type": "code",
   "execution_count": 101,
   "id": "3398b742",
   "metadata": {},
   "outputs": [],
   "source": [
    "import numpy as np\n",
    "\n",
    "def log_transform_signed(x):\n",
    "    \"\"\"\n",
    "    Transformación log1p con signo.\n",
    "    Para variables continuas con valores negativos, cero y positivos.\n",
    "    \"\"\"\n",
    "    return np.sign(x) * np.log1p(np.abs(x))\n",
    "\n",
    "def inverse_log_transform_signed(x):\n",
    "    \"\"\"\n",
    "    Inversa de la transformación log1p con signo.\n",
    "    Devuelve valores en la escala original.\n",
    "    \"\"\"\n",
    "    return np.sign(x) * np.expm1(np.abs(x))\n",
    "\n",
    "# Aplicar transformación\n",
    "df_full['CLASE_LOG1P'] = log_transform_signed(df_full['CLASE'])\n",
    "\n",
    "# Ejemplo de uso de la inversa:\n",
    "# toneladas_originales = inverse_log_transform_signed(df_full['CLASE_LOG1P'])\n"
   ]
  },
  {
   "cell_type": "code",
   "execution_count": 102,
   "id": "0b395843",
   "metadata": {},
   "outputs": [
    {
     "name": "stdout",
     "output_type": "stream",
     "text": [
      "Media usada (entrenamiento): 0.4756487705286022\n",
      "Std usada (entrenamiento): 0.6596333033693771\n"
     ]
    }
   ],
   "source": [
    "from sklearn.preprocessing import StandardScaler\n",
    "\n",
    "# FIT scaler solo sobre entrenamiento\n",
    "mask_train = df_full['PERIODO'] <= 201908\n",
    "scaler_y = StandardScaler()\n",
    "scaler_y.fit(df_full.loc[mask_train, ['CLASE_LOG1P']])\n",
    "\n",
    "# Aplicar la transformación a todo df_full\n",
    "df_full['CLASE_LOG1P_Z'] = scaler_y.transform(df_full[['CLASE_LOG1P']])\n",
    "\n",
    "# Guardar media y std\n",
    "media_y = scaler_y.mean_[0]\n",
    "std_y = scaler_y.scale_[0]\n",
    "print(f\"Media usada (entrenamiento): {media_y}\")\n",
    "print(f\"Std usada (entrenamiento): {std_y}\")\n"
   ]
  },
  {
   "cell_type": "code",
   "execution_count": 103,
   "id": "ca8671cf",
   "metadata": {},
   "outputs": [],
   "source": [
    "# Eliminar las columnas CLASE y CLASE_LOG1P para evitar confusiones\n",
    "df_full.drop(columns=['CLASE', 'CLASE_LOG1P'], inplace=True, errors='ignore')"
   ]
  },
  {
   "cell_type": "code",
   "execution_count": 104,
   "id": "fc77790e",
   "metadata": {},
   "outputs": [],
   "source": [
    "\n",
    "\n",
    "cat_cols = ['ID_CAT1', 'ID_CAT2', 'ID_CAT3', 'ID_BRAND', 'SKU_SIZE','ANIO', 'MES','TRIMESTRE','MES_PROBLEMATICO']\n",
    "\n",
    "for col in cat_cols:\n",
    "    if df_full[col].isnull().any():\n",
    "        df_full[col] = df_full[col].fillna(\"missing\")\n",
    "\n",
    "\n",
    "encoders = {}\n",
    "for col in cat_cols:\n",
    "    le = LabelEncoder()\n",
    "    df_full.loc[:, col] = le.fit_transform(df_full[col]).astype(int)\n",
    "    encoders[col] = le  # para guardar los mapeos por si necesitás revertirlos\n"
   ]
  },
  {
   "cell_type": "code",
   "execution_count": 105,
   "id": "9299b7ab",
   "metadata": {},
   "outputs": [],
   "source": [
    "# Guardo los encoders en archivos .pkl\n",
    "import joblib\n",
    "import os\n",
    "\n",
    "os.makedirs('encoders', exist_ok=True)\n",
    "\n",
    "for col, le in encoders.items():\n",
    "    joblib.dump(le, f'encoders/{col}_encoder.pkl')"
   ]
  },
  {
   "cell_type": "code",
   "execution_count": 106,
   "id": "c6d1dbb6",
   "metadata": {},
   "outputs": [],
   "source": [
    "# Guardar el DataFrame en parquet\n",
    "df_full.to_parquet('./data/interm_NN_TORCH.parquet', index=False, engine='fastparquet')"
   ]
  },
  {
   "cell_type": "code",
   "execution_count": 107,
   "id": "92d75fe1",
   "metadata": {},
   "outputs": [],
   "source": [
    "df_full = pd.read_parquet('./data/interm_NN_TORCH.parquet', index=False, engine='fastparquet')"
   ]
  },
  {
   "cell_type": "code",
   "execution_count": 108,
   "id": "92f799e8",
   "metadata": {},
   "outputs": [
    {
     "name": "stdout",
     "output_type": "stream",
     "text": [
      "PENDIENTE_TENDENCIA_12    221212\n",
      "TN_EWMA_12                221212\n",
      "TN_MEDIAN_12              221212\n",
      "TN_MAX_12                 221212\n",
      "TN_MIN_12                 221212\n",
      "TN_EWMA_09                160896\n",
      "PENDIENTE_TENDENCIA_9     160896\n",
      "TN_MEDIAN_09              160896\n",
      "TN_MIN_09                 160896\n",
      "TN_MAX_09                 160896\n",
      "TN_EWMA_06                100560\n",
      "TN_MAX_06                 100560\n",
      "TN_MEDIAN_06              100560\n",
      "PENDIENTE_TENDENCIA_6     100560\n",
      "TN_MIN_06                 100560\n",
      "TN_EWMA_03                 40224\n",
      "TN_MAX_03                  40224\n",
      "PENDIENTE_TENDENCIA_3      40224\n",
      "TN_MEDIAN_03               40224\n",
      "TN_MIN_03                  40224\n",
      "dtype: int64\n"
     ]
    }
   ],
   "source": [
    "# Excluir la variable de clase\n",
    "cols_to_check = df_full.columns.difference(['CLASE_LOG1P_Z'])\n",
    "\n",
    "# Calcular cantidad de NaNs por columna\n",
    "nan_columns = df_full[cols_to_check].isna().sum()\n",
    "\n",
    "# Filtrar solo las columnas que tienen al menos un NaN\n",
    "nan_columns = nan_columns[nan_columns > 0].sort_values(ascending=False)\n",
    "\n",
    "# Mostrar\n",
    "print(nan_columns)"
   ]
  },
  {
   "cell_type": "code",
   "execution_count": 109,
   "id": "a1b1fca7",
   "metadata": {},
   "outputs": [
    {
     "name": "stderr",
     "output_type": "stream",
     "text": [
      "/tmp/ipykernel_12955/2542019331.py:5: FutureWarning: A value is trying to be set on a copy of a DataFrame or Series through chained assignment using an inplace method.\n",
      "The behavior will change in pandas 3.0. This inplace method will never work because the intermediate object on which we are setting values always behaves as a copy.\n",
      "\n",
      "For example, when doing 'df[col].method(value, inplace=True)', try using 'df.method({col: value}, inplace=True)' or df[col] = df[col].method(value) instead, to perform the operation inplace on the original object.\n",
      "\n",
      "\n",
      "  df_full[col].fillna(0, inplace=True)\n",
      "/tmp/ipykernel_12955/2542019331.py:8: FutureWarning: A value is trying to be set on a copy of a DataFrame or Series through chained assignment using an inplace method.\n",
      "The behavior will change in pandas 3.0. This inplace method will never work because the intermediate object on which we are setting values always behaves as a copy.\n",
      "\n",
      "For example, when doing 'df[col].method(value, inplace=True)', try using 'df.method({col: value}, inplace=True)' or df[col] = df[col].method(value) instead, to perform the operation inplace on the original object.\n",
      "\n",
      "\n",
      "  df_full[col].fillna(media_col, inplace=True)\n",
      "/tmp/ipykernel_12955/2542019331.py:11: FutureWarning: A value is trying to be set on a copy of a DataFrame or Series through chained assignment using an inplace method.\n",
      "The behavior will change in pandas 3.0. This inplace method will never work because the intermediate object on which we are setting values always behaves as a copy.\n",
      "\n",
      "For example, when doing 'df[col].method(value, inplace=True)', try using 'df.method({col: value}, inplace=True)' or df[col] = df[col].method(value) instead, to perform the operation inplace on the original object.\n",
      "\n",
      "\n",
      "  df_full[col].fillna(media_col, inplace=True)\n"
     ]
    }
   ],
   "source": [
    "# Para las columnas con NaN, si son PENDIENTE_TENDENCIA_nn reemplazar por 0,\n",
    "# sin son TN_EWMA reemplazar por la media de la columna\n",
    "for col in nan_columns.index:\n",
    "    if 'PENDIENTE_TENDENCIA' in col:\n",
    "        df_full[col].fillna(0, inplace=True)\n",
    "    elif 'TN_EWMA' in col:\n",
    "        media_col = df_full[col].mean()\n",
    "        df_full[col].fillna(media_col, inplace=True)\n",
    "    elif 'TN_MIN' in col or 'TN_MAX' in col or 'TN_MEDIAN' in col:\n",
    "        media_col = df_full[col].mean()\n",
    "        df_full[col].fillna(media_col, inplace=True)\n",
    "    "
   ]
  },
  {
   "cell_type": "code",
   "execution_count": 110,
   "id": "9abb44fc",
   "metadata": {},
   "outputs": [
    {
     "name": "stdout",
     "output_type": "stream",
     "text": [
      "Series([], dtype: int64)\n"
     ]
    }
   ],
   "source": [
    "# Excluir la variable de clase\n",
    "cols_to_check = df_full.columns.difference(['CLASE_LOG1P_Z'])\n",
    "\n",
    "# Calcular cantidad de NaNs por columna\n",
    "nan_columns = df_full[cols_to_check].isna().sum()\n",
    "\n",
    "# Filtrar solo las columnas que tienen al menos un NaN\n",
    "nan_columns = nan_columns[nan_columns > 0].sort_values(ascending=False)\n",
    "\n",
    "# Mostrar\n",
    "print(nan_columns)"
   ]
  },
  {
   "cell_type": "code",
   "execution_count": 111,
   "id": "ae6c73c7",
   "metadata": {},
   "outputs": [
    {
     "name": "stdout",
     "output_type": "stream",
     "text": [
      "📊 DataFrame final con 702,853 filas y 96 columnas:\n"
     ]
    }
   ],
   "source": [
    "print(f\"📊 DataFrame final con {df_full.shape[0]:,} filas y {df_full.shape[1]} columnas:\")"
   ]
  },
  {
   "cell_type": "code",
   "execution_count": 112,
   "id": "c38a24de",
   "metadata": {},
   "outputs": [],
   "source": [
    "# Copia de seguridad\n",
    "df = df_full.copy()\n",
    "\n",
    "\n",
    "# === Binning (en deciles) ===\n",
    "df['CUSTOMER_RANK_BIN'] = pd.qcut(df['CUSTOMER_ID'], q=10, labels=False)\n",
    "df['CUSTOMER_RANK_BIN'] = df['CUSTOMER_RANK_BIN'].astype('category')\n",
    "\n",
    "# Validación opcional\n",
    "assert df['CUSTOMER_RANK_BIN'].isna().sum() == 0, \"NaNs en qcut\"\n",
    "\n",
    "# Reemplazar en df_full\n",
    "df_full = df\n",
    "\n"
   ]
  },
  {
   "cell_type": "code",
   "execution_count": 113,
   "id": "bbc780ec",
   "metadata": {},
   "outputs": [],
   "source": [
    "# Copia de seguridad del DataFrame\n",
    "df = df_full.copy()\n",
    "\n",
    "# === Binning (en deciles) ===\n",
    "df['PRODUCT_RANK_BIN'] = pd.qcut(df['PRODUCT_ID'], q=10, labels=False)\n",
    "df['PRODUCT_RANK_BIN'] = df['PRODUCT_RANK_BIN'].astype('category')\n",
    "\n",
    "# Reemplazar en el DataFrame principal\n",
    "df_full = df\n"
   ]
  },
  {
   "cell_type": "code",
   "execution_count": 114,
   "id": "b288b340",
   "metadata": {},
   "outputs": [
    {
     "name": "stdout",
     "output_type": "stream",
     "text": [
      "Columnas excluidas del escalado: ['PERIODO', 'CLASE_LOG1P_Z', 'MES_SIN', 'MES_COS', 'ID_CAT1', 'ID_CAT2', 'ID_CAT3', 'ID_BRAND', 'SKU_SIZE', 'ANIO', 'MES', 'TRIMESTRE', 'MES_PROBLEMATICO', 'CUSTOMER_RANK_BIN', 'PRODUCT_RANK_BIN']\n",
      "Columnas numéricas a escalar: ['CUSTOMER_ID', 'PRODUCT_ID', 'CUST_REQUEST_QTY', 'CUST_REQUEST_TN', 'TN', 'MEDIA_MOVIL_3M_CLI_PROD', 'MEDIA_MOVIL_6M_CLI_PROD', 'MEDIA_MOVIL_12M_CLI_PROD', 'DESVIO_MOVIL_3M_CLI_PROD', 'DESVIO_MOVIL_6M_CLI_PROD', 'DESVIO_MOVIL_12M_CLI_PROD', 'MEDIA_MOVIL_3M_PROD', 'MEDIA_MOVIL_6M_PROD', 'MEDIA_MOVIL_12M_PROD', 'DESVIO_MOVIL_3M_PROD', 'DESVIO_MOVIL_6M_PROD', 'DESVIO_MOVIL_12M_PROD', 'MEDIA_MOVIL_3M_CLI', 'MEDIA_MOVIL_6M_CLI', 'MEDIA_MOVIL_12M_CLI', 'DESVIO_MOVIL_3M_CLI', 'DESVIO_MOVIL_6M_CLI', 'DESVIO_MOVIL_12M_CLI', 'TN_LAG_01', 'TN_LAG_02', 'TN_LAG_03', 'TN_LAG_04', 'TN_LAG_05', 'TN_LAG_06', 'TN_LAG_07', 'TN_LAG_08', 'TN_LAG_09', 'TN_LAG_10', 'TN_LAG_11', 'TN_LAG_12', 'TN_LAG_13', 'TN_LAG_14', 'TN_LAG_15', 'ORDINAL', 'TN_DELTA_01', 'TN_DELTA_02', 'TN_DELTA_03', 'TN_DELTA_04', 'TN_DELTA_05', 'TN_DELTA_06', 'TN_DELTA_07', 'TN_DELTA_08', 'TN_DELTA_09', 'TN_DELTA_10', 'TN_DELTA_11', 'TN_DELTA_12', 'TN_DELTA_13', 'TN_DELTA_14', 'TN_DELTA_15', 'ANTIG_CLIENTE', 'ANTIG_PRODUCTO', 'CANT_PROD_CLI_PER', 'MEDIA_PROD_PER', 'MEDIA_PROD', 'MEDIA_PER', 'PENDIENTE_TENDENCIA_3', 'TN_EWMA_03', 'TN_MEDIAN_03', 'TN_MIN_03', 'TN_MAX_03', 'PENDIENTE_TENDENCIA_6', 'TN_EWMA_06', 'TN_MEDIAN_06', 'TN_MIN_06', 'TN_MAX_06', 'PENDIENTE_TENDENCIA_9', 'TN_EWMA_09', 'TN_MEDIAN_09', 'TN_MIN_09', 'TN_MAX_09', 'PENDIENTE_TENDENCIA_12', 'TN_EWMA_12', 'TN_MEDIAN_12', 'TN_MIN_12', 'TN_MAX_12', 'MESES_SIN_COMPRAR_PRODUCT_CUSTOMER_ID', 'MESES_SIN_COMPRAR_PRODUCT_ID', 'MESES_SIN_COMPRAR_CUSTOMER_ID']\n",
      "Scaler guardado en './encoders/scaler_features_numericas.pkl'\n",
      "Shape final del DataFrame: (702853, 100)\n",
      "Primeras columnas escaladas:\n",
      "    CUSTOMER_ID_Z  PRODUCT_ID_Z  CUST_REQUEST_QTY_Z  CUST_REQUEST_TN_Z  \\\n",
      "0       4.156026      -0.93402           -0.520680          -0.232211   \n",
      "1       4.577137      -0.93402           -0.178805          -0.187150   \n",
      "2       4.530347      -0.93402           -0.349742          -0.223199   \n",
      "3      -0.710146      -0.93402            0.504944           4.129758   \n",
      "4      -0.725743      -0.93402            1.017755          -0.064581   \n",
      "\n",
      "       TN_Z  MEDIA_MOVIL_3M_CLI_PROD_Z  MEDIA_MOVIL_6M_CLI_PROD_Z  \\\n",
      "0 -0.234975                  -0.269529                  -0.282094   \n",
      "1 -0.188262                  -0.215790                  -0.226157   \n",
      "2 -0.225633                  -0.258782                  -0.270907   \n",
      "3  4.286922                   4.932507                   5.132701   \n",
      "4 -0.061200                  -0.069615                  -0.074004   \n",
      "\n",
      "   MEDIA_MOVIL_12M_CLI_PROD_Z  DESVIO_MOVIL_3M_CLI_PROD_Z  \\\n",
      "0                   -0.292360                   -0.307847   \n",
      "1                   -0.235143                   -0.307847   \n",
      "2                   -0.280918                   -0.307847   \n",
      "3                    5.246366                   -0.307847   \n",
      "4                   -0.079508                   -0.307847   \n",
      "\n",
      "   DESVIO_MOVIL_6M_CLI_PROD_Z  ...  TN_MIN_09_Z  TN_MAX_09_Z  \\\n",
      "0                   -0.344913  ...    -0.001403    -0.001472   \n",
      "1                   -0.344913  ...    -0.001403    -0.001472   \n",
      "2                   -0.344913  ...    -0.001403    -0.001472   \n",
      "3                   -0.344913  ...    -0.001403    -0.001472   \n",
      "4                   -0.344913  ...    -0.001403    -0.001472   \n",
      "\n",
      "   PENDIENTE_TENDENCIA_12_Z  TN_EWMA_12_Z  TN_MEDIAN_12_Z  TN_MIN_12_Z  \\\n",
      "0                  0.037327     -0.002252       -0.002354     -0.00106   \n",
      "1                  0.037327     -0.002252       -0.002354     -0.00106   \n",
      "2                  0.037327     -0.002252       -0.002354     -0.00106   \n",
      "3                  0.037327     -0.002252       -0.002354     -0.00106   \n",
      "4                  0.037327     -0.002252       -0.002354     -0.00106   \n",
      "\n",
      "   TN_MAX_12_Z  MESES_SIN_COMPRAR_PRODUCT_CUSTOMER_ID_Z  \\\n",
      "0    -0.002303                                 4.268766   \n",
      "1    -0.002303                                 4.268766   \n",
      "2    -0.002303                                 4.268766   \n",
      "3    -0.002303                                 4.268766   \n",
      "4    -0.002303                                 4.268766   \n",
      "\n",
      "   MESES_SIN_COMPRAR_PRODUCT_ID_Z  MESES_SIN_COMPRAR_CUSTOMER_ID_Z  \n",
      "0                       25.388971                        23.232472  \n",
      "1                       -0.064999                        23.232472  \n",
      "2                       -0.064999                        23.232472  \n",
      "3                       -0.064999                        23.232472  \n",
      "4                       -0.064999                        23.232472  \n",
      "\n",
      "[5 rows x 83 columns]\n"
     ]
    }
   ],
   "source": [
    "import pandas as pd\n",
    "import numpy as np\n",
    "from sklearn.preprocessing import StandardScaler\n",
    "import joblib\n",
    "import os\n",
    "\n",
    "# Copia del DataFrame original\n",
    "df = df_full.copy()\n",
    "\n",
    "# 1. Columnas categóricas (auto si no existen)\n",
    "if 'cat_cols' not in locals():\n",
    "    cat_cols = df.select_dtypes(include=['object', 'category']).columns.tolist()\n",
    "for col in ['CUSTOMER_RANK_BIN', 'PRODUCT_RANK_BIN']:\n",
    "    if col not in cat_cols:\n",
    "        cat_cols.append(col)\n",
    "\n",
    "# 2. Columnas a excluir del escalado\n",
    "excluir = ['PERIODO', 'CLASE_LOG1P_Z', 'MES_SIN', 'MES_COS'] + cat_cols\n",
    "print(\"Columnas excluidas del escalado:\", excluir)\n",
    "\n",
    "# 3. Columnas numéricas a escalar\n",
    "cols_a_escalar = [\n",
    "    col for col in df.columns\n",
    "    if col not in excluir and pd.api.types.is_numeric_dtype(df[col])\n",
    "]\n",
    "print(\"Columnas numéricas a escalar:\", cols_a_escalar)\n",
    "\n",
    "# 4. Entrenamiento del scaler SOLO con datos de entrenamiento\n",
    "df_entrenamiento = df[df['PERIODO'] <= 201910].copy()\n",
    "scaler = StandardScaler()\n",
    "scaler.fit(df_entrenamiento[cols_a_escalar])\n",
    "\n",
    "# 5. Aplicación del scaler a TODO el dataset\n",
    "valores_escalados = scaler.transform(df[cols_a_escalar])\n",
    "df_scaled = pd.DataFrame(\n",
    "    valores_escalados,\n",
    "    columns=[col + '_Z' for col in cols_a_escalar],\n",
    "    index=df.index\n",
    ")\n",
    "\n",
    "# 6. Eliminar columnas originales escaladas (excepto IDs)\n",
    "cols_a_borrar = [col for col in cols_a_escalar if col not in ['CUSTOMER_ID', 'PRODUCT_ID']]\n",
    "df.drop(columns=cols_a_borrar, inplace=True)\n",
    "\n",
    "# 7. Concatenar columnas escaladas\n",
    "df = pd.concat([df, df_scaled], axis=1)\n",
    "\n",
    "# 8. Guardar el scaler\n",
    "os.makedirs('./encoders', exist_ok=True)\n",
    "joblib.dump(scaler, './encoders/scaler_features_numericas.pkl')\n",
    "print(\"Scaler guardado en './encoders/scaler_features_numericas.pkl'\")\n",
    "\n",
    "# 9. Actualizar df_full\n",
    "df_full = df\n",
    "\n",
    "print(\"Shape final del DataFrame:\", df_full.shape)\n",
    "print(\"Primeras columnas escaladas:\\n\", df_full[[col + '_Z' for col in cols_a_escalar]].head())\n",
    "\n"
   ]
  },
  {
   "cell_type": "code",
   "execution_count": 115,
   "id": "33c9a81b",
   "metadata": {},
   "outputs": [
    {
     "name": "stdout",
     "output_type": "stream",
     "text": [
      "['PERIODO', 'ANIO', 'MES', 'MES_SIN', 'MES_COS', 'TRIMESTRE', 'ID_CAT1', 'ID_CAT2', 'ID_CAT3', 'ID_BRAND', 'SKU_SIZE', 'CUSTOMER_ID', 'PRODUCT_ID', 'MES_PROBLEMATICO', 'CLASE_LOG1P_Z', 'CUSTOMER_RANK_BIN', 'PRODUCT_RANK_BIN', 'CUSTOMER_ID_Z', 'PRODUCT_ID_Z', 'CUST_REQUEST_QTY_Z', 'CUST_REQUEST_TN_Z', 'TN_Z', 'MEDIA_MOVIL_3M_CLI_PROD_Z', 'MEDIA_MOVIL_6M_CLI_PROD_Z', 'MEDIA_MOVIL_12M_CLI_PROD_Z', 'DESVIO_MOVIL_3M_CLI_PROD_Z', 'DESVIO_MOVIL_6M_CLI_PROD_Z', 'DESVIO_MOVIL_12M_CLI_PROD_Z', 'MEDIA_MOVIL_3M_PROD_Z', 'MEDIA_MOVIL_6M_PROD_Z', 'MEDIA_MOVIL_12M_PROD_Z', 'DESVIO_MOVIL_3M_PROD_Z', 'DESVIO_MOVIL_6M_PROD_Z', 'DESVIO_MOVIL_12M_PROD_Z', 'MEDIA_MOVIL_3M_CLI_Z', 'MEDIA_MOVIL_6M_CLI_Z', 'MEDIA_MOVIL_12M_CLI_Z', 'DESVIO_MOVIL_3M_CLI_Z', 'DESVIO_MOVIL_6M_CLI_Z', 'DESVIO_MOVIL_12M_CLI_Z', 'TN_LAG_01_Z', 'TN_LAG_02_Z', 'TN_LAG_03_Z', 'TN_LAG_04_Z', 'TN_LAG_05_Z', 'TN_LAG_06_Z', 'TN_LAG_07_Z', 'TN_LAG_08_Z', 'TN_LAG_09_Z', 'TN_LAG_10_Z', 'TN_LAG_11_Z', 'TN_LAG_12_Z', 'TN_LAG_13_Z', 'TN_LAG_14_Z', 'TN_LAG_15_Z', 'ORDINAL_Z', 'TN_DELTA_01_Z', 'TN_DELTA_02_Z', 'TN_DELTA_03_Z', 'TN_DELTA_04_Z', 'TN_DELTA_05_Z', 'TN_DELTA_06_Z', 'TN_DELTA_07_Z', 'TN_DELTA_08_Z', 'TN_DELTA_09_Z', 'TN_DELTA_10_Z', 'TN_DELTA_11_Z', 'TN_DELTA_12_Z', 'TN_DELTA_13_Z', 'TN_DELTA_14_Z', 'TN_DELTA_15_Z', 'ANTIG_CLIENTE_Z', 'ANTIG_PRODUCTO_Z', 'CANT_PROD_CLI_PER_Z', 'MEDIA_PROD_PER_Z', 'MEDIA_PROD_Z', 'MEDIA_PER_Z', 'PENDIENTE_TENDENCIA_3_Z', 'TN_EWMA_03_Z', 'TN_MEDIAN_03_Z', 'TN_MIN_03_Z', 'TN_MAX_03_Z', 'PENDIENTE_TENDENCIA_6_Z', 'TN_EWMA_06_Z', 'TN_MEDIAN_06_Z', 'TN_MIN_06_Z', 'TN_MAX_06_Z', 'PENDIENTE_TENDENCIA_9_Z', 'TN_EWMA_09_Z', 'TN_MEDIAN_09_Z', 'TN_MIN_09_Z', 'TN_MAX_09_Z', 'PENDIENTE_TENDENCIA_12_Z', 'TN_EWMA_12_Z', 'TN_MEDIAN_12_Z', 'TN_MIN_12_Z', 'TN_MAX_12_Z', 'MESES_SIN_COMPRAR_PRODUCT_CUSTOMER_ID_Z', 'MESES_SIN_COMPRAR_PRODUCT_ID_Z', 'MESES_SIN_COMPRAR_CUSTOMER_ID_Z']\n"
     ]
    }
   ],
   "source": [
    "print(df_full.columns.tolist())"
   ]
  },
  {
   "cell_type": "code",
   "execution_count": 116,
   "id": "0d7910d7",
   "metadata": {},
   "outputs": [
    {
     "name": "stdout",
     "output_type": "stream",
     "text": [
      "Series([], dtype: int64)\n"
     ]
    }
   ],
   "source": [
    "# Excluir la variable de clase\n",
    "cols_to_check = df_full.columns.difference(['CLASE_LOG1P_Z'])\n",
    "\n",
    "# Calcular cantidad de NaNs por columna\n",
    "nan_columns = df_full[cols_to_check].isna().sum()\n",
    "\n",
    "# Filtrar solo las columnas que tienen al menos un NaN\n",
    "nan_columns = nan_columns[nan_columns > 0].sort_values(ascending=False)\n",
    "\n",
    "# Mostrar\n",
    "print(nan_columns)"
   ]
  },
  {
   "cell_type": "code",
   "execution_count": 117,
   "id": "ed5652d5",
   "metadata": {},
   "outputs": [
    {
     "name": "stdout",
     "output_type": "stream",
     "text": [
      "(702853, 100)\n"
     ]
    }
   ],
   "source": [
    "print(df_full.shape)\n",
    "# Guardar el DataFrame resultante en un archivo parquet\n",
    "df_full.to_parquet('./data/train_val_NN_TORCH.parquet', engine='fastparquet', index=False)"
   ]
  },
  {
   "cell_type": "code",
   "execution_count": 118,
   "id": "777f0d72",
   "metadata": {},
   "outputs": [
    {
     "name": "stdout",
     "output_type": "stream",
     "text": [
      "['ID_CAT1', 'ID_CAT2', 'ID_CAT3', 'ID_BRAND', 'SKU_SIZE', 'ANIO', 'MES', 'TRIMESTRE', 'MES_PROBLEMATICO', 'CUSTOMER_RANK_BIN', 'PRODUCT_RANK_BIN']\n"
     ]
    }
   ],
   "source": [
    "print(cat_cols)"
   ]
  }
 ],
 "metadata": {
  "kernelspec": {
   "display_name": "base",
   "language": "python",
   "name": "python3"
  },
  "language_info": {
   "codemirror_mode": {
    "name": "ipython",
    "version": 3
   },
   "file_extension": ".py",
   "mimetype": "text/x-python",
   "name": "python",
   "nbconvert_exporter": "python",
   "pygments_lexer": "ipython3",
   "version": "3.10.14"
  }
 },
 "nbformat": 4,
 "nbformat_minor": 5
}
