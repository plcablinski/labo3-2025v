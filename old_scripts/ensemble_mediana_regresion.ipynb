{
 "cells": [
  {
   "cell_type": "code",
   "execution_count": 2,
   "id": "e12a45a9",
   "metadata": {},
   "outputs": [],
   "source": [
    "import pandas as pd"
   ]
  },
  {
   "cell_type": "code",
   "execution_count": 1,
   "id": "d96bdcb6",
   "metadata": {},
   "outputs": [],
   "source": [
    "import pandas as pd\n",
    "\n",
    "# --- 1. Cargar archivos ---\n",
    "df_median = pd.read_csv(\"./grupo/lgbm_predictions_median.csv\").rename(columns={\"product_id\": \"PRODUCT_ID\"})\n",
    "df_reg = pd.read_csv(\"reg_lineal5.csv\").rename(columns={\"product_id\": \"PRODUCT_ID\", \"tn\": \"reg_lineal\"})\n",
    "df_lightgbm10 = pd.read_csv(\"./grupo/lightgbm10.csv\").rename(columns={\"product_id\": \"PRODUCT_ID\"})\n",
    "df_predicciones_exp_07_lgb_v8 = pd.read_csv(\"./grupo/predicciones_exp_07_lgb_v8.csv\").rename(columns={\"product_id\": \"PRODUCT_ID\"})\n",
    "df_predicciones_febrero2020_porproducto3 = pd.read_csv(\"./grupo/predicciones_febrero2020_porproducto3.csv\").rename(columns={\"product_id\": \"PRODUCT_ID\"})\n",
    "\n"
   ]
  },
  {
   "cell_type": "code",
   "execution_count": 3,
   "id": "a62b0c10",
   "metadata": {},
   "outputs": [],
   "source": [
    "import pandas as pd\n",
    "\n",
    "# --- Cargar archivos con nombres únicos ---\n",
    "df_median = pd.read_csv(\"./grupo/lgbm_predictions_median.csv\").rename(columns={\"tn\": \"tn_median\"})\n",
    "df_lgb10 = pd.read_csv(\"./grupo/lightgbm10.csv\").rename(columns={\"tn\": \"tn_lgb10\"})\n",
    "df_exp07 = pd.read_csv(\"./grupo/predicciones_exp_07_lgb_v8.csv\").rename(columns={\"tn\": \"tn_exp07\"})\n",
    "df_ens3 = pd.read_csv(\"./grupo/predicciones_exp_07_lgb_v8_ensemble_3models.csv\").rename(columns={\"tn\": \"tn_ens3\"})\n",
    "df_febrero = pd.read_csv(\"./grupo/predicciones_febrero2020_porproducto3.csv\").rename(columns={\"tn_predicho\": \"tn_febrero\"})\n"
   ]
  },
  {
   "cell_type": "code",
   "execution_count": null,
   "id": "71211c63",
   "metadata": {},
   "outputs": [
    {
     "name": "stdout",
     "output_type": "stream",
     "text": [
      "✅ Archivo guardado como df_all.csv\n"
     ]
    }
   ],
   "source": [
    "\n",
    "# --- Unir todos por PRODUCT_ID ---\n",
    "df_all = df_median.merge(df_lgb10, on=\"product_id\", how=\"inner\") \\\n",
    "                  .merge(df_exp07, on=\"product_id\", how=\"inner\") \\\n",
    "                  .merge(df_ens3, on=\"product_id\", how=\"inner\") \\\n",
    "                  .merge(df_febrero, on=\"product_id\", how=\"inner\")\n",
    "\n",
    "# --- Calcular estadísticas por fila ---\n",
    "cols_pred = [\"tn_median\", \"tn_lgb10\", \"tn_exp07\", \"tn_ens3\", \"tn_febrero\"]\n",
    "df_all[\"tn_mean\"] = df_all[cols_pred].mean(axis=1)\n",
    "df_all[\"tn_median_all\"] = df_all[cols_pred].median(axis=1)\n",
    "df_all[\"tn_std\"] = df_all[cols_pred].std(axis=1)\n",
    "df_all[\"tn_range\"] = df_all[cols_pred].max(axis=1) - df_all[cols_pred].min(axis=1)\n",
    "\n",
    "# --- Guardar resultado ---\n",
    "df_all.to_csv(\"df_all.csv\", index=False)\n",
    "print(\"✅ Archivo guardado como df_all.csv\")\n",
    "\n",
    "import pandas as pd\n",
    "\n",
    "# --- 1. Cargar el archivo generado ---\n",
    "# df_all = pd.read_csv(\"df_all.csv\")\n",
    "\n",
    "# --- 2. Asegurarse de que estas columnas existen ---\n",
    "# Si ya las calculaste en otro script, podés omitir esto\n",
    "if \"tn_range\" not in df_all.columns or \"tn_mean\" not in df_all.columns:\n",
    "    pred_cols = [\"tn_median\", \"tn_lgb10\", \"tn_exp07\", \"tn_ens3\", \"tn_febrero\"]\n",
    "    df_all[\"tn_mean\"] = df_all[pred_cols].mean(axis=1)\n",
    "    df_all[\"tn_range\"] = df_all[pred_cols].max(axis=1) - df_all[pred_cols].min(axis=1)\n",
    "\n",
    "# --- 3. Calcular dispersión relativa ---\n",
    "df_all[\"range_pct\"] = df_all[\"tn_range\"] / (df_all[\"tn_mean\"] + 1e-6)\n",
    "\n",
    "# --- 4. Filtrar productos con alta dispersión (> 20%) ---\n",
    "df_dispersos = df_all[df_all[\"range_pct\"] > 0.40].copy()\n",
    "df_dispersos = df_dispersos.sort_values(\"range_pct\", ascending=False)\n",
    "\n",
    "# --- 5. Guardar resultados ---\n",
    "df_dispersos[[\"product_id\", \"tn_range\", \"tn_mean\", \"range_pct\"]].to_csv(\"productos_con_alta_dispersión.csv\", index=False)\n",
    "\n",
    "# --- 6. Mostrar resumen ---\n",
    "print(f\"✅ Se encontraron {len(df_dispersos)} productos con dispersión > 40%\")\n",
    "print(\"Archivo guardado: productos_con_alta_dispersión.csv\")\n"
   ]
  },
  {
   "cell_type": "code",
   "execution_count": 12,
   "id": "ab4b6423",
   "metadata": {},
   "outputs": [
    {
     "name": "stdout",
     "output_type": "stream",
     "text": [
      "✅ Se encontraron 71 productos con dispersión > 50 toneladas\n",
      "Archivo guardado: productos_con_dispersión_mayor_50ton.csv\n"
     ]
    }
   ],
   "source": [
    "import pandas as pd\n",
    "\n",
    "# --- Si ya tenés df_all en memoria, no hace falta volver a cargar ---\n",
    "# df_all = pd.read_csv(\"df_all.csv\")\n",
    "\n",
    "# --- 1. Verificamos columnas necesarias ---\n",
    "pred_cols = [\"tn_median\", \"tn_lgb10\", \"tn_exp07\", \"tn_ens3\", \"tn_febrero\"]\n",
    "if \"tn_range\" not in df_all.columns:\n",
    "    df_all[\"tn_range\"] = df_all[pred_cols].max(axis=1) - df_all[pred_cols].min(axis=1)\n",
    "if \"tn_mean\" not in df_all.columns:\n",
    "    df_all[\"tn_mean\"] = df_all[pred_cols].mean(axis=1)\n",
    "\n",
    "# --- 2. Filtrar por dispersión absoluta > 30 toneladas ---\n",
    "df_dispersos = df_all[df_all[\"tn_range\"] > 40].copy()\n",
    "df_dispersos = df_dispersos.sort_values(\"tn_range\", ascending=False)\n",
    "\n",
    "# --- 3. Guardar resultados ---\n",
    "df_dispersos[[\"product_id\", \"tn_range\", \"tn_mean\"]].to_csv(\"productos_con_dispersión_mayor_50ton.csv\", index=False)\n",
    "\n",
    "# --- 4. Mostrar resumen ---\n",
    "print(f\"✅ Se encontraron {len(df_dispersos)} productos con dispersión > 50 toneladas\")\n",
    "print(\"Archivo guardado: productos_con_dispersión_mayor_50ton.csv\")\n"
   ]
  }
 ],
 "metadata": {
  "kernelspec": {
   "display_name": "base",
   "language": "python",
   "name": "python3"
  },
  "language_info": {
   "codemirror_mode": {
    "name": "ipython",
    "version": 3
   },
   "file_extension": ".py",
   "mimetype": "text/x-python",
   "name": "python",
   "nbconvert_exporter": "python",
   "pygments_lexer": "ipython3",
   "version": "3.10.14"
  }
 },
 "nbformat": 4,
 "nbformat_minor": 5
}
