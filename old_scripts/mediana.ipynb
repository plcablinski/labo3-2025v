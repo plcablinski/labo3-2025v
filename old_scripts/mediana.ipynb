{
 "cells": [
  {
   "cell_type": "code",
   "execution_count": 1,
   "id": "7f90afdf",
   "metadata": {},
   "outputs": [],
   "source": [
    "import numpy as np\n",
    "import pandas as pd\n",
    "import gc\n",
    "import os\n",
    "import matplotlib.pyplot as plt\n",
    "import polars as pl\n",
    "from sklearn.metrics import mean_squared_error, mean_absolute_error\n",
    "from joblib import Parallel, delayed\n",
    "from more_itertools import chunked\n",
    "from functools import reduce\n",
    "from typing import List\n",
    "from sklearn.preprocessing import LabelEncoder\n",
    "from sklearn.preprocessing import StandardScaler\n",
    "import pandas as pd\n",
    "import joblib\n",
    "import os"
   ]
  },
  {
   "cell_type": "code",
   "execution_count": 2,
   "id": "6c10b3b0",
   "metadata": {},
   "outputs": [],
   "source": [
    "# Abrir el archivo parquet y cargarlo en un DataFrame data/l_vm_completa_train_pendientes.parquet\n",
    "gc.collect()\n",
    "df_full = pd.read_parquet('./data/l_vm_completa_train.parquet', engine='fastparquet')\n",
    "df_pendientes = pd.read_parquet('./data/l_vm_completa_train_pendientes.parquet', engine='fastparquet')"
   ]
  },
  {
   "cell_type": "code",
   "execution_count": 3,
   "id": "1073e770",
   "metadata": {},
   "outputs": [
    {
     "name": "stdout",
     "output_type": "stream",
     "text": [
      "🔍 Combinaciones PRODUCT_ID + CUSTOMER_ID con TN = 0 en todos sus registros: 327068\n",
      "🗑️ Filas eliminadas de df_full: 6,594,430\n"
     ]
    }
   ],
   "source": [
    "# Buscar en df_full los product_id, customer_id que solo tienen ceros en TN\n",
    "def buscar_productos_solo_ceros(df: pd.DataFrame) -> pd.DataFrame:\n",
    "    grouped = df.groupby(['PRODUCT_ID', 'CUSTOMER_ID'])['TN'].sum().reset_index()\n",
    "    productos_solo_ceros = grouped[grouped['TN'] == 0]\n",
    "    return productos_solo_ceros\n",
    "\n",
    "productos_solo_ceros = buscar_productos_solo_ceros(df_full)\n",
    "print(f\"🔍 Combinaciones PRODUCT_ID + CUSTOMER_ID con TN = 0 en todos sus registros: {len(productos_solo_ceros)}\")\n",
    "\n",
    "# Eliminar del df_full los product_id, customer_id que solo tienen ceros en TN\n",
    "def eliminar_productos_solo_ceros(df: pd.DataFrame, productos_solo_ceros: pd.DataFrame) -> pd.DataFrame:\n",
    "    productos_set = set(zip(productos_solo_ceros['PRODUCT_ID'], productos_solo_ceros['CUSTOMER_ID']))\n",
    "    mask = df.set_index(['PRODUCT_ID', 'CUSTOMER_ID']).index.isin(productos_set)\n",
    "    \n",
    "    cantidad_eliminada = mask.sum()\n",
    "    print(f\"🗑️ Filas eliminadas de df_full: {cantidad_eliminada:,}\")\n",
    "    \n",
    "    df_filtrado = df[~mask]\n",
    "    return df_filtrado\n",
    "\n",
    "df_full = eliminar_productos_solo_ceros(df_full, productos_solo_ceros)\n"
   ]
  },
  {
   "cell_type": "code",
   "execution_count": 4,
   "id": "4caa32af",
   "metadata": {},
   "outputs": [],
   "source": [
    "# Eliminar de df_full las filas donde la columna A_PREDECIR sea 'N'\n",
    "df_full = df_full[df_full['A_PREDECIR'] != 'N']\n",
    "df_full = df_full.drop(columns=['A_PREDECIR'])"
   ]
  },
  {
   "cell_type": "code",
   "execution_count": 6,
   "id": "82813d94",
   "metadata": {},
   "outputs": [],
   "source": [
    "df_mediana = (\n",
    "    df_full\n",
    "    .groupby(['CUSTOMER_ID', 'PRODUCT_ID'], as_index=False)['TN']\n",
    "    .median()\n",
    "    .rename(columns={'TN': 'TN_median'})\n",
    "    .sort_values('TN_median', ascending=True)\n",
    "    .reset_index(drop=True)\n",
    ").copy()"
   ]
  },
  {
   "cell_type": "code",
   "execution_count": 7,
   "id": "40ce75d5",
   "metadata": {},
   "outputs": [
    {
     "name": "stdout",
     "output_type": "stream",
     "text": [
      "   CUSTOMER_ID  PRODUCT_ID  TN_median\n",
      "0        10637       20741        0.0\n",
      "1        10285       20409        0.0\n",
      "2        10285       20411        0.0\n",
      "3        10285       20414        0.0\n",
      "4        10285       20416        0.0\n"
     ]
    }
   ],
   "source": [
    "print(df_mediana.head())"
   ]
  },
  {
   "cell_type": "code",
   "execution_count": 9,
   "id": "61dce20b",
   "metadata": {},
   "outputs": [
    {
     "name": "stdout",
     "output_type": "stream",
     "text": [
      "        PERIODO        TN\n",
      "606697   201902   0.00000\n",
      "607002   201903   0.00000\n",
      "607376   201904   0.00000\n",
      "608383   201905   0.00000\n",
      "608778   201906  21.32106\n",
      "609460   201907   0.00000\n",
      "609848   201908  16.51190\n",
      "610594   201909  43.91375\n",
      "610918   201910   0.00000\n",
      "611679   201911  42.24312\n",
      "612049   201912   1.72512\n"
     ]
    }
   ],
   "source": [
    "# Imprimir de df_full PERIODO, TN donde CUSTOMER_ID== 10637 y PRODUCT_ID == 20741\n",
    "def imprimir_periodo_tn(df: pd.DataFrame, customer_id: int, product_id: int):\n",
    "    filtered = df[(df['CUSTOMER_ID'] == customer_id) & (df['PRODUCT_ID'] == product_id)]\n",
    "    if not filtered.empty:\n",
    "        print(filtered[['PERIODO', 'TN']])\n",
    "    else:\n",
    "        print(f\"No se encontraron registros para CUSTOMER_ID={customer_id} y PRODUCT_ID={product_id}\")\n",
    "\n",
    "imprimir_periodo_tn(df_full, 10074, 20032)"
   ]
  }
 ],
 "metadata": {
  "kernelspec": {
   "display_name": "base",
   "language": "python",
   "name": "python3"
  },
  "language_info": {
   "codemirror_mode": {
    "name": "ipython",
    "version": 3
   },
   "file_extension": ".py",
   "mimetype": "text/x-python",
   "name": "python",
   "nbconvert_exporter": "python",
   "pygments_lexer": "ipython3",
   "version": "3.10.14"
  }
 },
 "nbformat": 4,
 "nbformat_minor": 5
}
