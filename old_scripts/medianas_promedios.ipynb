{
 "cells": [
  {
   "cell_type": "code",
   "execution_count": 1,
   "id": "74f2a7dd",
   "metadata": {},
   "outputs": [],
   "source": [
    "import numpy as np\n",
    "import pandas as pd"
   ]
  },
  {
   "cell_type": "code",
   "execution_count": 2,
   "id": "aca06a2b",
   "metadata": {},
   "outputs": [],
   "source": [
    "df_medianas = pd.read_csv('df_medianas_lightgbm_e_historicas.csv')"
   ]
  },
  {
   "cell_type": "code",
   "execution_count": 3,
   "id": "ce777bd9",
   "metadata": {},
   "outputs": [
    {
     "name": "stdout",
     "output_type": "stream",
     "text": [
      "   CUSTOMER_ID  PRODUCT_ID  TN_median  lgbm_pred_median\n",
      "0        10400       20004        0.0           0.29227\n",
      "1        10400       20005        0.0           0.28392\n",
      "2        10406       20003        0.0           0.11807\n",
      "3        10379       20010        0.0           0.20038\n",
      "4        10379       20021        0.0           0.27023\n"
     ]
    }
   ],
   "source": [
    "print(df_medianas.head())"
   ]
  },
  {
   "cell_type": "code",
   "execution_count": 4,
   "id": "8e62a08f",
   "metadata": {},
   "outputs": [],
   "source": [
    "df_promedios = pd.read_csv('promedios_tn_no_mueven_aguja.csv')"
   ]
  },
  {
   "cell_type": "code",
   "execution_count": 5,
   "id": "11147b74",
   "metadata": {},
   "outputs": [
    {
     "name": "stdout",
     "output_type": "stream",
     "text": [
      "       PRODUCT_ID  CUSTOMER_ID    TN_MEAN\n",
      "8624        20032        10013  71.558814\n",
      "34510       20127        10013  33.455072\n",
      "8646        20032        10045  24.859385\n",
      "8627        20032        10017  23.109227\n",
      "8626        20032        10015  22.222603\n"
     ]
    }
   ],
   "source": [
    "#df_promedios = df_promedios.sort_values(by=\"TN_MEAN\", ascending=False).reset_index(drop=True)\n",
    "df_promedios = df_promedios.sort_values(by=\"TN_MEAN\", ascending=False)\n",
    "print(df_promedios.head())"
   ]
  },
  {
   "cell_type": "code",
   "execution_count": 7,
   "id": "545e9c5d",
   "metadata": {},
   "outputs": [],
   "source": [
    "def ensamble_historico_modelo(df, w_hist=0.5, tipo='media', clip_min=0.0, clip_max=None):\n",
    "    \"\"\"\n",
    "    Devuelve un DataFrame con una nueva columna 'pred_ensamble' que combina TN_median y lgbm_pred_median.\n",
    "    \n",
    "    - w_hist: peso para TN_median (0 = solo modelo, 1 = solo histórico)\n",
    "    - tipo: 'media' (promedio ponderado), 'geometrica' (media geométrica), 'max', 'min'\n",
    "    - clip_min, clip_max: para acotar valores\n",
    "    \"\"\"\n",
    "    if tipo == 'media':\n",
    "        pred = w_hist * df['TN_median'] + (1 - w_hist) * df['lgbm_pred_median']\n",
    "    elif tipo == 'geometrica':\n",
    "        # Cuidado con ceros\n",
    "        pred = (df['TN_median'].clip(lower=1e-9) ** w_hist) * (df['lgbm_pred_median'].clip(lower=1e-9) ** (1-w_hist))\n",
    "    elif tipo == 'max':\n",
    "        pred = df[['TN_median', 'lgbm_pred_median']].max(axis=1)\n",
    "    elif tipo == 'min':\n",
    "        pred = df[['TN_median', 'lgbm_pred_median']].min(axis=1)\n",
    "    else:\n",
    "        raise ValueError(\"Tipo no soportado\")\n",
    "    \n",
    "    if clip_max is not None:\n",
    "        pred = pred.clip(lower=clip_min, upper=clip_max)\n",
    "    else:\n",
    "        pred = pred.clip(lower=clip_min)\n",
    "        \n",
    "    df = df.copy()\n",
    "    df['pred_ensamble'] = pred\n",
    "    return df\n"
   ]
  },
  {
   "cell_type": "code",
   "execution_count": 57,
   "id": "ade25700",
   "metadata": {},
   "outputs": [],
   "source": [
    "df_test = ensamble_historico_modelo(df_medianas, tipo='max', w_hist=0.5)\n"
   ]
  },
  {
   "cell_type": "code",
   "execution_count": 58,
   "id": "f01ac5cc",
   "metadata": {},
   "outputs": [
    {
     "name": "stdout",
     "output_type": "stream",
     "text": [
      "   CUSTOMER_ID  PRODUCT_ID       TN\n",
      "0        10400       20004  0.29227\n",
      "1        10400       20005  0.28392\n",
      "2        10406       20003  0.11807\n",
      "3        10379       20010  0.20038\n",
      "4        10379       20021  0.27023\n"
     ]
    }
   ],
   "source": [
    "# 1. Renombrar la columna de predicción en cada df a 'TN'\n",
    "df_test_out = df_test[['CUSTOMER_ID', 'PRODUCT_ID', 'pred_ensamble']].rename(columns={'pred_ensamble': 'TN'})\n",
    "df_promedios_out = df_promedios[['CUSTOMER_ID', 'PRODUCT_ID', 'TN_MEAN']].rename(columns={'TN_MEAN': 'TN'})\n",
    "\n",
    "# 2. Concatenar\n",
    "df_concat = pd.concat([df_test_out, df_promedios_out], ignore_index=True)\n",
    "\n",
    "print(df_concat.head())\n"
   ]
  },
  {
   "cell_type": "code",
   "execution_count": 95,
   "id": "86945ac3",
   "metadata": {},
   "outputs": [],
   "source": [
    "# Ahora hay que sumar TN por cada PRODUCT_ID, la salida debe verse así: product_id,tn\n",
    "# 20001,1504.68856\n",
    "# 20002,1087.30855\n",
    "df_suma_TN = (\n",
    "    df_concat\n",
    "    .groupby('PRODUCT_ID')['TN']\n",
    "    .sum()\n",
    "    .reset_index()\n",
    "    .rename(columns={'PRODUCT_ID': 'product_id', 'TN': 'tn'})\n",
    ")\n"
   ]
  },
  {
   "cell_type": "code",
   "execution_count": 96,
   "id": "82222045",
   "metadata": {},
   "outputs": [],
   "source": [
    "\n",
    "df_suma_TN['tn'] *= 0.95"
   ]
  },
  {
   "cell_type": "code",
   "execution_count": 97,
   "id": "3a655a66",
   "metadata": {},
   "outputs": [
    {
     "name": "stdout",
     "output_type": "stream",
     "text": [
      "   product_id           tn\n",
      "0       20001  1302.542947\n",
      "1       20002   847.024079\n",
      "2       20003   731.166324\n",
      "3       20004   545.169686\n",
      "4       20005   532.160269\n"
     ]
    }
   ],
   "source": [
    "\n",
    "print(df_suma_TN.head())\n",
    "df_suma_TN.to_csv('suma_tn_por_producto.csv', index=False)"
   ]
  }
 ],
 "metadata": {
  "kernelspec": {
   "display_name": "base",
   "language": "python",
   "name": "python3"
  },
  "language_info": {
   "codemirror_mode": {
    "name": "ipython",
    "version": 3
   },
   "file_extension": ".py",
   "mimetype": "text/x-python",
   "name": "python",
   "nbconvert_exporter": "python",
   "pygments_lexer": "ipython3",
   "version": "3.10.14"
  }
 },
 "nbformat": 4,
 "nbformat_minor": 5
}
