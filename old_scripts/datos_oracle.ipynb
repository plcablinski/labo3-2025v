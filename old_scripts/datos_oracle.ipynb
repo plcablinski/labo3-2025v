{
 "cells": [
  {
   "cell_type": "code",
   "execution_count": null,
   "id": "654ef145",
   "metadata": {},
   "outputs": [
    {
     "name": "stderr",
     "output_type": "stream",
     "text": [
      "C:\\Users\\pablo\\AppData\\Local\\Temp\\ipykernel_29244\\119880894.py:6: UserWarning: pandas only supports SQLAlchemy connectable (engine/connection) or database string URI or sqlite3 DBAPI2 connection. Other DBAPI2 objects are not tested. Please consider using SQLAlchemy.\n",
      "  df = pd.read_sql(query, conn, chunksize=1000000)  # Lee en chunks para no llenar la RAM\n",
      "Exception ignored in: <bound method IPythonKernel._clean_thread_parent_frames of <ipykernel.ipkernel.IPythonKernel object at 0x0000027E30135C90>>\n",
      "Traceback (most recent call last):\n",
      "  File \"c:\\anaconda3\\envs\\Autogluon\\lib\\site-packages\\ipykernel\\ipkernel.py\", line 775, in _clean_thread_parent_frames\n",
      "    def _clean_thread_parent_frames(\n",
      "KeyboardInterrupt: \n"
     ]
    }
   ],
   "source": [
    "import cx_Oracle\n",
    "import pandas as pd\n",
    "\n",
    "conn =  cx_Oracle.connect(user=\"pc\",password=\"p201404\",dsn=\"siatchdesa\")\n",
    "query = \"select * from L_DATOS_ENTRENAMIENTO\" \n",
    "df = pd.read_sql(query, conn, chunksize=1000000)  # Lee en chunks para no llenar la RAM\n",
    "\n",
    "# Para concatenar todos los chunks en un solo DataFrame (si tienes suficiente RAM)\n",
    "df_full = pd.concat(df, ignore_index=True)\n",
    "conn.close()\n",
    "print(df_full.shape)\n",
    "# Imprimir las primeras filas del DataFrame completo\n",
    "print(df_full.head())\n",
    "# Imprimir los tipos de datos de las columnas del DataFrame completo\n",
    "print(df_full.dtypes)\n",
    "# Imprimir el número de filas y columnas del DataFrame completo\n",
    "print(f\"Número de filas: {df_full.shape[0]}, Número de columnas: {df_full.shape[1]}\")\n"
   ]
  }
 ],
 "metadata": {
  "kernelspec": {
   "display_name": "Autogluon",
   "language": "python",
   "name": "python3"
  },
  "language_info": {
   "codemirror_mode": {
    "name": "ipython",
    "version": 3
   },
   "file_extension": ".py",
   "mimetype": "text/x-python",
   "name": "python",
   "nbconvert_exporter": "python",
   "pygments_lexer": "ipython3",
   "version": "3.10.17"
  }
 },
 "nbformat": 4,
 "nbformat_minor": 5
}
