{
 "cells": [
  {
   "cell_type": "code",
   "execution_count": 1,
   "id": "085154a6",
   "metadata": {},
   "outputs": [],
   "source": [
    "# Cargo los datos sobre los que quiero hacer predicciones\n",
    "import cx_Oracle\n",
    "import pandas as pd\n"
   ]
  },
  {
   "cell_type": "code",
   "execution_count": 19,
   "id": "3eee952a",
   "metadata": {},
   "outputs": [
    {
     "name": "stderr",
     "output_type": "stream",
     "text": [
      "C:\\Users\\pablo\\AppData\\Local\\Temp\\ipykernel_9736\\1234798557.py:3: UserWarning: pandas only supports SQLAlchemy connectable (engine/connection) or database string URI or sqlite3 DBAPI2 connection. Other DBAPI2 objects are not tested. Please consider using SQLAlchemy.\n",
      "  df_pred = pd.read_sql(query, conn, chunksize=1000000)  # Lee en chunks para no llenar la RAM\n"
     ]
    }
   ],
   "source": [
    "\n",
    "conn =  cx_Oracle.connect(user=\"pc\",password=\"p201404\",dsn=\"siatchdesa\")\n",
    "query = \"select periodo,product_id,sum(tn) tn from PC.L_VM_COMPLETA join L_PRODUCTOS_A_PREDECIR using(product_id) group by periodo,product_id order by product_id,periodo\" \n",
    "df_pred = pd.read_sql(query, conn, chunksize=1000000)  # Lee en chunks para no llenar la RAM\n",
    "\n",
    "# Para concatenar todos los chunks en un solo DataFrame (si tienes suficiente RAM)\n",
    "df_pred_full = pd.concat(df_pred, ignore_index=True)\n",
    "conn.close()"
   ]
  },
  {
   "cell_type": "code",
   "execution_count": 20,
   "id": "1ef56c37",
   "metadata": {},
   "outputs": [
    {
     "name": "stdout",
     "output_type": "stream",
     "text": [
      "(16088, 3)\n"
     ]
    }
   ],
   "source": [
    "print(df_pred_full.shape)"
   ]
  },
  {
   "cell_type": "code",
   "execution_count": 22,
   "id": "28f0b484",
   "metadata": {},
   "outputs": [
    {
     "name": "stdout",
     "output_type": "stream",
     "text": [
      "(28080, 3)\n"
     ]
    }
   ],
   "source": [
    "# convertir el periodo a datetime\n",
    "df_pred_full['PERIODO'] = pd.to_datetime(df_pred_full['PERIODO'], format='%Y%m')\n",
    "\n",
    "# Para cada producto si faltan meses entre 201701 y 201912, reemplazar con 0 el tn de esos meses para cada producto\n",
    "def complete_months(df, start_date, end_date):\n",
    "    # Crear un rango de fechas mensuales\n",
    "    all_months = pd.date_range(start=start_date, end=end_date, freq='MS')\n",
    "    \n",
    "    # Crear un DataFrame con todos los meses y los productos únicos\n",
    "    products = df['PRODUCT_ID'].unique()\n",
    "    all_combinations = pd.MultiIndex.from_product([products, all_months], names=['PRODUCT_ID', 'PERIODO'])\n",
    "    complete_df = pd.DataFrame(index=all_combinations).reset_index()\n",
    "    \n",
    "    # Unir con el DataFrame original\n",
    "    complete_df = complete_df.merge(df, on=['PRODUCT_ID', 'PERIODO'], how='left')\n",
    "    \n",
    "    # Rellenar los valores NaN con 0\n",
    "    complete_df['TN'] = complete_df['TN'].fillna(0)\n",
    "    \n",
    "    return complete_df\n",
    "# Completar los meses entre 201701 y 201912\n",
    "df_complete = complete_months(df_pred_full, '2017-01-01', '2019-12-01')\n",
    "print(df_complete.shape)\n",
    "\n"
   ]
  },
  {
   "cell_type": "code",
   "execution_count": 26,
   "id": "537a92b0",
   "metadata": {},
   "outputs": [
    {
     "name": "stderr",
     "output_type": "stream",
     "text": [
      "C:\\Users\\pablo\\AppData\\Local\\Temp\\ipykernel_9736\\3275389862.py:23: FutureWarning: The behavior of DataFrame concatenation with empty or all-NA entries is deprecated. In a future version, this will no longer exclude empty or all-NA columns when determining the result dtypes. To retain the old behavior, exclude the relevant entries before the concat operation.\n",
      "  df_pronostico = pd.concat([df_pronostico,pd.DataFrame([{'PRODUCT_ID': product_id, 'TN_PREDICTED': forecast.iloc[1]}])], ignore_index=True)\n"
     ]
    }
   ],
   "source": [
    "# ...existing code...\n",
    "\n",
    "from statsmodels.tsa.statespace.sarimax import SARIMAX\n",
    "# No mostar los warnings de statsmodels\n",
    "import warnings\n",
    "warnings.filterwarnings(\"ignore\", category=UserWarning, module='statsmodels')\n",
    "\n",
    "\n",
    "# Crear un DataFrame para almacenar los resultados de las predicciones que contenga el product_id y la predicción\n",
    "df_pronostico = pd.DataFrame(columns=['PRODUCT_ID', 'TN_PREDICTED'])\n",
    "\n",
    "for product_id, group in df_complete.groupby('PRODUCT_ID'):\n",
    "    group.set_index('PERIODO', inplace=True)\n",
    "    group = group.sort_index()\n",
    "    \n",
    "    # SARIMA: (p,d,q)x(P,D,Q,s)\n",
    "    # Ejemplo: (1,1,1)x(1,1,1,12) para estacionalidad anual en datos mensuales\n",
    "    try:\n",
    "        model = SARIMAX(group['TN'], order=(1, 1, 0), seasonal_order=(1, 1, 0, 12))\n",
    "        model_fit = model.fit(disp=False)\n",
    "        # ...existing code...\n",
    "        forecast = model_fit.forecast(steps=2)\n",
    "        df_pronostico = pd.concat([df_pronostico,pd.DataFrame([{'PRODUCT_ID': product_id, 'TN_PREDICTED': forecast.iloc[1]}])], ignore_index=True)\n",
    "# ...existing code...\n",
    "    except Exception as e:\n",
    "        print(f\"Error for product {product_id}: {e}\")\n",
    "\n",
    "# ...existing code..."
   ]
  },
  {
   "cell_type": "code",
   "execution_count": 27,
   "id": "9e90f3c7",
   "metadata": {},
   "outputs": [],
   "source": [
    "# Hacer cero los valores de tn_predicted que sean menores a cero\n",
    "df_pronostico['TN_PREDICTED'] = df_pronostico['TN_PREDICTED'].clip(lower=0) \n",
    "# Guardar el DataFrame de pronósticos en un archivo CSV\n",
    "df_pronostico.to_csv('pronostico_sarimax_2.csv', index=False, encoding='utf-8-sig')   "
   ]
  },
  {
   "cell_type": "code",
   "execution_count": 28,
   "id": "b8fbeea4",
   "metadata": {},
   "outputs": [
    {
     "name": "stdout",
     "output_type": "stream",
     "text": [
      "  PRODUCT_ID  TN_PREDICTED\n",
      "0      20001   2460.547605\n",
      "1      20002   1512.242450\n",
      "2      20003   1585.858222\n",
      "3      20004    950.804368\n",
      "4      20005    844.389682\n"
     ]
    }
   ],
   "source": [
    "print(df_pronostico.head())  # Mostrar las primeras filas del DataFrame de pronósticos\n"
   ]
  }
 ],
 "metadata": {
  "kernelspec": {
   "display_name": "Autogluon",
   "language": "python",
   "name": "python3"
  },
  "language_info": {
   "codemirror_mode": {
    "name": "ipython",
    "version": 3
   },
   "file_extension": ".py",
   "mimetype": "text/x-python",
   "name": "python",
   "nbconvert_exporter": "python",
   "pygments_lexer": "ipython3",
   "version": "3.10.17"
  }
 },
 "nbformat": 4,
 "nbformat_minor": 5
}
