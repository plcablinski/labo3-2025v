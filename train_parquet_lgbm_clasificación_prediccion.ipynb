{
 "cells": [
  {
   "cell_type": "code",
   "execution_count": null,
   "id": "e5d6f6dc",
   "metadata": {},
   "outputs": [],
   "source": [
    "import lightgbm as lgb\n",
    "import numpy as np\n",
    "import pandas as pd"
   ]
  },
  {
   "cell_type": "code",
   "execution_count": 2,
   "id": "31a107d8",
   "metadata": {},
   "outputs": [
    {
     "name": "stdout",
     "output_type": "stream",
     "text": [
      "(12254054, 55)\n"
     ]
    }
   ],
   "source": [
    "# leer en df_full ./data/l_vm_completa_train.parquet\n",
    "df_full = pd.read_parquet('./data/l_vm_completa_train.parquet')\n",
    "print(df_full.shape)"
   ]
  },
  {
   "cell_type": "code",
   "execution_count": 3,
   "id": "f05b2cf6",
   "metadata": {},
   "outputs": [
    {
     "name": "stdout",
     "output_type": "stream",
     "text": [
      "PERIODO                         int64\n",
      "ANIO                            int64\n",
      "MES                             int64\n",
      "MES_SIN                       float64\n",
      "MES_COS                       float64\n",
      "TRIMESTRE                       int64\n",
      "ID_CAT1                         int64\n",
      "ID_CAT2                         int64\n",
      "ID_CAT3                         int64\n",
      "ID_BRAND                        int64\n",
      "SKU_SIZE                        int64\n",
      "CUSTOMER_ID                  category\n",
      "PRODUCT_ID                   category\n",
      "PLAN_PRECIOS_CUIDADOS           int64\n",
      "CUST_REQUEST_QTY                int64\n",
      "CUST_REQUEST_TN               float64\n",
      "TN                            float64\n",
      "STOCK_FINAL                   float64\n",
      "MEDIA_MOVIL_3M_CLI_PROD       float64\n",
      "MEDIA_MOVIL_6M_CLI_PROD       float64\n",
      "MEDIA_MOVIL_12M_CLI_PROD      float64\n",
      "DESVIO_MOVIL_3M_CLI_PROD      float64\n",
      "DESVIO_MOVIL_6M_CLI_PROD      float64\n",
      "DESVIO_MOVIL_12M_CLI_PROD     float64\n",
      "MEDIA_MOVIL_3M_PROD           float64\n",
      "MEDIA_MOVIL_6M_PROD           float64\n",
      "MEDIA_MOVIL_12M_PROD          float64\n",
      "DESVIO_MOVIL_3M_PROD          float64\n",
      "DESVIO_MOVIL_6M_PROD          float64\n",
      "DESVIO_MOVIL_12M_PROD         float64\n",
      "MEDIA_MOVIL_3M_CLI            float64\n",
      "MEDIA_MOVIL_6M_CLI            float64\n",
      "MEDIA_MOVIL_12M_CLI           float64\n",
      "DESVIO_MOVIL_3M_CLI           float64\n",
      "DESVIO_MOVIL_6M_CLI           float64\n",
      "DESVIO_MOVIL_12M_CLI          float64\n",
      "TN_LAG_01                     float64\n",
      "TN_LAG_02                     float64\n",
      "TN_LAG_03                     float64\n",
      "TN_LAG_06                     float64\n",
      "TN_LAG_12                     float64\n",
      "CLASE                         float64\n",
      "CLASE_DELTA                   float64\n",
      "ORDINAL                         int64\n",
      "TN_DELTA_01                   float64\n",
      "TN_DELTA_02                   float64\n",
      "TN_DELTA_03                   float64\n",
      "TN_DELTA_06                   float64\n",
      "TN_DELTA_12                   float64\n",
      "ANTIG_CLIENTE                   int64\n",
      "ANTIG_PRODUCTO                  int64\n",
      "CANT_PROD_CLI_PER               int64\n",
      "MEDIA_PROD_PER                float64\n",
      "MEDIA_PROD                    float64\n",
      "MEDIA_PER                     float64\n",
      "dtype: object\n"
     ]
    }
   ],
   "source": [
    "# Variables categóricas\n",
    "# categorical_features = ['CUSTOMER_ID','PRODUCT_ID','ANIO','MES','TRIMESTRE','ID_CAT1','ID_CAT2','ID_CAT3','ID_BRAND','SKU_SIZE','PLAN_PRECIOS_CUIDADOS']\n",
    "categorical_features = ['CUSTOMER_ID','PRODUCT_ID']\n",
    "# Convertir las variables categóricas a tipo 'category'\n",
    "for col in categorical_features:\n",
    "    df_full[col] = df_full[col].astype('category')\n",
    "# Asegurarse de que las variables predictoras y objetivo estén en el formato correcto\n",
    "# Imprimir los tipos de datos de las columnas del DataFrame completo\n",
    "print(df_full.dtypes)"
   ]
  },
  {
   "cell_type": "code",
   "execution_count": 4,
   "id": "2bf8d0f2",
   "metadata": {},
   "outputs": [],
   "source": [
    "# Variables categóricas\n",
    "categorical_features = ['ANIO','MES','TRIMESTRE','ID_CAT1','ID_CAT2','ID_CAT3','ID_BRAND','SKU_SIZE','CUSTOMER_ID','PRODUCT_ID','PLAN_PRECIOS_CUIDADOS']\n",
    "# Convertir las variables categóricas a tipo 'category'\n",
    "for col in categorical_features:\n",
    "    df_full[col] = df_full[col].astype('category')\n"
   ]
  },
  {
   "cell_type": "code",
   "execution_count": 8,
   "id": "2e06cb76",
   "metadata": {},
   "outputs": [],
   "source": [
    "\n",
    "# filtrar que en X el periodo sea menor o igual a 201910\n",
    "# Variables predictoras y objetivo\n",
    "# En x eliminar la columna 'CLASE' y 'CLASE_DELTA'\n",
    "X = df_full[df_full['PERIODO'] <= 201910].drop(columns=['CLASE', 'CLASE_DELTA']) \n",
    "# Filtrar en y que el periodo sea menor o igual a 201910\n",
    "y = df_full[df_full['PERIODO'] <= 201910]['CLASE']\n",
    "df_full['CLASE_BIN'] = (df_full['CLASE'] > 0).astype(int)\n",
    "# Filtrar en y que el periodo sea menor o igual a 201910\n",
    "y_bin = df_full[df_full['PERIODO'] <= 201910]['CLASE_BIN']\n"
   ]
  },
  {
   "cell_type": "code",
   "execution_count": 9,
   "id": "dec1811b",
   "metadata": {},
   "outputs": [],
   "source": [
    "# Definir los periodos de validación 201909, 201910\n",
    "periodos_valid = [201909,201910]\n",
    "\n",
    "\n",
    "# Separar train y cinco conjuntos de validación respetando la secuencia temporal\n",
    "X_train = X[X['PERIODO'] < periodos_valid[0]]\n",
    "y_train = y[X['PERIODO'] < periodos_valid[0]]\n",
    "y_bin_train = y_bin[X['PERIODO'] < periodos_valid[0]]\n",
    "\n",
    "X_val_list = [X[X['PERIODO'] == p] for p in periodos_valid]\n",
    "y_val_list = [y[X['PERIODO'] == p] for p in periodos_valid]\n",
    "y_bin_val_list = [y_bin[X['PERIODO'] == p] for p in periodos_valid]\n",
    "\n"
   ]
  },
  {
   "cell_type": "code",
   "execution_count": 11,
   "id": "b0715d07",
   "metadata": {},
   "outputs": [
    {
     "name": "stdout",
     "output_type": "stream",
     "text": [
      "Training until validation scores don't improve for 50 rounds\n",
      "[10]\tvalid_1's binary_logloss: 0.336934\tvalid_2's binary_logloss: 0.30191\n",
      "[20]\tvalid_1's binary_logloss: 0.300623\tvalid_2's binary_logloss: 0.26984\n",
      "[30]\tvalid_1's binary_logloss: 0.282376\tvalid_2's binary_logloss: 0.253945\n",
      "[40]\tvalid_1's binary_logloss: 0.272191\tvalid_2's binary_logloss: 0.245014\n",
      "[50]\tvalid_1's binary_logloss: 0.265986\tvalid_2's binary_logloss: 0.23932\n",
      "[60]\tvalid_1's binary_logloss: 0.261907\tvalid_2's binary_logloss: 0.235519\n",
      "[70]\tvalid_1's binary_logloss: 0.25916\tvalid_2's binary_logloss: 0.232942\n",
      "[80]\tvalid_1's binary_logloss: 0.257021\tvalid_2's binary_logloss: 0.230364\n",
      "[90]\tvalid_1's binary_logloss: 0.255664\tvalid_2's binary_logloss: 0.228644\n",
      "[100]\tvalid_1's binary_logloss: 0.254795\tvalid_2's binary_logloss: 0.227098\n",
      "[110]\tvalid_1's binary_logloss: 0.253945\tvalid_2's binary_logloss: 0.2261\n",
      "[120]\tvalid_1's binary_logloss: 0.2534\tvalid_2's binary_logloss: 0.225396\n",
      "[130]\tvalid_1's binary_logloss: 0.252917\tvalid_2's binary_logloss: 0.224701\n",
      "[140]\tvalid_1's binary_logloss: 0.252697\tvalid_2's binary_logloss: 0.223995\n",
      "[150]\tvalid_1's binary_logloss: 0.252484\tvalid_2's binary_logloss: 0.223493\n",
      "[160]\tvalid_1's binary_logloss: 0.252243\tvalid_2's binary_logloss: 0.223216\n",
      "[170]\tvalid_1's binary_logloss: 0.252179\tvalid_2's binary_logloss: 0.223128\n",
      "[180]\tvalid_1's binary_logloss: 0.252002\tvalid_2's binary_logloss: 0.222953\n",
      "[190]\tvalid_1's binary_logloss: 0.251906\tvalid_2's binary_logloss: 0.222684\n"
     ]
    },
    {
     "ename": "KeyboardInterrupt",
     "evalue": "",
     "output_type": "error",
     "traceback": [
      "\u001b[0;31m---------------------------------------------------------------------------\u001b[0m",
      "\u001b[0;31mKeyboardInterrupt\u001b[0m                         Traceback (most recent call last)",
      "Cell \u001b[0;32mIn[11], line 18\u001b[0m\n\u001b[1;32m     16\u001b[0m lgb_val_list \u001b[38;5;241m=\u001b[39m [lgb\u001b[38;5;241m.\u001b[39mDataset(X_val, y_bin_val_list, categorical_feature\u001b[38;5;241m=\u001b[39mcategorical_features) \u001b[38;5;28;01mfor\u001b[39;00m X_val, y_bin_val_list \u001b[38;5;129;01min\u001b[39;00m \u001b[38;5;28mzip\u001b[39m(X_val_list, y_bin_val_list)]    \n\u001b[1;32m     17\u001b[0m \u001b[38;5;66;03m# Entrenar el modelo\u001b[39;00m\n\u001b[0;32m---> 18\u001b[0m model \u001b[38;5;241m=\u001b[39m \u001b[43mlgb\u001b[49m\u001b[38;5;241;43m.\u001b[39;49m\u001b[43mtrain\u001b[49m\u001b[43m(\u001b[49m\n\u001b[1;32m     19\u001b[0m \u001b[43m    \u001b[49m\u001b[43mparams\u001b[49m\u001b[43m,\u001b[49m\n\u001b[1;32m     20\u001b[0m \u001b[43m    \u001b[49m\u001b[43mlgb_train\u001b[49m\u001b[43m,\u001b[49m\n\u001b[1;32m     21\u001b[0m \u001b[43m    \u001b[49m\u001b[43mnum_boost_round\u001b[49m\u001b[38;5;241;43m=\u001b[39;49m\u001b[38;5;241;43m1000\u001b[39;49m\u001b[43m,\u001b[49m\n\u001b[1;32m     22\u001b[0m \u001b[43m    \u001b[49m\u001b[43mvalid_sets\u001b[49m\u001b[38;5;241;43m=\u001b[39;49m\u001b[43mlgb_val_list\u001b[49m\u001b[43m,\u001b[49m\n\u001b[1;32m     23\u001b[0m \u001b[43m    \u001b[49m\u001b[43mvalid_names\u001b[49m\u001b[38;5;241;43m=\u001b[39;49m\u001b[43m[\u001b[49m\u001b[38;5;124;43mf\u001b[39;49m\u001b[38;5;124;43m'\u001b[39;49m\u001b[38;5;124;43mvalid_\u001b[39;49m\u001b[38;5;132;43;01m{\u001b[39;49;00m\u001b[43mi\u001b[49m\u001b[38;5;241;43m+\u001b[39;49m\u001b[38;5;241;43m1\u001b[39;49m\u001b[38;5;132;43;01m}\u001b[39;49;00m\u001b[38;5;124;43m'\u001b[39;49m\u001b[43m \u001b[49m\u001b[38;5;28;43;01mfor\u001b[39;49;00m\u001b[43m \u001b[49m\u001b[43mi\u001b[49m\u001b[43m \u001b[49m\u001b[38;5;129;43;01min\u001b[39;49;00m\u001b[43m \u001b[49m\u001b[38;5;28;43mrange\u001b[39;49m\u001b[43m(\u001b[49m\u001b[38;5;28;43mlen\u001b[39;49m\u001b[43m(\u001b[49m\u001b[43mlgb_val_list\u001b[49m\u001b[43m)\u001b[49m\u001b[43m)\u001b[49m\u001b[43m]\u001b[49m\u001b[43m,\u001b[49m\n\u001b[1;32m     24\u001b[0m \u001b[43m    \u001b[49m\u001b[43mcallbacks\u001b[49m\u001b[38;5;241;43m=\u001b[39;49m\u001b[43m[\u001b[49m\n\u001b[1;32m     25\u001b[0m \u001b[43m        \u001b[49m\u001b[43mlgb\u001b[49m\u001b[38;5;241;43m.\u001b[39;49m\u001b[43mearly_stopping\u001b[49m\u001b[43m(\u001b[49m\u001b[43mstopping_rounds\u001b[49m\u001b[38;5;241;43m=\u001b[39;49m\u001b[38;5;241;43m50\u001b[39;49m\u001b[43m)\u001b[49m\u001b[43m,\u001b[49m\n\u001b[1;32m     26\u001b[0m \u001b[43m        \u001b[49m\u001b[43mlgb\u001b[49m\u001b[38;5;241;43m.\u001b[39;49m\u001b[43mlog_evaluation\u001b[49m\u001b[43m(\u001b[49m\u001b[43mperiod\u001b[49m\u001b[38;5;241;43m=\u001b[39;49m\u001b[38;5;241;43m10\u001b[39;49m\u001b[43m)\u001b[49m\n\u001b[1;32m     27\u001b[0m \u001b[43m    \u001b[49m\u001b[43m]\u001b[49m\n\u001b[1;32m     28\u001b[0m \u001b[43m)\u001b[49m\n\u001b[1;32m     29\u001b[0m \u001b[38;5;66;03m# Guardar el modelo entrenado\u001b[39;00m\n\u001b[1;32m     30\u001b[0m model\u001b[38;5;241m.\u001b[39msave_model(\u001b[38;5;124m'\u001b[39m\u001b[38;5;124mlgbm_model.txt\u001b[39m\u001b[38;5;124m'\u001b[39m)\n",
      "File \u001b[0;32m~/anaconda3/envs/LaboIII/lib/python3.9/site-packages/lightgbm/engine.py:322\u001b[0m, in \u001b[0;36mtrain\u001b[0;34m(params, train_set, num_boost_round, valid_sets, valid_names, feval, init_model, keep_training_booster, callbacks)\u001b[0m\n\u001b[1;32m    310\u001b[0m \u001b[38;5;28;01mfor\u001b[39;00m cb \u001b[38;5;129;01min\u001b[39;00m callbacks_before_iter:\n\u001b[1;32m    311\u001b[0m     cb(\n\u001b[1;32m    312\u001b[0m         callback\u001b[38;5;241m.\u001b[39mCallbackEnv(\n\u001b[1;32m    313\u001b[0m             model\u001b[38;5;241m=\u001b[39mbooster,\n\u001b[0;32m   (...)\u001b[0m\n\u001b[1;32m    319\u001b[0m         )\n\u001b[1;32m    320\u001b[0m     )\n\u001b[0;32m--> 322\u001b[0m \u001b[43mbooster\u001b[49m\u001b[38;5;241;43m.\u001b[39;49m\u001b[43mupdate\u001b[49m\u001b[43m(\u001b[49m\u001b[43mfobj\u001b[49m\u001b[38;5;241;43m=\u001b[39;49m\u001b[43mfobj\u001b[49m\u001b[43m)\u001b[49m\n\u001b[1;32m    324\u001b[0m evaluation_result_list: List[_LGBM_BoosterEvalMethodResultType] \u001b[38;5;241m=\u001b[39m []\n\u001b[1;32m    325\u001b[0m \u001b[38;5;66;03m# check evaluation result.\u001b[39;00m\n",
      "File \u001b[0;32m~/anaconda3/envs/LaboIII/lib/python3.9/site-packages/lightgbm/basic.py:4111\u001b[0m, in \u001b[0;36mBooster.update\u001b[0;34m(self, train_set, fobj)\u001b[0m\n\u001b[1;32m   4108\u001b[0m \u001b[38;5;28;01mif\u001b[39;00m \u001b[38;5;28mself\u001b[39m\u001b[38;5;241m.\u001b[39m__set_objective_to_none:\n\u001b[1;32m   4109\u001b[0m     \u001b[38;5;28;01mraise\u001b[39;00m LightGBMError(\u001b[38;5;124m\"\u001b[39m\u001b[38;5;124mCannot update due to null objective function.\u001b[39m\u001b[38;5;124m\"\u001b[39m)\n\u001b[1;32m   4110\u001b[0m _safe_call(\n\u001b[0;32m-> 4111\u001b[0m     \u001b[43m_LIB\u001b[49m\u001b[38;5;241;43m.\u001b[39;49m\u001b[43mLGBM_BoosterUpdateOneIter\u001b[49m\u001b[43m(\u001b[49m\n\u001b[1;32m   4112\u001b[0m \u001b[43m        \u001b[49m\u001b[38;5;28;43mself\u001b[39;49m\u001b[38;5;241;43m.\u001b[39;49m\u001b[43m_handle\u001b[49m\u001b[43m,\u001b[49m\n\u001b[1;32m   4113\u001b[0m \u001b[43m        \u001b[49m\u001b[43mctypes\u001b[49m\u001b[38;5;241;43m.\u001b[39;49m\u001b[43mbyref\u001b[49m\u001b[43m(\u001b[49m\u001b[43mis_finished\u001b[49m\u001b[43m)\u001b[49m\u001b[43m,\u001b[49m\n\u001b[1;32m   4114\u001b[0m \u001b[43m    \u001b[49m\u001b[43m)\u001b[49m\n\u001b[1;32m   4115\u001b[0m )\n\u001b[1;32m   4116\u001b[0m \u001b[38;5;28mself\u001b[39m\u001b[38;5;241m.\u001b[39m__is_predicted_cur_iter \u001b[38;5;241m=\u001b[39m [\u001b[38;5;28;01mFalse\u001b[39;00m \u001b[38;5;28;01mfor\u001b[39;00m _ \u001b[38;5;129;01min\u001b[39;00m \u001b[38;5;28mrange\u001b[39m(\u001b[38;5;28mself\u001b[39m\u001b[38;5;241m.\u001b[39m__num_dataset)]\n\u001b[1;32m   4117\u001b[0m \u001b[38;5;28;01mreturn\u001b[39;00m is_finished\u001b[38;5;241m.\u001b[39mvalue \u001b[38;5;241m==\u001b[39m \u001b[38;5;241m1\u001b[39m\n",
      "\u001b[0;31mKeyboardInterrupt\u001b[0m: "
     ]
    }
   ],
   "source": [
    "\n",
    "\n",
    "# Entrenar el modelo LightGBM para clasificación binaria donde la variable objetivo es 'CLASE' \n",
    "# si 0 o distinta de 0 usando early stopping sobre el conjunto de validación\n",
    "params = {\n",
    "    'objective': 'binary',\n",
    "    'metric': 'binary_logloss',\n",
    "    'boosting_type': 'gbdt',\n",
    "    'num_leaves': 31,\n",
    "    'learning_rate': 0.05,\n",
    "    'feature_fraction': 0.9,\n",
    "    'bagging_fraction': 0.8,\n",
    "    'bagging_freq': 5,\n",
    "    'verbose': -1\n",
    "}\n",
    "# Crear el dataset de LightGBM\n",
    "lgb_train = lgb.Dataset(X_train, y_bin_train,  categorical_feature=categorical_features)\n",
    "lgb_val_list = [lgb.Dataset(X_val, y_bin_val_list, categorical_feature=categorical_features) for X_val, y_bin_val_list in zip(X_val_list, y_bin_val_list)]    \n",
    "# Entrenar el modelo\n",
    "model = lgb.train(\n",
    "    params,\n",
    "    lgb_train,\n",
    "    num_boost_round=1000,\n",
    "    valid_sets=lgb_val_list,\n",
    "    valid_names=[f'valid_{i+1}' for i in range(len(lgb_val_list))],\n",
    "    callbacks=[\n",
    "        lgb.early_stopping(stopping_rounds=50),\n",
    "        lgb.log_evaluation(period=10)\n",
    "    ]\n",
    ")\n",
    "# Guardar el modelo entrenado\n",
    "model.save_model('lgbm_model.txt')\n"
   ]
  },
  {
   "cell_type": "code",
   "execution_count": 115,
   "id": "15ea3562",
   "metadata": {},
   "outputs": [
    {
     "name": "stdout",
     "output_type": "stream",
     "text": [
      "Training until validation scores don't improve for 500 rounds\n",
      "[500]\tvalidation_201908's l1: 0.0585812\tvalidation_201909's l1: 0.0597175\tvalidation_201910's l1: 0.0558093\n",
      "[1000]\tvalidation_201908's l1: 0.0578526\tvalidation_201909's l1: 0.0583706\tvalidation_201910's l1: 0.054446\n",
      "[1500]\tvalidation_201908's l1: 0.0578417\tvalidation_201909's l1: 0.0582442\tvalidation_201910's l1: 0.0541707\n",
      "Early stopping, best iteration is:\n",
      "[1215]\tvalidation_201908's l1: 0.0577914\tvalidation_201909's l1: 0.0582312\tvalidation_201910's l1: 0.0542489\n",
      "Modelo de regresión entrenado con cinco conjuntos de validación (uno por cada periodo 201906-201910).\n"
     ]
    }
   ],
   "source": [
    "\n",
    "import lightgbm as lgb\n",
    "\n",
    "# Crear los datasets de LightGBM\n",
    "train_data = lgb.Dataset(X_train, label=y_train, categorical_feature=categorical_features)\n",
    "val_data_list = [lgb.Dataset(X_val_list[i], label=y_val_list[i], categorical_feature=categorical_features) for i in range(len(periodos_valid))]\n",
    "\n",
    "# Definir parámetros para regresión\n",
    "params = { \n",
    "    'objective': 'regression',\n",
    "    'metric': 'mae',\n",
    "    'boosting_type': 'gbdt',\n",
    "    'num_leaves': 1024,\n",
    "    'learning_rate': 0.001,\n",
    "    'feature_fraction': 0.9,\n",
    "    'bagging_fraction': 0.8,\n",
    "    'bagging_freq': 5,\n",
    "    'verbose': -1\n",
    "}\n",
    "\n",
    "# Entrenar el modelo con validación múltiple y early stopping\n",
    "model = lgb.train(\n",
    "    params,\n",
    "    train_data,\n",
    "    num_boost_round=10000,\n",
    "    valid_sets=val_data_list,\n",
    "    valid_names=[f'validation_{p}' for p in periodos_valid],\n",
    "    callbacks=[lgb.early_stopping(stopping_rounds=500), lgb.log_evaluation(period=500)]\n",
    ")\n",
    "\n",
    "print(\"Modelo de regresión entrenado con cinco conjuntos de validación (uno por cada periodo 201906-201910).\")"
   ]
  },
  {
   "cell_type": "code",
   "execution_count": 116,
   "id": "6fd4720a",
   "metadata": {},
   "outputs": [
    {
     "name": "stdout",
     "output_type": "stream",
     "text": [
      "       feature    importance\n",
      "3  TN_DELTA_01  3.548246e+08\n",
      "4  TN_DELTA_02  1.830971e+08\n",
      "5  TN_DELTA_03  1.812389e+08\n",
      "0      PERIODO  1.711841e+08\n",
      "1  CUSTOMER_ID  1.708743e+08\n",
      "6  TN_DELTA_06  1.513467e+08\n",
      "2   PRODUCT_ID  1.459133e+08\n",
      "7  TN_DELTA_12  1.105467e+08\n"
     ]
    },
    {
     "data": {
      "image/png": "[encoded data removed]",
      "text/plain": [
       "<Figure size 1000x600 with 1 Axes>"
      ]
     },
     "metadata": {},
     "output_type": "display_data"
    }
   ],
   "source": [
    "# Obtener la importancia de cada variable\n",
    "importancia = model.feature_importance(importance_type='gain')\n",
    "nombres = X_train.columns\n",
    "\n",
    "# Crear un DataFrame ordenado por importancia\n",
    "import pandas as pd\n",
    "df_importancia = pd.DataFrame({'feature': nombres, 'importance': importancia})\n",
    "df_importancia = df_importancia.sort_values(by='importance', ascending=False)\n",
    "\n",
    "# Mostrar las variables más importantes\n",
    "print(df_importancia)\n",
    "\n",
    "# Si quieres visualizarlo gráficamente:\n",
    "import matplotlib.pyplot as plt\n",
    "\n",
    "plt.figure(figsize=(10,6))\n",
    "plt.barh(df_importancia['feature'], df_importancia['importance'])\n",
    "plt.gca().invert_yaxis()\n",
    "plt.title('Importancia de variables LightGBM')\n",
    "plt.xlabel('Importancia')\n",
    "plt.show()"
   ]
  },
  {
   "cell_type": "code",
   "execution_count": 117,
   "id": "02240a14",
   "metadata": {},
   "outputs": [
    {
     "data": {
      "text/plain": [
       "<lightgbm.basic.Booster at 0x26e05945300>"
      ]
     },
     "execution_count": 117,
     "metadata": {},
     "output_type": "execute_result"
    }
   ],
   "source": [
    "# Guardo el modelo entrenado\n",
    "model.save_model('modelo_regresion_lgbm_lags_delta_promedio_desvio.txt')"
   ]
  },
  {
   "cell_type": "code",
   "execution_count": 118,
   "id": "c6453469",
   "metadata": {},
   "outputs": [
    {
     "name": "stderr",
     "output_type": "stream",
     "text": [
      "C:\\Users\\pcablinski.RWD\\AppData\\Local\\Temp\\ipykernel_59612\\2746725373.py:5: UserWarning: pandas only supports SQLAlchemy connectable (engine/connection) or database string URI or sqlite3 DBAPI2 connection. Other DBAPI2 objects are not tested. Please consider using SQLAlchemy.\n",
      "  df_pred = pd.read_sql(query, conn, chunksize=1000000)  # Lee en chunks para no llenar la RAM\n"
     ]
    }
   ],
   "source": [
    "# Cargo los datos sobre los que quiero hacer predicciones\n",
    "\n",
    "conn =  cx_Oracle.connect(user=\"pc\",password=\"p201404\",dsn=\"siatchdesa\")\n",
    "query = \"select * from L_VM_COMPLETA where periodo = 201912\" \n",
    "df_pred = pd.read_sql(query, conn, chunksize=1000000)  # Lee en chunks para no llenar la RAM\n",
    "\n",
    "# Para concatenar todos los chunks en un solo DataFrame (si tienes suficiente RAM)\n",
    "df_pred_full = pd.concat(df_pred, ignore_index=True)\n",
    "conn.close()"
   ]
  },
  {
   "cell_type": "code",
   "execution_count": 119,
   "id": "d89f9097",
   "metadata": {},
   "outputs": [],
   "source": [
    "# Convertir las variables categóricas a tipo 'category'\n",
    "for col in categorical_features:\n",
    "    df_pred_full[col] = df_pred_full[col].astype('category')\n",
    "\n",
    "# Con el modelo entrenado, hacemos predicciones \n",
    "X_pred = df_pred_full[['PERIODO','CUSTOMER_ID','PRODUCT_ID',\n",
    "'TN_DELTA_01','TN_DELTA_02','TN_DELTA_03','TN_DELTA_06','TN_DELTA_12']]\n"
   ]
  },
  {
   "cell_type": "code",
   "execution_count": 120,
   "id": "5a5f6f91",
   "metadata": {},
   "outputs": [
    {
     "name": "stdout",
     "output_type": "stream",
     "text": [
      "   PERIODO  ANIO  MES  TRIMESTRE  ID_CAT1  ID_CAT2  ID_CAT3  ID_BRAND  \\\n",
      "0   201912  2019   12          4        2       11       57         1   \n",
      "1   201912  2019   12          4        2       11       57         1   \n",
      "2   201912  2019   12          4        2       11       57         1   \n",
      "3   201912  2019   12          4        2       11       57         1   \n",
      "4   201912  2019   12          4        2       11       57         1   \n",
      "\n",
      "   SKU_SIZE CUSTOMER_ID  ...  TN_LAG_06  TN_LAG_12  CLASE  CLASE_DELTA  \\\n",
      "0      3000       10001  ...   65.92436  254.62373   None         None   \n",
      "1      3000       10002  ...  144.07021  131.28861   None         None   \n",
      "2      3000       10003  ...    0.00000   98.91454   None         None   \n",
      "3      3000       10004  ...   66.71971  236.78999   None         None   \n",
      "4      3000       10005  ...    0.00000   19.35723   None         None   \n",
      "\n",
      "   TN_DELTA_01  TN_DELTA_02  TN_DELTA_03  TN_DELTA_06  TN_DELTA_12  \\\n",
      "0    -56.43618      4.18958     71.16694    114.29502    -74.40435   \n",
      "1     67.71670     95.92359     41.24614    -30.73856    -17.95696   \n",
      "2     16.13102     26.26892   -130.93015    102.27517      3.36063   \n",
      "3   -161.03018   -290.31362   -253.69395    -32.07161   -202.14189   \n",
      "4      7.38219      2.46447      6.79968     19.60368      0.24645   \n",
      "\n",
      "   PREDICCIONES  \n",
      "0     -0.678768  \n",
      "1     -4.455183  \n",
      "2    -19.496536  \n",
      "3     26.192706  \n",
      "4     -6.721584  \n",
      "\n",
      "[5 rows x 31 columns]\n",
      "Número de filas: 553419, Número de columnas: 31 con predicciones.\n"
     ]
    }
   ],
   "source": [
    "\n",
    "predictions = model.predict(X_pred)\n",
    "# Agregar las predicciones al DataFrame original\n",
    "df_pred_full['PREDICCIONES'] = predictions\n",
    "# Imprimir las primeras filas del DataFrame con las predicciones\n",
    "print(df_pred_full.head())\n",
    "# Guardar el DataFrame con las predicciones en un archivo CSV\n",
    "df_pred_full.to_csv('predicciones.csv', index=False)\n",
    "# Imprimir el número de filas y columnas del DataFrame con las predicciones\n",
    "print(f\"Número de filas: {df_pred_full.shape[0]}, Número de columnas: {df_pred_full.shape[1]} con predicciones.\")\n",
    "\n"
   ]
  },
  {
   "cell_type": "code",
   "execution_count": 121,
   "id": "f2f8352b",
   "metadata": {},
   "outputs": [],
   "source": [
    "# Con el DataFrame de predicción, actualizamos la base de datos\n",
    "# el criterio es actualizar la tabla L_VM_COMPLETA_PREDICCIONES con las nuevas predicciones\n",
    "# la columnna PREDICCIONES se debe actualizar con los nuevos valores\n",
    "# la clave primaria es (PERIODO, CUSTOMER_ID, PRODUCT_ID)\n",
    "# Hacer commit cada 10000 filas para evitar problemas de memoria\n",
    "\n",
    "# Conectar a la base de datos para actualizar los datos de predicción\n",
    "conn = cx_Oracle.connect(user=\"pc\", password=\"p201404\", dsn=\"siatchdesa\")\n",
    "# Crear un cursor para ejecutar las actualizaciones\n",
    "cursor = conn.cursor()\n",
    "update_query = \"\"\"\n",
    "    UPDATE L_VM_COMPLETA_PREDICCIONES\n",
    "    SET PREDICCION = NULL\n",
    "\"\"\"\n",
    "cursor.execute(update_query)\n",
    "# Hacer commit para aplicar el cambio de NULL\n",
    "conn.commit()\n"
   ]
  },
  {
   "cell_type": "code",
   "execution_count": null,
   "id": "ed46495c",
   "metadata": {},
   "outputs": [
    {
     "name": "stdout",
     "output_type": "stream",
     "text": [
      "Iniciando actualización de la tabla L_VM_COMPLETA_PREDICCIONES con las nuevas predicciones.\n",
      "Actualizadas 0 filas de L_VM_COMPLETA_PREDICCIONES con las nuevas predicciones.\n",
      "Actualizadas 10000 filas de L_VM_COMPLETA_PREDICCIONES con las nuevas predicciones.\n"
     ]
    }
   ],
   "source": [
    "\n",
    "\n",
    "# Imprimir mensaje de inicio de actualización\n",
    "print(\"Iniciando actualización de la tabla L_VM_COMPLETA_PREDICCIONES con las nuevas predicciones.\")\n",
    "\n",
    "# Iterar sobre las filas del DataFrame con las predicciones\n",
    "for index, row in df_pred_full.iterrows():\n",
    "    periodo = row['PERIODO']\n",
    "    customer_id = row['CUSTOMER_ID']\n",
    "    product_id = row['PRODUCT_ID']\n",
    "    prediccion = row['TN'] + row['PREDICCIONES']\n",
    "   # prediccion = row['PREDICCIONES']\n",
    "    \n",
    "    # Actualizar la tabla L_DATOS_PREDICCION con la nueva predicción\n",
    "    update_query = \"\"\"\n",
    "        UPDATE L_VM_COMPLETA_PREDICCIONES\n",
    "        SET PREDICCION = :prediccion\n",
    "        WHERE PERIODO = :periodo AND CUSTOMER_ID = :customer_id AND PRODUCT_ID = :product_id\n",
    "    \"\"\"\n",
    "    cursor.execute(update_query, {'prediccion': prediccion, 'periodo': periodo, 'customer_id': customer_id, 'product_id': product_id})  \n",
    "    # Hacer commit cada 10000 filas para evitar problemas de memoria\n",
    "    if index % 10000 == 0:\n",
    "        conn.commit()\n",
    "        print(f\"Actualizadas {index} filas de L_VM_COMPLETA_PREDICCIONES con las nuevas predicciones.\")\n",
    "# Confirmar los cambios en la base de datos\n",
    "conn.commit()\n",
    "# Cerrar el cursor y la conexión\n",
    "cursor.close()\n",
    "conn.close()\n",
    "# Imprimir mensaje de finalización\n",
    "print(\"Actualización de la tabla  completada con las nuevas predicciones.\")\n"
   ]
  }
 ],
 "metadata": {
  "kernelspec": {
   "display_name": "LaboIII",
   "language": "python",
   "name": "python3"
  },
  "language_info": {
   "codemirror_mode": {
    "name": "ipython",
    "version": 3
   },
   "file_extension": ".py",
   "mimetype": "text/x-python",
   "name": "python",
   "nbconvert_exporter": "python",
   "pygments_lexer": "ipython3",
   "version": "3.9.18"
  }
 },
 "nbformat": 4,
 "nbformat_minor": 5
}
