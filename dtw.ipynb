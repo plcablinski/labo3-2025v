{
 "cells": [
  {
   "cell_type": "markdown",
   "id": "cd67a443",
   "metadata": {},
   "source": [
    "Esto me respondio ChatGPT:\n",
    "\n",
    "from dtaidistance import dtw\n",
    "import numpy as np\n",
    "import pandas as pd\n",
    "from joblib import Parallel, delayed\n",
    "\n",
    "# Simulamos 500k series cortas (ej: 30 valores cada una)\n",
    "# En producción esto vendría de tu DataFrame\n",
    "n_series = 500_000\n",
    "series_length = 30\n",
    "series = [np.random.rand(series_length) for _ in range(n_series)]\n",
    "\n",
    "# Supongamos que querés comparar las primeras 100 contra las siguientes 1000\n",
    "query_series = series[:100]\n",
    "base_series = series[100:1100]\n",
    "\n",
    "# Calculamos DTW usando paralelización con joblib\n",
    "def compute_dtw_for_query(q_idx, q):\n",
    "    distances = [dtw.distance_fast(q, b) for b in base_series]\n",
    "    return q_idx, distances\n",
    "\n",
    "results = Parallel(n_jobs=-1)(delayed(compute_dtw_for_query)(i, q) for i, q in enumerate(query_series))"
   ]
  }
 ],
 "metadata": {
  "language_info": {
   "name": "python"
  }
 },
 "nbformat": 4,
 "nbformat_minor": 5
}
