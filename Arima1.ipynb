{
 "cells": [
  {
   "cell_type": "code",
   "execution_count": 1,
   "id": "085154a6",
   "metadata": {},
   "outputs": [],
   "source": [
    "# Cargo los datos sobre los que quiero hacer predicciones\n",
    "import cx_Oracle\n",
    "import pandas as pd\n"
   ]
  },
  {
   "cell_type": "code",
   "execution_count": 3,
   "id": "3eee952a",
   "metadata": {},
   "outputs": [
    {
     "name": "stderr",
     "output_type": "stream",
     "text": [
      "C:\\Users\\pablo\\AppData\\Local\\Temp\\ipykernel_31260\\1234798557.py:3: UserWarning: pandas only supports SQLAlchemy connectable (engine/connection) or database string URI or sqlite3 DBAPI2 connection. Other DBAPI2 objects are not tested. Please consider using SQLAlchemy.\n",
      "  df_pred = pd.read_sql(query, conn, chunksize=1000000)  # Lee en chunks para no llenar la RAM\n"
     ]
    }
   ],
   "source": [
    "\n",
    "conn =  cx_Oracle.connect(user=\"pc\",password=\"p201404\",dsn=\"siatchdesa\")\n",
    "query = \"select periodo,product_id,sum(tn) tn from PC.L_VM_COMPLETA join L_PRODUCTOS_A_PREDECIR using(product_id) group by periodo,product_id order by product_id,periodo\" \n",
    "df_pred = pd.read_sql(query, conn, chunksize=1000000)  # Lee en chunks para no llenar la RAM\n",
    "\n",
    "# Para concatenar todos los chunks en un solo DataFrame (si tienes suficiente RAM)\n",
    "df_pred_full = pd.concat(df_pred, ignore_index=True)\n",
    "conn.close()"
   ]
  },
  {
   "cell_type": "code",
   "execution_count": 7,
   "id": "28f0b484",
   "metadata": {},
   "outputs": [],
   "source": [
    "# convertir el periodo a datetime\n",
    "df_pred_full['PERIODO'] = pd.to_datetime(df_pred_full['PERIODO'], format='%Y%m')\n"
   ]
  },
  {
   "cell_type": "code",
   "execution_count": 18,
   "id": "2d47e222",
   "metadata": {},
   "outputs": [],
   "source": [
    "# Iterar sobre cada producto hacer un arima prediciendo el periodo 202002\n",
    "# No mostrar los warings de pandas\n",
    "import warnings\n",
    "warnings.filterwarnings(\"ignore\")\n",
    "\n",
    "# Crear un DataFrame para almacenar los resultados de las predicciones que contenga el product_id y la predicción\n",
    "df_pronostico = pd.DataFrame(columns=['PRODUCT_ID', 'TN_PREDICTED'])\n",
    "\n",
    "for product_id, group in df_pred_full.groupby('PRODUCT_ID'):\n",
    "    # Asegurarse de que el índice sea el periodo\n",
    "    group.set_index('PERIODO', inplace=True)\n",
    "    \n",
    "    # Verificar si hay suficientes datos para hacer una predicción\n",
    "    if len(group) < 2:\n",
    "        print(f\"Not enough data for product {product_id} to make a prediction.\")\n",
    "        continue\n",
    "    \n",
    "    # Hacer la predicción (aquí deberías incluir tu modelo ARIMA o cualquier otro modelo)\n",
    "    # Por ejemplo, usando statsmodels:\n",
    "    from statsmodels.tsa.arima.model import ARIMA\n",
    "    \n",
    "    # QUiero predecir el periodo 202002 es decir periodo + 2 meses \n",
    "    # Asegurarse de que el periodo esté ordenado\n",
    "\n",
    "    group = group.sort_index()\n",
    "    model = ARIMA(group['TN'], order=(1, 1, 1))  # Ajusta el orden según sea necesario\n",
    "    model_fit = model.fit()\n",
    "    \n",
    "    # Predecir el periodo 202002 (es decir, el correspondiente a los dos siquientes periodos)\n",
    "    # Aquí asumimos que el último periodo es el último mes en el DataFrame\n",
    "    forecast = model_fit.forecast(steps=2)  # Predecir los próximos 2 periodos\n",
    "    # Agergar en el DataFrame de pronósticos el resultado de la predicción\n",
    "    df_pronostico = pd.concat([df_pronostico, pd.DataFrame([{'PRODUCT_ID': product_id, 'TN_PREDICTED': forecast[1]}])], ignore_index=True)\n"
   ]
  },
  {
   "cell_type": "code",
   "execution_count": 19,
   "id": "9e90f3c7",
   "metadata": {},
   "outputs": [],
   "source": [
    "# Hacer cero los valores de tn_predicted que sean menores a cero\n",
    "df_pronostico['TN_PREDICTED'] = df_pronostico['TN_PREDICTED'].clip(lower=0) \n",
    "# Guardar el DataFrame de pronósticos en un archivo CSV\n",
    "df_pronostico.to_csv('pronostico.csv', index=False, encoding='utf-8-sig')   "
   ]
  },
  {
   "cell_type": "code",
   "execution_count": 20,
   "id": "b8fbeea4",
   "metadata": {},
   "outputs": [
    {
     "name": "stdout",
     "output_type": "stream",
     "text": [
      "  PRODUCT_ID  TN_PREDICTED\n",
      "0      20001   1474.099274\n",
      "1      20002   1121.406015\n",
      "2      20003    856.050822\n",
      "3      20004    631.001564\n",
      "4      20005    605.472811\n"
     ]
    }
   ],
   "source": [
    "print(df_pronostico.head())  # Mostrar las primeras filas del DataFrame de pronósticos\n"
   ]
  }
 ],
 "metadata": {
  "kernelspec": {
   "display_name": "Autogluon",
   "language": "python",
   "name": "python3"
  },
  "language_info": {
   "codemirror_mode": {
    "name": "ipython",
    "version": 3
   },
   "file_extension": ".py",
   "mimetype": "text/x-python",
   "name": "python",
   "nbconvert_exporter": "python",
   "pygments_lexer": "ipython3",
   "version": "3.10.17"
  }
 },
 "nbformat": 4,
 "nbformat_minor": 5
}
