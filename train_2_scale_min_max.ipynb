{
 "cells": [
  {
   "cell_type": "code",
   "execution_count": 1,
   "id": "55fb8f39",
   "metadata": {},
   "outputs": [
    {
     "name": "stderr",
     "output_type": "stream",
     "text": [
      "C:\\Users\\pcablinski.RWD\\AppData\\Local\\Temp\\ipykernel_191576\\2351707876.py:6: UserWarning: pandas only supports SQLAlchemy connectable (engine/connection) or database string URI or sqlite3 DBAPI2 connection. Other DBAPI2 objects are not tested. Please consider using SQLAlchemy.\n",
      "  df = pd.read_sql(query, conn, chunksize=1000000)  # Lee en chunks para no llenar la RAM\n"
     ]
    },
    {
     "name": "stdout",
     "output_type": "stream",
     "text": [
      "(10143267, 4)\n",
      "   PERIODO  CUSTOMER_ID  PRODUCT_ID     CLASE\n",
      "0   201701        10348       20654  0.002670\n",
      "1   201701        10223       20654  0.008021\n",
      "2   201701        10392       20654  0.000000\n",
      "3   201701        10082       20654  0.000000\n",
      "4   201701        10416       20654  0.003346\n",
      "PERIODO          int64\n",
      "CUSTOMER_ID      int64\n",
      "PRODUCT_ID       int64\n",
      "CLASE          float64\n",
      "dtype: object\n",
      "Número de filas: 10143267, Número de columnas: 4\n"
     ]
    }
   ],
   "source": [
    "import cx_Oracle\n",
    "import pandas as pd\n",
    "\n",
    "conn =  cx_Oracle.connect(user=\"pc\",password=\"p201404\",dsn=\"siatchdesa\")\n",
    "query = \"select periodo,customer_id,product_id,clase_escalada clase from L_VW_DATOS_TRAIN_MINMAX\" \n",
    "df = pd.read_sql(query, conn, chunksize=1000000)  # Lee en chunks para no llenar la RAM\n",
    "\n",
    "# Para concatenar todos los chunks en un solo DataFrame (si tienes suficiente RAM)\n",
    "df_full = pd.concat(df, ignore_index=True)\n",
    "conn.close()\n",
    "print(df_full.shape)\n",
    "# Imprimir las primeras filas del DataFrame completo\n",
    "print(df_full.head())\n",
    "# Imprimir los tipos de datos de las columnas del DataFrame completo\n",
    "print(df_full.dtypes)\n",
    "# Imprimir el número de filas y columnas del DataFrame completo\n",
    "print(f\"Número de filas: {df_full.shape[0]}, Número de columnas: {df_full.shape[1]}\")"
   ]
  },
  {
   "cell_type": "code",
   "execution_count": 6,
   "id": "2bf8d0f2",
   "metadata": {},
   "outputs": [
    {
     "name": "stdout",
     "output_type": "stream",
     "text": [
      "[LightGBM] [Info] Auto-choosing row-wise multi-threading, the overhead of testing was 0.056554 seconds.\n",
      "You can set `force_row_wise=true` to remove the overhead.\n",
      "And if memory is not enough, you can set `force_col_wise=true`.\n",
      "[LightGBM] [Info] Total Bins 545\n",
      "[LightGBM] [Info] Number of data points in the train set: 10143267, number of used features: 3\n",
      "[LightGBM] [Info] Start training from score 0.004893\n",
      "Modelo de regresión entrenado con todo el dataset.\n"
     ]
    }
   ],
   "source": [
    "# Usando este código como base para un modelo de regresión con LightGBM\n",
    "# agregar hojas de LightGBM\n",
    "\n",
    "import lightgbm as lgb\n",
    "\n",
    "# Variables predictoras y objetivo\n",
    "X = df_full[['PERIODO', 'CUSTOMER_ID', 'PRODUCT_ID']]\n",
    "y = df_full['CLASE']\n",
    "\n",
    "# Crear el dataset de LightGBM\n",
    "train_data = lgb.Dataset(X, label=y)\n",
    "\n",
    "# Definir parámetros para regresión\n",
    "params = {\n",
    "    'objective': 'regression',\n",
    "    'metric': 'rmse',\n",
    "    'boosting_type': 'gbdt',\n",
    "    'num_leaves': 31,\n",
    "    'learning_rate': 0.05,\n",
    "    'feature_fraction': 0.9,\n",
    "}\n",
    "\n",
    "# Entrenar el modelo\n",
    "model = lgb.train(params, train_data, num_boost_round=100)\n",
    "\n",
    "print(\"Modelo de regresión entrenado con todo el dataset.\")"
   ]
  },
  {
   "cell_type": "code",
   "execution_count": 7,
   "id": "c6453469",
   "metadata": {},
   "outputs": [
    {
     "name": "stderr",
     "output_type": "stream",
     "text": [
      "C:\\Users\\pcablinski.RWD\\AppData\\Local\\Temp\\ipykernel_191576\\3968896330.py:5: UserWarning: pandas only supports SQLAlchemy connectable (engine/connection) or database string URI or sqlite3 DBAPI2 connection. Other DBAPI2 objects are not tested. Please consider using SQLAlchemy.\n",
      "  df_pred = pd.read_sql(query, conn, chunksize=1000000)  # Lee en chunks para no llenar la RAM\n"
     ]
    }
   ],
   "source": [
    "# Cargo los datos sobre los que quiero hacer predicciones\n",
    "\n",
    "conn =  cx_Oracle.connect(user=\"pc\",password=\"p201404\",dsn=\"siatchdesa\")\n",
    "query = \"select * from L_DATOS_PREDICCION\" \n",
    "df_pred = pd.read_sql(query, conn, chunksize=1000000)  # Lee en chunks para no llenar la RAM\n",
    "\n",
    "# Para concatenar todos los chunks en un solo DataFrame (si tienes suficiente RAM)\n",
    "df_pred_full = pd.concat(df_pred, ignore_index=True)\n",
    "conn.close()"
   ]
  },
  {
   "cell_type": "code",
   "execution_count": 8,
   "id": "d89f9097",
   "metadata": {},
   "outputs": [
    {
     "name": "stdout",
     "output_type": "stream",
     "text": [
      "   PERIODO  PRODUCT_ID  CUSTOMER_ID  TN_PREDICCION  PREDICCIONES\n",
      "0   201912       20003        10001       0.323924      0.233927\n",
      "1   201912       20027        10001       0.182536      0.187748\n",
      "2   201912       20059        10001       0.284770      0.192685\n",
      "3   201912       20063        10001       0.275874      0.192685\n",
      "4   201912       20074        10001       0.199980      0.185543\n",
      "Número de filas: 333840, Número de columnas: 5 con predicciones.\n"
     ]
    },
    {
     "data": {
      "text/plain": [
       "<lightgbm.basic.Booster at 0x26068e61fc0>"
      ]
     },
     "execution_count": 8,
     "metadata": {},
     "output_type": "execute_result"
    }
   ],
   "source": [
    "# Con el modelo entrenado, hacemos predicciones \n",
    "X_pred = df_pred_full[['PERIODO', 'CUSTOMER_ID', 'PRODUCT_ID']]\n",
    "predictions = model.predict(X_pred)\n",
    "# Agregar las predicciones al DataFrame original\n",
    "df_pred_full['PREDICCIONES'] = predictions\n",
    "# Imprimir las primeras filas del DataFrame con las predicciones\n",
    "print(df_pred_full.head())\n",
    "# Guardar el DataFrame con las predicciones en un archivo CSV\n",
    "df_pred_full.to_csv('predicciones.csv', index=False)\n",
    "# Imprimir el número de filas y columnas del DataFrame con las predicciones\n",
    "print(f\"Número de filas: {df_pred_full.shape[0]}, Número de columnas: {df_pred_full.shape[1]} con predicciones.\")\n",
    "# Guardar el modelo entrenado\n",
    "model.save_model('modelo_regresion.txt')\n"
   ]
  },
  {
   "cell_type": "code",
   "execution_count": 9,
   "id": "f2f8352b",
   "metadata": {},
   "outputs": [
    {
     "name": "stdout",
     "output_type": "stream",
     "text": [
      "Actualizadas 0 filas de L_DATOS_PREDICCION con las nuevas predicciones.\n",
      "Actualizadas 10000 filas de L_DATOS_PREDICCION con las nuevas predicciones.\n",
      "Actualizadas 20000 filas de L_DATOS_PREDICCION con las nuevas predicciones.\n",
      "Actualizadas 30000 filas de L_DATOS_PREDICCION con las nuevas predicciones.\n",
      "Actualizadas 40000 filas de L_DATOS_PREDICCION con las nuevas predicciones.\n",
      "Actualizadas 50000 filas de L_DATOS_PREDICCION con las nuevas predicciones.\n",
      "Actualizadas 60000 filas de L_DATOS_PREDICCION con las nuevas predicciones.\n",
      "Actualizadas 70000 filas de L_DATOS_PREDICCION con las nuevas predicciones.\n",
      "Actualizadas 80000 filas de L_DATOS_PREDICCION con las nuevas predicciones.\n",
      "Actualizadas 90000 filas de L_DATOS_PREDICCION con las nuevas predicciones.\n",
      "Actualizadas 100000 filas de L_DATOS_PREDICCION con las nuevas predicciones.\n",
      "Actualizadas 110000 filas de L_DATOS_PREDICCION con las nuevas predicciones.\n",
      "Actualizadas 120000 filas de L_DATOS_PREDICCION con las nuevas predicciones.\n",
      "Actualizadas 130000 filas de L_DATOS_PREDICCION con las nuevas predicciones.\n",
      "Actualizadas 140000 filas de L_DATOS_PREDICCION con las nuevas predicciones.\n",
      "Actualizadas 150000 filas de L_DATOS_PREDICCION con las nuevas predicciones.\n",
      "Actualizadas 160000 filas de L_DATOS_PREDICCION con las nuevas predicciones.\n",
      "Actualizadas 170000 filas de L_DATOS_PREDICCION con las nuevas predicciones.\n",
      "Actualizadas 180000 filas de L_DATOS_PREDICCION con las nuevas predicciones.\n",
      "Actualizadas 190000 filas de L_DATOS_PREDICCION con las nuevas predicciones.\n",
      "Actualizadas 200000 filas de L_DATOS_PREDICCION con las nuevas predicciones.\n",
      "Actualizadas 210000 filas de L_DATOS_PREDICCION con las nuevas predicciones.\n",
      "Actualizadas 220000 filas de L_DATOS_PREDICCION con las nuevas predicciones.\n",
      "Actualizadas 230000 filas de L_DATOS_PREDICCION con las nuevas predicciones.\n",
      "Actualizadas 240000 filas de L_DATOS_PREDICCION con las nuevas predicciones.\n",
      "Actualizadas 250000 filas de L_DATOS_PREDICCION con las nuevas predicciones.\n",
      "Actualizadas 260000 filas de L_DATOS_PREDICCION con las nuevas predicciones.\n",
      "Actualizadas 270000 filas de L_DATOS_PREDICCION con las nuevas predicciones.\n",
      "Actualizadas 280000 filas de L_DATOS_PREDICCION con las nuevas predicciones.\n",
      "Actualizadas 290000 filas de L_DATOS_PREDICCION con las nuevas predicciones.\n",
      "Actualizadas 300000 filas de L_DATOS_PREDICCION con las nuevas predicciones.\n",
      "Actualizadas 310000 filas de L_DATOS_PREDICCION con las nuevas predicciones.\n",
      "Actualizadas 320000 filas de L_DATOS_PREDICCION con las nuevas predicciones.\n",
      "Actualizadas 330000 filas de L_DATOS_PREDICCION con las nuevas predicciones.\n",
      "Actualización de la tabla L_DATOS_PREDICCION completada con las nuevas predicciones.\n"
     ]
    }
   ],
   "source": [
    "# Con el DataFrame de predicción, actualizamos la base de datos\n",
    "# el criterio es actualizar la tabla L_DATOS_PREDICCION con las nuevas predicciones\n",
    "# la columnna PREDICCIONES se debe actualizar con los nuevos valores\n",
    "# la clave primaria es (PERIODO, CUSTOMER_ID, PRODUCT_ID)\n",
    "# Hacer commit cada 10000 filas para evitar problemas de memoria\n",
    "\n",
    "# Conectar a la base de datos para actualizar los datos de predicción\n",
    "conn = cx_Oracle.connect(user=\"pc\", password=\"p201404\", dsn=\"siatchdesa\")\n",
    "# Crear un cursor para ejecutar las actualizaciones\n",
    "cursor = conn.cursor()\n",
    "# Iterar sobre las filas del DataFrame con las predicciones\n",
    "for index, row in df_pred_full.iterrows():\n",
    "    periodo = row['PERIODO']\n",
    "    customer_id = row['CUSTOMER_ID']\n",
    "    product_id = row['PRODUCT_ID']\n",
    "    prediccion = row['PREDICCIONES']\n",
    "    \n",
    "    # Actualizar la tabla L_DATOS_PREDICCION con la nueva predicción\n",
    "    update_query = \"\"\"\n",
    "        UPDATE L_DATOS_PREDICCION\n",
    "        SET TN_PREDICCION = :prediccion\n",
    "        WHERE PERIODO = :periodo AND CUSTOMER_ID = :customer_id AND PRODUCT_ID = :product_id\n",
    "    \"\"\"\n",
    "    cursor.execute(update_query, {'prediccion': prediccion, 'periodo': periodo, 'customer_id': customer_id, 'product_id': product_id})  \n",
    "    # Hacer commit cada 10000 filas para evitar problemas de memoria\n",
    "    if index % 10000 == 0:\n",
    "        conn.commit()\n",
    "        print(f\"Actualizadas {index} filas de L_DATOS_PREDICCION con las nuevas predicciones.\")\n",
    "# Confirmar los cambios en la base de datos\n",
    "conn.commit()\n",
    "# Cerrar el cursor y la conexión\n",
    "cursor.close()\n",
    "conn.close()\n",
    "# Imprimir mensaje de finalización\n",
    "print(\"Actualización de la tabla L_DATOS_PREDICCION completada con las nuevas predicciones.\")\n"
   ]
  }
 ],
 "metadata": {
  "kernelspec": {
   "display_name": "Series_temporales",
   "language": "python",
   "name": "python3"
  },
  "language_info": {
   "codemirror_mode": {
    "name": "ipython",
    "version": 3
   },
   "file_extension": ".py",
   "mimetype": "text/x-python",
   "name": "python",
   "nbconvert_exporter": "python",
   "pygments_lexer": "ipython3",
   "version": "3.10.15"
  }
 },
 "nbformat": 4,
 "nbformat_minor": 5
}
