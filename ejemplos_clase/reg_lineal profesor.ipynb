{
 "cells": [
  {
   "cell_type": "code",
   "execution_count": 49,
   "id": "6f76caaa",
   "metadata": {},
   "outputs": [
    {
     "name": "stderr",
     "output_type": "stream",
     "text": [
      "C:\\Users\\carre\\AppData\\Local\\Temp\\ipykernel_1940\\2930753992.py:24: FutureWarning: Downcasting object dtype arrays on .fillna, .ffill, .bfill is deprecated and will change in a future version. Call result.infer_objects(copy=False) instead. To opt-in to the future behavior, set `pd.set_option('future.no_silent_downcasting', True)`\n",
      "  promedio = promedio.fillna(0)\n",
      "C:\\Users\\carre\\AppData\\Local\\Temp\\ipykernel_1940\\2930753992.py:27: FutureWarning: The behavior of 'isin' with dtype=datetime64[ns] and castable values (e.g. strings) is deprecated. In a future version, these will not be considered matching by isin. Explicitly cast to the appropriate dtype before calling isin instead.\n",
      "  y = df_pivot[magicos].query(\"periodo == '2019-02-01'\").T.iloc[1:]\n"
     ]
    }
   ],
   "source": [
    "import pandas as pd\n",
    "import gc\n",
    "import numpy as np\n",
    "\n",
    "df = pd.read_csv(\"../datasets/sell-in.txt.gz\", sep=\"\\t\")\n",
    "df = df.groupby(by=[\"periodo\",\"product_id\"]).agg({\"tn\":\"sum\"}).reset_index()\n",
    "df[\"periodo\"] = pd.to_datetime(df[\"periodo\"], format=\"%Y%m\")\n",
    "df_pivot = df.pivot(index=\"periodo\", columns=\"product_id\", values=\"tn\").reset_index()\n",
    "\n",
    "magicos = [ \"periodo\",20002, 20003, 20006, 20010, 20011, 20018, 20019, 20021,\n",
    "   20026, 20028, 20035, 20039, 20042, 20044, 20045, 20046,  20049,\n",
    "   20051, 20052, 20053, 20055, 20008, 20001, 20017, 20086, 20180,\n",
    "   20193, 20320, 20532, 20612, 20637, 20807, 20838\n",
    " ]\n",
    "X_train = df_pivot[magicos].query(\"periodo >= '2018-01-01' & periodo <= '2018-12-31' \")\n",
    "X_train = X_train.T.iloc[1:]\n",
    "X_train.columns = [f\"t-{11-k}\" for k in range(12)]\n",
    "\n",
    "\n",
    "X_kgl = df_pivot.query(\"periodo >= '2019-01-01' & periodo <= '2019-12-31'\")\n",
    "X_kgl = X_kgl.T.iloc[1:]\n",
    "X_kgl.columns = [f\"t-{11-k}\" for k in range(12)]\n",
    "promedio = X_kgl.mean(axis=1)\n",
    "promedio = promedio.fillna(0)\n",
    "\n",
    "\n",
    "y = df_pivot[magicos].query(\"periodo == '2019-02-01'\").T.iloc[1:]\n",
    "y.columns = [\"target\"]\n"
   ]
  },
  {
   "cell_type": "code",
   "execution_count": 50,
   "id": "3efbd2ed",
   "metadata": {},
   "outputs": [
    {
     "data": {
      "application/vnd.microsoft.datawrangler.viewer.v0+json": {
       "columns": [
        {
         "name": "product_id",
         "rawType": "object",
         "type": "unknown"
        },
        {
         "name": "target",
         "rawType": "object",
         "type": "unknown"
        }
       ],
       "ref": "ea3ff7ce-186c-48bf-a318-8f12f2786eea",
       "rows": [
        [
         "20002",
         "1043.01349"
        ],
        [
         "20003",
         "758.3265700000001"
        ],
        [
         "20006",
         "479.99914"
        ],
        [
         "20010",
         "337.76009"
        ],
        [
         "20011",
         "431.62938"
        ],
        [
         "20018",
         "265.84135"
        ],
        [
         "20019",
         "323.66178"
        ],
        [
         "20021",
         "219.88514999999998"
        ],
        [
         "20026",
         "263.67957"
        ],
        [
         "20028",
         "277.49358"
        ],
        [
         "20035",
         "147.80444"
        ],
        [
         "20039",
         "156.62559"
        ],
        [
         "20042",
         "107.68438"
        ],
        [
         "20044",
         "173.56001"
        ],
        [
         "20045",
         "148.1163"
        ],
        [
         "20046",
         "157.39975"
        ],
        [
         "20049",
         "155.36976"
        ],
        [
         "20051",
         "133.21935"
        ],
        [
         "20052",
         "84.48313999999999"
        ],
        [
         "20053",
         "144.51834"
        ],
        [
         "20055",
         "130.68292"
        ],
        [
         "20008",
         "476.98787"
        ],
        [
         "20001",
         "1259.09363"
        ],
        [
         "20017",
         "308.7106"
        ],
        [
         "20086",
         "58.267810000000004"
        ],
        [
         "20180",
         "30.57289"
        ],
        [
         "20193",
         "31.870340000000002"
        ],
        [
         "20320",
         "15.73572"
        ],
        [
         "20532",
         "6.87043"
        ],
        [
         "20612",
         "4.30324"
        ],
        [
         "20637",
         "4.66338"
        ],
        [
         "20807",
         "2.36726"
        ],
        [
         "20838",
         "2.5385"
        ]
       ],
       "shape": {
        "columns": 1,
        "rows": 33
       }
      },
      "text/html": [
       "<div>\n",
       "<style scoped>\n",
       "    .dataframe tbody tr th:only-of-type {\n",
       "        vertical-align: middle;\n",
       "    }\n",
       "\n",
       "    .dataframe tbody tr th {\n",
       "        vertical-align: top;\n",
       "    }\n",
       "\n",
       "    .dataframe thead th {\n",
       "        text-align: right;\n",
       "    }\n",
       "</style>\n",
       "<table border=\"1\" class=\"dataframe\">\n",
       "  <thead>\n",
       "    <tr style=\"text-align: right;\">\n",
       "      <th></th>\n",
       "      <th>target</th>\n",
       "    </tr>\n",
       "    <tr>\n",
       "      <th>product_id</th>\n",
       "      <th></th>\n",
       "    </tr>\n",
       "  </thead>\n",
       "  <tbody>\n",
       "    <tr>\n",
       "      <th>20002</th>\n",
       "      <td>1043.01349</td>\n",
       "    </tr>\n",
       "    <tr>\n",
       "      <th>20003</th>\n",
       "      <td>758.32657</td>\n",
       "    </tr>\n",
       "    <tr>\n",
       "      <th>20006</th>\n",
       "      <td>479.99914</td>\n",
       "    </tr>\n",
       "    <tr>\n",
       "      <th>20010</th>\n",
       "      <td>337.76009</td>\n",
       "    </tr>\n",
       "    <tr>\n",
       "      <th>20011</th>\n",
       "      <td>431.62938</td>\n",
       "    </tr>\n",
       "    <tr>\n",
       "      <th>20018</th>\n",
       "      <td>265.84135</td>\n",
       "    </tr>\n",
       "    <tr>\n",
       "      <th>20019</th>\n",
       "      <td>323.66178</td>\n",
       "    </tr>\n",
       "    <tr>\n",
       "      <th>20021</th>\n",
       "      <td>219.88515</td>\n",
       "    </tr>\n",
       "    <tr>\n",
       "      <th>20026</th>\n",
       "      <td>263.67957</td>\n",
       "    </tr>\n",
       "    <tr>\n",
       "      <th>20028</th>\n",
       "      <td>277.49358</td>\n",
       "    </tr>\n",
       "    <tr>\n",
       "      <th>20035</th>\n",
       "      <td>147.80444</td>\n",
       "    </tr>\n",
       "    <tr>\n",
       "      <th>20039</th>\n",
       "      <td>156.62559</td>\n",
       "    </tr>\n",
       "    <tr>\n",
       "      <th>20042</th>\n",
       "      <td>107.68438</td>\n",
       "    </tr>\n",
       "    <tr>\n",
       "      <th>20044</th>\n",
       "      <td>173.56001</td>\n",
       "    </tr>\n",
       "    <tr>\n",
       "      <th>20045</th>\n",
       "      <td>148.1163</td>\n",
       "    </tr>\n",
       "    <tr>\n",
       "      <th>20046</th>\n",
       "      <td>157.39975</td>\n",
       "    </tr>\n",
       "    <tr>\n",
       "      <th>20049</th>\n",
       "      <td>155.36976</td>\n",
       "    </tr>\n",
       "    <tr>\n",
       "      <th>20051</th>\n",
       "      <td>133.21935</td>\n",
       "    </tr>\n",
       "    <tr>\n",
       "      <th>20052</th>\n",
       "      <td>84.48314</td>\n",
       "    </tr>\n",
       "    <tr>\n",
       "      <th>20053</th>\n",
       "      <td>144.51834</td>\n",
       "    </tr>\n",
       "    <tr>\n",
       "      <th>20055</th>\n",
       "      <td>130.68292</td>\n",
       "    </tr>\n",
       "    <tr>\n",
       "      <th>20008</th>\n",
       "      <td>476.98787</td>\n",
       "    </tr>\n",
       "    <tr>\n",
       "      <th>20001</th>\n",
       "      <td>1259.09363</td>\n",
       "    </tr>\n",
       "    <tr>\n",
       "      <th>20017</th>\n",
       "      <td>308.7106</td>\n",
       "    </tr>\n",
       "    <tr>\n",
       "      <th>20086</th>\n",
       "      <td>58.26781</td>\n",
       "    </tr>\n",
       "    <tr>\n",
       "      <th>20180</th>\n",
       "      <td>30.57289</td>\n",
       "    </tr>\n",
       "    <tr>\n",
       "      <th>20193</th>\n",
       "      <td>31.87034</td>\n",
       "    </tr>\n",
       "    <tr>\n",
       "      <th>20320</th>\n",
       "      <td>15.73572</td>\n",
       "    </tr>\n",
       "    <tr>\n",
       "      <th>20532</th>\n",
       "      <td>6.87043</td>\n",
       "    </tr>\n",
       "    <tr>\n",
       "      <th>20612</th>\n",
       "      <td>4.30324</td>\n",
       "    </tr>\n",
       "    <tr>\n",
       "      <th>20637</th>\n",
       "      <td>4.66338</td>\n",
       "    </tr>\n",
       "    <tr>\n",
       "      <th>20807</th>\n",
       "      <td>2.36726</td>\n",
       "    </tr>\n",
       "    <tr>\n",
       "      <th>20838</th>\n",
       "      <td>2.5385</td>\n",
       "    </tr>\n",
       "  </tbody>\n",
       "</table>\n",
       "</div>"
      ],
      "text/plain": [
       "                target\n",
       "product_id            \n",
       "20002       1043.01349\n",
       "20003        758.32657\n",
       "20006        479.99914\n",
       "20010        337.76009\n",
       "20011        431.62938\n",
       "20018        265.84135\n",
       "20019        323.66178\n",
       "20021        219.88515\n",
       "20026        263.67957\n",
       "20028        277.49358\n",
       "20035        147.80444\n",
       "20039        156.62559\n",
       "20042        107.68438\n",
       "20044        173.56001\n",
       "20045         148.1163\n",
       "20046        157.39975\n",
       "20049        155.36976\n",
       "20051        133.21935\n",
       "20052         84.48314\n",
       "20053        144.51834\n",
       "20055        130.68292\n",
       "20008        476.98787\n",
       "20001       1259.09363\n",
       "20017         308.7106\n",
       "20086         58.26781\n",
       "20180         30.57289\n",
       "20193         31.87034\n",
       "20320         15.73572\n",
       "20532          6.87043\n",
       "20612          4.30324\n",
       "20637          4.66338\n",
       "20807          2.36726\n",
       "20838           2.5385"
      ]
     },
     "execution_count": 50,
     "metadata": {},
     "output_type": "execute_result"
    }
   ],
   "source": [
    "y"
   ]
  },
  {
   "cell_type": "code",
   "execution_count": 51,
   "id": "45fb8b3d",
   "metadata": {},
   "outputs": [
    {
     "data": {
      "application/vnd.microsoft.datawrangler.viewer.v0+json": {
       "columns": [
        {
         "name": "product_id",
         "rawType": "object",
         "type": "unknown"
        },
        {
         "name": "0",
         "rawType": "float64",
         "type": "float"
        }
       ],
       "ref": "318a84b8-62c0-4ea3-9832-201fc5044640",
       "rows": [
        [
         "20001",
         "1454.73272"
        ],
        [
         "20002",
         "1175.4371416666665"
        ],
        [
         "20003",
         "784.9764074999999"
        ],
        [
         "20004",
         "627.2153283333333"
        ],
        [
         "20005",
         "668.2701041666667"
        ],
        [
         "20006",
         "478.6137083333333"
        ],
        [
         "20007",
         "434.1378058333333"
        ],
        [
         "20008",
         "422.0481833333334"
        ],
        [
         "20009",
         "541.3225866666668"
        ],
        [
         "20010",
         "429.5746608333333"
        ],
        [
         "20011",
         "377.63543999999996"
        ],
        [
         "20012",
         "332.22888499999993"
        ],
        [
         "20013",
         "416.06292"
        ],
        [
         "20014",
         "414.70520000000005"
        ],
        [
         "20015",
         "369.0236516666667"
        ],
        [
         "20016",
         "288.51459000000006"
        ],
        [
         "20017",
         "287.38575166666664"
        ],
        [
         "20018",
         "275.44511083333333"
        ],
        [
         "20019",
         "306.52162749999997"
        ],
        [
         "20020",
         "280.10235416666666"
        ],
        [
         "20021",
         "259.495665"
        ],
        [
         "20022",
         "279.2040033333334"
        ],
        [
         "20023",
         "266.90118"
        ],
        [
         "20024",
         "222.11552999999995"
        ],
        [
         "20025",
         "222.86218499999998"
        ],
        [
         "20026",
         "237.10623833333332"
        ],
        [
         "20027",
         "230.01491750000002"
        ],
        [
         "20028",
         "213.228015"
        ],
        [
         "20029",
         "185.16274833333333"
        ],
        [
         "20030",
         "127.85045000000001"
        ],
        [
         "20031",
         "185.90788666666666"
        ],
        [
         "20032",
         "590.33366"
        ],
        [
         "20033",
         "176.0324475"
        ],
        [
         "20034",
         "145.80657"
        ],
        [
         "20035",
         "172.19100333333336"
        ],
        [
         "20036",
         "73.81920000000001"
        ],
        [
         "20037",
         "179.6500583333333"
        ],
        [
         "20038",
         "175.94156499999997"
        ],
        [
         "20039",
         "144.3735175"
        ],
        [
         "20040",
         "151.9103677777778"
        ],
        [
         "20041",
         "144.23799083333333"
        ],
        [
         "20042",
         "174.63574083333333"
        ],
        [
         "20043",
         "137.17993833333333"
        ],
        [
         "20044",
         "169.41375499999998"
        ],
        [
         "20045",
         "154.42506916666665"
        ],
        [
         "20046",
         "155.99976583333333"
        ],
        [
         "20047",
         "165.35396500000004"
        ],
        [
         "20048",
         "165.17689749999997"
        ],
        [
         "20049",
         "203.98650999999998"
        ],
        [
         "20050",
         "131.33700499999998"
        ]
       ],
       "shape": {
        "columns": 1,
        "rows": 1233
       }
      },
      "text/plain": [
       "product_id\n",
       "20001    1454.732720\n",
       "20002    1175.437142\n",
       "20003     784.976407\n",
       "20004     627.215328\n",
       "20005     668.270104\n",
       "            ...     \n",
       "21295       0.000000\n",
       "21296       0.000000\n",
       "21297       0.000000\n",
       "21298       0.000000\n",
       "21299       0.000000\n",
       "Length: 1233, dtype: float64"
      ]
     },
     "execution_count": 51,
     "metadata": {},
     "output_type": "execute_result"
    }
   ],
   "source": [
    "promedio"
   ]
  },
  {
   "cell_type": "code",
   "execution_count": 52,
   "id": "8e6da8bd",
   "metadata": {},
   "outputs": [],
   "source": [
    "prod_menos12 = X_kgl.index[X_kgl.isna().sum(axis=1)> 0]\n",
    "X_kgl = X_kgl[~X_kgl.index.isin(prod_menos12)]\n",
    "promedio_menos12 = promedio[prod_menos12]"
   ]
  },
  {
   "cell_type": "markdown",
   "id": "c59221bd",
   "metadata": {},
   "source": [
    "HIPERPARAMETROS"
   ]
  },
  {
   "cell_type": "code",
   "execution_count": 53,
   "id": "4a90a435",
   "metadata": {},
   "outputs": [],
   "source": [
    "#predict \n",
    "productos_ok = pd.read_csv(\"https://storage.googleapis.com/open-courses/austral2025-af91/labo3v/product_id_apredecir201912.txt\", sep=\"\\t\")\n"
   ]
  },
  {
   "cell_type": "code",
   "execution_count": 54,
   "id": "fc99ffec",
   "metadata": {},
   "outputs": [
    {
     "data": {
      "text/html": [
       "<style>#sk-container-id-3 {\n",
       "  /* Definition of color scheme common for light and dark mode */\n",
       "  --sklearn-color-text: #000;\n",
       "  --sklearn-color-text-muted: #666;\n",
       "  --sklearn-color-line: gray;\n",
       "  /* Definition of color scheme for unfitted estimators */\n",
       "  --sklearn-color-unfitted-level-0: #fff5e6;\n",
       "  --sklearn-color-unfitted-level-1: #f6e4d2;\n",
       "  --sklearn-color-unfitted-level-2: #ffe0b3;\n",
       "  --sklearn-color-unfitted-level-3: chocolate;\n",
       "  /* Definition of color scheme for fitted estimators */\n",
       "  --sklearn-color-fitted-level-0: #f0f8ff;\n",
       "  --sklearn-color-fitted-level-1: #d4ebff;\n",
       "  --sklearn-color-fitted-level-2: #b3dbfd;\n",
       "  --sklearn-color-fitted-level-3: cornflowerblue;\n",
       "\n",
       "  /* Specific color for light theme */\n",
       "  --sklearn-color-text-on-default-background: var(--sg-text-color, var(--theme-code-foreground, var(--jp-content-font-color1, black)));\n",
       "  --sklearn-color-background: var(--sg-background-color, var(--theme-background, var(--jp-layout-color0, white)));\n",
       "  --sklearn-color-border-box: var(--sg-text-color, var(--theme-code-foreground, var(--jp-content-font-color1, black)));\n",
       "  --sklearn-color-icon: #696969;\n",
       "\n",
       "  @media (prefers-color-scheme: dark) {\n",
       "    /* Redefinition of color scheme for dark theme */\n",
       "    --sklearn-color-text-on-default-background: var(--sg-text-color, var(--theme-code-foreground, var(--jp-content-font-color1, white)));\n",
       "    --sklearn-color-background: var(--sg-background-color, var(--theme-background, var(--jp-layout-color0, #111)));\n",
       "    --sklearn-color-border-box: var(--sg-text-color, var(--theme-code-foreground, var(--jp-content-font-color1, white)));\n",
       "    --sklearn-color-icon: #878787;\n",
       "  }\n",
       "}\n",
       "\n",
       "#sk-container-id-3 {\n",
       "  color: var(--sklearn-color-text);\n",
       "}\n",
       "\n",
       "#sk-container-id-3 pre {\n",
       "  padding: 0;\n",
       "}\n",
       "\n",
       "#sk-container-id-3 input.sk-hidden--visually {\n",
       "  border: 0;\n",
       "  clip: rect(1px 1px 1px 1px);\n",
       "  clip: rect(1px, 1px, 1px, 1px);\n",
       "  height: 1px;\n",
       "  margin: -1px;\n",
       "  overflow: hidden;\n",
       "  padding: 0;\n",
       "  position: absolute;\n",
       "  width: 1px;\n",
       "}\n",
       "\n",
       "#sk-container-id-3 div.sk-dashed-wrapped {\n",
       "  border: 1px dashed var(--sklearn-color-line);\n",
       "  margin: 0 0.4em 0.5em 0.4em;\n",
       "  box-sizing: border-box;\n",
       "  padding-bottom: 0.4em;\n",
       "  background-color: var(--sklearn-color-background);\n",
       "}\n",
       "\n",
       "#sk-container-id-3 div.sk-container {\n",
       "  /* jupyter's `normalize.less` sets `[hidden] { display: none; }`\n",
       "     but bootstrap.min.css set `[hidden] { display: none !important; }`\n",
       "     so we also need the `!important` here to be able to override the\n",
       "     default hidden behavior on the sphinx rendered scikit-learn.org.\n",
       "     See: https://github.com/scikit-learn/scikit-learn/issues/21755 */\n",
       "  display: inline-block !important;\n",
       "  position: relative;\n",
       "}\n",
       "\n",
       "#sk-container-id-3 div.sk-text-repr-fallback {\n",
       "  display: none;\n",
       "}\n",
       "\n",
       "div.sk-parallel-item,\n",
       "div.sk-serial,\n",
       "div.sk-item {\n",
       "  /* draw centered vertical line to link estimators */\n",
       "  background-image: linear-gradient(var(--sklearn-color-text-on-default-background), var(--sklearn-color-text-on-default-background));\n",
       "  background-size: 2px 100%;\n",
       "  background-repeat: no-repeat;\n",
       "  background-position: center center;\n",
       "}\n",
       "\n",
       "/* Parallel-specific style estimator block */\n",
       "\n",
       "#sk-container-id-3 div.sk-parallel-item::after {\n",
       "  content: \"\";\n",
       "  width: 100%;\n",
       "  border-bottom: 2px solid var(--sklearn-color-text-on-default-background);\n",
       "  flex-grow: 1;\n",
       "}\n",
       "\n",
       "#sk-container-id-3 div.sk-parallel {\n",
       "  display: flex;\n",
       "  align-items: stretch;\n",
       "  justify-content: center;\n",
       "  background-color: var(--sklearn-color-background);\n",
       "  position: relative;\n",
       "}\n",
       "\n",
       "#sk-container-id-3 div.sk-parallel-item {\n",
       "  display: flex;\n",
       "  flex-direction: column;\n",
       "}\n",
       "\n",
       "#sk-container-id-3 div.sk-parallel-item:first-child::after {\n",
       "  align-self: flex-end;\n",
       "  width: 50%;\n",
       "}\n",
       "\n",
       "#sk-container-id-3 div.sk-parallel-item:last-child::after {\n",
       "  align-self: flex-start;\n",
       "  width: 50%;\n",
       "}\n",
       "\n",
       "#sk-container-id-3 div.sk-parallel-item:only-child::after {\n",
       "  width: 0;\n",
       "}\n",
       "\n",
       "/* Serial-specific style estimator block */\n",
       "\n",
       "#sk-container-id-3 div.sk-serial {\n",
       "  display: flex;\n",
       "  flex-direction: column;\n",
       "  align-items: center;\n",
       "  background-color: var(--sklearn-color-background);\n",
       "  padding-right: 1em;\n",
       "  padding-left: 1em;\n",
       "}\n",
       "\n",
       "\n",
       "/* Toggleable style: style used for estimator/Pipeline/ColumnTransformer box that is\n",
       "clickable and can be expanded/collapsed.\n",
       "- Pipeline and ColumnTransformer use this feature and define the default style\n",
       "- Estimators will overwrite some part of the style using the `sk-estimator` class\n",
       "*/\n",
       "\n",
       "/* Pipeline and ColumnTransformer style (default) */\n",
       "\n",
       "#sk-container-id-3 div.sk-toggleable {\n",
       "  /* Default theme specific background. It is overwritten whether we have a\n",
       "  specific estimator or a Pipeline/ColumnTransformer */\n",
       "  background-color: var(--sklearn-color-background);\n",
       "}\n",
       "\n",
       "/* Toggleable label */\n",
       "#sk-container-id-3 label.sk-toggleable__label {\n",
       "  cursor: pointer;\n",
       "  display: flex;\n",
       "  width: 100%;\n",
       "  margin-bottom: 0;\n",
       "  padding: 0.5em;\n",
       "  box-sizing: border-box;\n",
       "  text-align: center;\n",
       "  align-items: start;\n",
       "  justify-content: space-between;\n",
       "  gap: 0.5em;\n",
       "}\n",
       "\n",
       "#sk-container-id-3 label.sk-toggleable__label .caption {\n",
       "  font-size: 0.6rem;\n",
       "  font-weight: lighter;\n",
       "  color: var(--sklearn-color-text-muted);\n",
       "}\n",
       "\n",
       "#sk-container-id-3 label.sk-toggleable__label-arrow:before {\n",
       "  /* Arrow on the left of the label */\n",
       "  content: \"▸\";\n",
       "  float: left;\n",
       "  margin-right: 0.25em;\n",
       "  color: var(--sklearn-color-icon);\n",
       "}\n",
       "\n",
       "#sk-container-id-3 label.sk-toggleable__label-arrow:hover:before {\n",
       "  color: var(--sklearn-color-text);\n",
       "}\n",
       "\n",
       "/* Toggleable content - dropdown */\n",
       "\n",
       "#sk-container-id-3 div.sk-toggleable__content {\n",
       "  max-height: 0;\n",
       "  max-width: 0;\n",
       "  overflow: hidden;\n",
       "  text-align: left;\n",
       "  /* unfitted */\n",
       "  background-color: var(--sklearn-color-unfitted-level-0);\n",
       "}\n",
       "\n",
       "#sk-container-id-3 div.sk-toggleable__content.fitted {\n",
       "  /* fitted */\n",
       "  background-color: var(--sklearn-color-fitted-level-0);\n",
       "}\n",
       "\n",
       "#sk-container-id-3 div.sk-toggleable__content pre {\n",
       "  margin: 0.2em;\n",
       "  border-radius: 0.25em;\n",
       "  color: var(--sklearn-color-text);\n",
       "  /* unfitted */\n",
       "  background-color: var(--sklearn-color-unfitted-level-0);\n",
       "}\n",
       "\n",
       "#sk-container-id-3 div.sk-toggleable__content.fitted pre {\n",
       "  /* unfitted */\n",
       "  background-color: var(--sklearn-color-fitted-level-0);\n",
       "}\n",
       "\n",
       "#sk-container-id-3 input.sk-toggleable__control:checked~div.sk-toggleable__content {\n",
       "  /* Expand drop-down */\n",
       "  max-height: 200px;\n",
       "  max-width: 100%;\n",
       "  overflow: auto;\n",
       "}\n",
       "\n",
       "#sk-container-id-3 input.sk-toggleable__control:checked~label.sk-toggleable__label-arrow:before {\n",
       "  content: \"▾\";\n",
       "}\n",
       "\n",
       "/* Pipeline/ColumnTransformer-specific style */\n",
       "\n",
       "#sk-container-id-3 div.sk-label input.sk-toggleable__control:checked~label.sk-toggleable__label {\n",
       "  color: var(--sklearn-color-text);\n",
       "  background-color: var(--sklearn-color-unfitted-level-2);\n",
       "}\n",
       "\n",
       "#sk-container-id-3 div.sk-label.fitted input.sk-toggleable__control:checked~label.sk-toggleable__label {\n",
       "  background-color: var(--sklearn-color-fitted-level-2);\n",
       "}\n",
       "\n",
       "/* Estimator-specific style */\n",
       "\n",
       "/* Colorize estimator box */\n",
       "#sk-container-id-3 div.sk-estimator input.sk-toggleable__control:checked~label.sk-toggleable__label {\n",
       "  /* unfitted */\n",
       "  background-color: var(--sklearn-color-unfitted-level-2);\n",
       "}\n",
       "\n",
       "#sk-container-id-3 div.sk-estimator.fitted input.sk-toggleable__control:checked~label.sk-toggleable__label {\n",
       "  /* fitted */\n",
       "  background-color: var(--sklearn-color-fitted-level-2);\n",
       "}\n",
       "\n",
       "#sk-container-id-3 div.sk-label label.sk-toggleable__label,\n",
       "#sk-container-id-3 div.sk-label label {\n",
       "  /* The background is the default theme color */\n",
       "  color: var(--sklearn-color-text-on-default-background);\n",
       "}\n",
       "\n",
       "/* On hover, darken the color of the background */\n",
       "#sk-container-id-3 div.sk-label:hover label.sk-toggleable__label {\n",
       "  color: var(--sklearn-color-text);\n",
       "  background-color: var(--sklearn-color-unfitted-level-2);\n",
       "}\n",
       "\n",
       "/* Label box, darken color on hover, fitted */\n",
       "#sk-container-id-3 div.sk-label.fitted:hover label.sk-toggleable__label.fitted {\n",
       "  color: var(--sklearn-color-text);\n",
       "  background-color: var(--sklearn-color-fitted-level-2);\n",
       "}\n",
       "\n",
       "/* Estimator label */\n",
       "\n",
       "#sk-container-id-3 div.sk-label label {\n",
       "  font-family: monospace;\n",
       "  font-weight: bold;\n",
       "  display: inline-block;\n",
       "  line-height: 1.2em;\n",
       "}\n",
       "\n",
       "#sk-container-id-3 div.sk-label-container {\n",
       "  text-align: center;\n",
       "}\n",
       "\n",
       "/* Estimator-specific */\n",
       "#sk-container-id-3 div.sk-estimator {\n",
       "  font-family: monospace;\n",
       "  border: 1px dotted var(--sklearn-color-border-box);\n",
       "  border-radius: 0.25em;\n",
       "  box-sizing: border-box;\n",
       "  margin-bottom: 0.5em;\n",
       "  /* unfitted */\n",
       "  background-color: var(--sklearn-color-unfitted-level-0);\n",
       "}\n",
       "\n",
       "#sk-container-id-3 div.sk-estimator.fitted {\n",
       "  /* fitted */\n",
       "  background-color: var(--sklearn-color-fitted-level-0);\n",
       "}\n",
       "\n",
       "/* on hover */\n",
       "#sk-container-id-3 div.sk-estimator:hover {\n",
       "  /* unfitted */\n",
       "  background-color: var(--sklearn-color-unfitted-level-2);\n",
       "}\n",
       "\n",
       "#sk-container-id-3 div.sk-estimator.fitted:hover {\n",
       "  /* fitted */\n",
       "  background-color: var(--sklearn-color-fitted-level-2);\n",
       "}\n",
       "\n",
       "/* Specification for estimator info (e.g. \"i\" and \"?\") */\n",
       "\n",
       "/* Common style for \"i\" and \"?\" */\n",
       "\n",
       ".sk-estimator-doc-link,\n",
       "a:link.sk-estimator-doc-link,\n",
       "a:visited.sk-estimator-doc-link {\n",
       "  float: right;\n",
       "  font-size: smaller;\n",
       "  line-height: 1em;\n",
       "  font-family: monospace;\n",
       "  background-color: var(--sklearn-color-background);\n",
       "  border-radius: 1em;\n",
       "  height: 1em;\n",
       "  width: 1em;\n",
       "  text-decoration: none !important;\n",
       "  margin-left: 0.5em;\n",
       "  text-align: center;\n",
       "  /* unfitted */\n",
       "  border: var(--sklearn-color-unfitted-level-1) 1pt solid;\n",
       "  color: var(--sklearn-color-unfitted-level-1);\n",
       "}\n",
       "\n",
       ".sk-estimator-doc-link.fitted,\n",
       "a:link.sk-estimator-doc-link.fitted,\n",
       "a:visited.sk-estimator-doc-link.fitted {\n",
       "  /* fitted */\n",
       "  border: var(--sklearn-color-fitted-level-1) 1pt solid;\n",
       "  color: var(--sklearn-color-fitted-level-1);\n",
       "}\n",
       "\n",
       "/* On hover */\n",
       "div.sk-estimator:hover .sk-estimator-doc-link:hover,\n",
       ".sk-estimator-doc-link:hover,\n",
       "div.sk-label-container:hover .sk-estimator-doc-link:hover,\n",
       ".sk-estimator-doc-link:hover {\n",
       "  /* unfitted */\n",
       "  background-color: var(--sklearn-color-unfitted-level-3);\n",
       "  color: var(--sklearn-color-background);\n",
       "  text-decoration: none;\n",
       "}\n",
       "\n",
       "div.sk-estimator.fitted:hover .sk-estimator-doc-link.fitted:hover,\n",
       ".sk-estimator-doc-link.fitted:hover,\n",
       "div.sk-label-container:hover .sk-estimator-doc-link.fitted:hover,\n",
       ".sk-estimator-doc-link.fitted:hover {\n",
       "  /* fitted */\n",
       "  background-color: var(--sklearn-color-fitted-level-3);\n",
       "  color: var(--sklearn-color-background);\n",
       "  text-decoration: none;\n",
       "}\n",
       "\n",
       "/* Span, style for the box shown on hovering the info icon */\n",
       ".sk-estimator-doc-link span {\n",
       "  display: none;\n",
       "  z-index: 9999;\n",
       "  position: relative;\n",
       "  font-weight: normal;\n",
       "  right: .2ex;\n",
       "  padding: .5ex;\n",
       "  margin: .5ex;\n",
       "  width: min-content;\n",
       "  min-width: 20ex;\n",
       "  max-width: 50ex;\n",
       "  color: var(--sklearn-color-text);\n",
       "  box-shadow: 2pt 2pt 4pt #999;\n",
       "  /* unfitted */\n",
       "  background: var(--sklearn-color-unfitted-level-0);\n",
       "  border: .5pt solid var(--sklearn-color-unfitted-level-3);\n",
       "}\n",
       "\n",
       ".sk-estimator-doc-link.fitted span {\n",
       "  /* fitted */\n",
       "  background: var(--sklearn-color-fitted-level-0);\n",
       "  border: var(--sklearn-color-fitted-level-3);\n",
       "}\n",
       "\n",
       ".sk-estimator-doc-link:hover span {\n",
       "  display: block;\n",
       "}\n",
       "\n",
       "/* \"?\"-specific style due to the `<a>` HTML tag */\n",
       "\n",
       "#sk-container-id-3 a.estimator_doc_link {\n",
       "  float: right;\n",
       "  font-size: 1rem;\n",
       "  line-height: 1em;\n",
       "  font-family: monospace;\n",
       "  background-color: var(--sklearn-color-background);\n",
       "  border-radius: 1rem;\n",
       "  height: 1rem;\n",
       "  width: 1rem;\n",
       "  text-decoration: none;\n",
       "  /* unfitted */\n",
       "  color: var(--sklearn-color-unfitted-level-1);\n",
       "  border: var(--sklearn-color-unfitted-level-1) 1pt solid;\n",
       "}\n",
       "\n",
       "#sk-container-id-3 a.estimator_doc_link.fitted {\n",
       "  /* fitted */\n",
       "  border: var(--sklearn-color-fitted-level-1) 1pt solid;\n",
       "  color: var(--sklearn-color-fitted-level-1);\n",
       "}\n",
       "\n",
       "/* On hover */\n",
       "#sk-container-id-3 a.estimator_doc_link:hover {\n",
       "  /* unfitted */\n",
       "  background-color: var(--sklearn-color-unfitted-level-3);\n",
       "  color: var(--sklearn-color-background);\n",
       "  text-decoration: none;\n",
       "}\n",
       "\n",
       "#sk-container-id-3 a.estimator_doc_link.fitted:hover {\n",
       "  /* fitted */\n",
       "  background-color: var(--sklearn-color-fitted-level-3);\n",
       "}\n",
       "</style><div id=\"sk-container-id-3\" class=\"sk-top-container\"><div class=\"sk-text-repr-fallback\"><pre>LinearRegression()</pre><b>In a Jupyter environment, please rerun this cell to show the HTML representation or trust the notebook. <br />On GitHub, the HTML representation is unable to render, please try loading this page with nbviewer.org.</b></div><div class=\"sk-container\" hidden><div class=\"sk-item\"><div class=\"sk-estimator fitted sk-toggleable\"><input class=\"sk-toggleable__control sk-hidden--visually\" id=\"sk-estimator-id-3\" type=\"checkbox\" checked><label for=\"sk-estimator-id-3\" class=\"sk-toggleable__label fitted sk-toggleable__label-arrow\"><div><div>LinearRegression</div></div><div><a class=\"sk-estimator-doc-link fitted\" rel=\"noreferrer\" target=\"_blank\" href=\"https://scikit-learn.org/1.6/modules/generated/sklearn.linear_model.LinearRegression.html\">?<span>Documentation for LinearRegression</span></a><span class=\"sk-estimator-doc-link fitted\">i<span>Fitted</span></span></div></label><div class=\"sk-toggleable__content fitted\"><pre>LinearRegression()</pre></div> </div></div></div></div>"
      ],
      "text/plain": [
       "LinearRegression()"
      ]
     },
     "execution_count": 54,
     "metadata": {},
     "output_type": "execute_result"
    }
   ],
   "source": [
    "from sklearn.linear_model import LinearRegression\n",
    "\n",
    "reg_model = LinearRegression()\n",
    "reg_model.fit(X_train, y)"
   ]
  },
  {
   "cell_type": "code",
   "execution_count": 55,
   "id": "3e80989a",
   "metadata": {},
   "outputs": [
    {
     "data": {
      "text/plain": [
       "array([0.44146718])"
      ]
     },
     "execution_count": 55,
     "metadata": {},
     "output_type": "execute_result"
    }
   ],
   "source": [
    "reg_model.intercept_"
   ]
  },
  {
   "cell_type": "code",
   "execution_count": 56,
   "id": "3fb68bb1",
   "metadata": {},
   "outputs": [
    {
     "data": {
      "text/plain": [
       "array([[ 0.07367052,  0.11921107,  0.10380433,  0.14283912,  0.04393265,\n",
       "         0.15193647, -0.00777452, -0.16187541, -0.0600306 ,  0.17820788,\n",
       "         0.23655828, -0.00133878]])"
      ]
     },
     "execution_count": 56,
     "metadata": {},
     "output_type": "execute_result"
    }
   ],
   "source": [
    "reg_model.coef_"
   ]
  },
  {
   "cell_type": "code",
   "execution_count": 57,
   "id": "0e7fd63a",
   "metadata": {},
   "outputs": [
    {
     "data": {
      "application/vnd.microsoft.datawrangler.viewer.v0+json": {
       "columns": [
        {
         "name": "product_id",
         "rawType": "object",
         "type": "unknown"
        },
        {
         "name": "t-11",
         "rawType": "object",
         "type": "unknown"
        },
        {
         "name": "t-10",
         "rawType": "object",
         "type": "unknown"
        },
        {
         "name": "t-9",
         "rawType": "object",
         "type": "unknown"
        },
        {
         "name": "t-8",
         "rawType": "object",
         "type": "unknown"
        },
        {
         "name": "t-7",
         "rawType": "object",
         "type": "unknown"
        },
        {
         "name": "t-6",
         "rawType": "object",
         "type": "unknown"
        },
        {
         "name": "t-5",
         "rawType": "object",
         "type": "unknown"
        },
        {
         "name": "t-4",
         "rawType": "object",
         "type": "unknown"
        },
        {
         "name": "t-3",
         "rawType": "object",
         "type": "unknown"
        },
        {
         "name": "t-2",
         "rawType": "object",
         "type": "unknown"
        },
        {
         "name": "t-1",
         "rawType": "object",
         "type": "unknown"
        },
        {
         "name": "t-0",
         "rawType": "object",
         "type": "unknown"
        }
       ],
       "ref": "fc486aec-e7e9-4c5f-bcb4-205f77f01030",
       "rows": [
        [
         "20001",
         "1275.77351",
         "1259.09363",
         "1470.65653",
         "1647.6384799999998",
         "1629.78233",
         "1109.93769",
         "1678.99318",
         "1261.34529",
         "1660.00561",
         "1561.50552",
         "1397.37231",
         "1504.68856"
        ],
        [
         "20002",
         "1266.7875099999999",
         "1043.01349",
         "1083.62552",
         "1287.62346",
         "1034.98927",
         "928.36431",
         "1066.44999",
         "813.78215",
         "1090.18771",
         "1979.53635",
         "1423.5773900000002",
         "1087.30855"
        ],
        [
         "20003",
         "964.76919",
         "758.3265700000001",
         "638.0401",
         "565.33774",
         "590.12515",
         "662.3865400000001",
         "715.20314",
         "635.59563",
         "967.77116",
         "1081.36645",
         "948.29393",
         "892.5012899999999"
        ],
        [
         "20004",
         "511.33713",
         "441.70332",
         "619.77084",
         "466.70901",
         "603.3108100000001",
         "667.19411",
         "521.71519",
         "482.13372",
         "786.1714",
         "1064.69633",
         "723.94206",
         "637.90002"
        ],
        [
         "20005",
         "363.58438",
         "409.8995",
         "488.21387000000004",
         "624.9988",
         "897.26297",
         "876.39696",
         "745.74978",
         "536.668",
         "879.52808",
         "996.78275",
         "606.91173",
         "593.24443"
        ],
        [
         "20006",
         "578.74461",
         "479.99914",
         "502.43741",
         "835.47883",
         "527.68846",
         "458.0418",
         "343.11053",
         "262.73593",
         "409.95501",
         "528.3263",
         "399.6142",
         "417.23228"
        ],
        [
         "20007",
         "377.66902",
         "368.79546",
         "576.23305",
         "511.54994999999997",
         "394.67651",
         "536.13689",
         "573.37257",
         "307.82899",
         "369.74894",
         "445.34884",
         "357.85913",
         "390.43432"
        ],
        [
         "20008",
         "543.27828",
         "476.98787",
         "454.57036999999997",
         "403.69191",
         "486.36682",
         "567.42091",
         "524.04994",
         "233.00983",
         "330.56343",
         "452.77197",
         "396.49833",
         "195.36854"
        ],
        [
         "20009",
         "465.47521",
         "366.72969",
         "525.47182",
         "391.28033",
         "578.48564",
         "610.3959",
         "716.07987",
         "520.41758",
         "558.45719",
         "556.15182",
         "711.89025",
         "495.03574"
        ],
        [
         "20010",
         "370.75591",
         "337.76009",
         "522.8758300000001",
         "446.72413",
         "408.41679999999997",
         "600.2506",
         "463.91661999999997",
         "199.86233",
         "524.94628",
         "448.82077999999996",
         "470.96657999999996",
         "359.59997999999996"
        ],
        [
         "20011",
         "303.39036",
         "431.62938",
         "453.34926",
         "377.42796",
         "286.69914",
         "451.71126",
         "428.27148",
         "287.89488",
         "401.03154",
         "423.68508",
         "294.15204",
         "392.3829"
        ],
        [
         "20012",
         "271.31067",
         "330.26012",
         "431.85211",
         "493.50316",
         "329.06109000000004",
         "258.41742",
         "427.69487",
         "301.48373",
         "330.62376",
         "282.29947",
         "357.11018",
         "173.13004"
        ],
        [
         "20013",
         "486.92007",
         "377.10855",
         "480.4254",
         "392.76783",
         "417.87837",
         "391.79322",
         "585.41301",
         "192.57147",
         "486.28944",
         "527.29677",
         "336.1995",
         "318.09141"
        ],
        [
         "20014",
         "287.51268",
         "332.43756",
         "410.47188",
         "563.16624",
         "438.05580000000003",
         "455.82264000000004",
         "523.3519200000001",
         "262.11276",
         "503.64132",
         "512.00604",
         "415.85544",
         "272.02812"
        ],
        [
         "20015",
         "325.59802",
         "424.16407",
         "336.64644",
         "315.31224",
         "312.36839",
         "465.07657",
         "474.26299",
         "277.54758",
         "405.00241",
         "472.56925",
         "322.45923",
         "297.27663"
        ],
        [
         "20016",
         "246.89574",
         "292.64508",
         "292.57956",
         "303.45588",
         "297.47718",
         "326.30598",
         "313.12008",
         "184.25862",
         "361.39194",
         "268.73028",
         "302.11272",
         "273.20202"
        ],
        [
         "20017",
         "326.00462",
         "308.7106",
         "327.82399",
         "389.34645",
         "437.91406",
         "262.44327",
         "237.77776",
         "165.1092",
         "257.6021",
         "302.15469",
         "216.83455",
         "216.90773"
        ],
        [
         "20018",
         "326.67378",
         "265.84135",
         "291.76161",
         "499.09162000000003",
         "368.42416",
         "288.46796",
         "230.73044",
         "127.56209",
         "233.08305000000001",
         "277.84472",
         "254.22485",
         "141.63569999999999"
        ],
        [
         "20019",
         "360.9114",
         "323.66178",
         "244.63961",
         "270.96187",
         "213.78728",
         "264.79277",
         "235.61417",
         "231.82421",
         "349.51374",
         "455.61906",
         "375.38656",
         "351.54708"
        ],
        [
         "20020",
         "274.43268",
         "210.74725",
         "376.69627",
         "312.04993",
         "246.35519",
         "247.66559",
         "334.15196",
         "235.55749",
         "297.79276",
         "239.20917",
         "320.50638",
         "266.06358"
        ],
        [
         "20021",
         "193.10931",
         "219.88514999999998",
         "324.14065",
         "237.49697",
         "298.79747",
         "379.40454",
         "221.07327",
         "187.75422",
         "317.98178",
         "246.39019",
         "284.14722",
         "203.76721"
        ],
        [
         "20022",
         "264.3164",
         "238.353",
         "316.0335",
         "145.17485",
         "401.78609",
         "366.85959",
         "340.12744",
         "242.56377",
         "312.15475000000004",
         "166.05387000000002",
         "346.19018",
         "210.8346"
        ],
        [
         "20023",
         "229.21626",
         "175.61817",
         "256.08492",
         "255.5553",
         "263.5542",
         "252.34755",
         "297.79386",
         "262.68879",
         "366.12576",
         "386.37963",
         "276.31695",
         "181.13277"
        ],
        [
         "20024",
         "203.86548",
         "212.08824",
         "306.92844",
         "186.4044",
         "185.3397",
         "202.47318",
         "265.6017",
         "193.15296",
         "278.77122",
         "201.83436",
         "158.4765",
         "270.45018"
        ],
        [
         "20025",
         "162.09647999999999",
         "224.88102",
         "253.13652000000002",
         "260.67132",
         "147.97692",
         "259.88508",
         "232.90722",
         "200.39292",
         "302.211",
         "144.56988",
         "243.78354",
         "241.83432000000002"
        ],
        [
         "20026",
         "191.74673",
         "263.67957",
         "255.16212",
         "215.64691",
         "195.64338",
         "243.76351",
         "231.15919",
         "119.35544",
         "209.49245",
         "374.10811",
         "310.41326",
         "235.10419"
        ],
        [
         "20027",
         "245.85801",
         "241.8596",
         "255.81045",
         "258.15217",
         "222.47177",
         "210.70695",
         "213.67774",
         "217.37718",
         "245.26006999999998",
         "212.75597",
         "280.99034",
         "155.25876"
        ],
        [
         "20028",
         "230.31918",
         "277.49358",
         "284.68440000000004",
         "213.89004",
         "214.31592",
         "273.52962",
         "218.03418",
         "61.670700000000004",
         "271.00710000000004",
         "83.57076",
         "320.29452",
         "109.92618"
        ],
        [
         "20029",
         "270.81835",
         "198.8713",
         "174.95867",
         "315.15139",
         "204.15151",
         "170.14894",
         "147.87787",
         "91.49965",
         "139.94184",
         "197.41796",
         "160.46681",
         "150.64869000000002"
        ],
        [
         "20030",
         "158.4674",
         "114.7146",
         "132.0228",
         "159.5594",
         "129.2564",
         "156.9386",
         "127.9278",
         "113.98660000000001",
         "155.8648",
         "86.177",
         "96.5328",
         "102.7572"
        ],
        [
         "20031",
         "151.72683",
         "159.71151",
         "182.52997",
         "299.66223",
         "136.36898",
         "190.30503000000002",
         "212.84387999999998",
         "127.38835",
         "166.9624",
         "113.88248",
         "349.59721",
         "139.91577"
        ],
        [
         "20033",
         "123.07386",
         "132.55515",
         "187.54008000000002",
         "151.11369",
         "137.28078",
         "160.32744",
         "257.59188",
         "224.36505",
         "253.6989",
         "203.47782",
         "184.6026",
         "96.76212"
        ],
        [
         "20035",
         "175.43643",
         "147.80444",
         "185.39546",
         "178.97453",
         "181.35943",
         "219.22125",
         "146.25818",
         "122.06823",
         "203.09464",
         "137.66197",
         "189.03836",
         "179.97912"
        ],
        [
         "20037",
         "125.61668",
         "212.89111",
         "337.6281",
         "249.67321",
         "233.60592",
         "265.50803",
         "180.96409",
         "101.30007",
         "161.02945",
         "130.71243",
         "93.49887",
         "63.37274"
        ],
        [
         "20038",
         "198.28972",
         "215.67432",
         "142.58895",
         "197.15403999999998",
         "240.79909",
         "201.90643",
         "147.1841",
         "116.57316",
         "192.99568",
         "165.05801",
         "135.39051",
         "157.68477"
        ],
        [
         "20039",
         "109.46209999999999",
         "156.62559",
         "118.02338999999999",
         "225.8496",
         "148.09484",
         "105.77768",
         "125.85085",
         "118.13038",
         "178.41098",
         "203.83492999999999",
         "114.01792999999999",
         "128.40394"
        ],
        [
         "20041",
         "123.15143",
         "142.4668",
         "159.91252",
         "173.89018",
         "112.61585",
         "184.95869",
         "143.54999",
         "112.5198",
         "138.94619",
         "227.76511",
         "97.96554",
         "113.11379"
        ],
        [
         "20042",
         "195.00261",
         "107.68438",
         "199.9057",
         "192.47620999999998",
         "182.48013",
         "159.74845",
         "145.5283",
         "119.02720000000001",
         "249.79444",
         "215.63948",
         "204.14113",
         "124.20086"
        ],
        [
         "20043",
         "138.37822",
         "118.73971",
         "222.54082",
         "125.50135",
         "115.3152",
         "131.9136",
         "147.8655",
         "79.39276",
         "158.6807",
         "161.63344999999998",
         "152.42573",
         "93.77222"
        ],
        [
         "20044",
         "149.79987",
         "173.56001",
         "171.62776",
         "218.14694",
         "213.86238",
         "187.3372",
         "157.58441",
         "67.96227",
         "199.27309",
         "205.70684",
         "228.48682",
         "59.617470000000004"
        ],
        [
         "20045",
         "172.66469",
         "148.1163",
         "220.13954999999999",
         "127.96818",
         "176.33925",
         "106.41326",
         "158.52176",
         "115.12476",
         "124.00681999999999",
         "216.41113",
         "137.49552",
         "149.89961"
        ],
        [
         "20046",
         "139.13494",
         "157.39975",
         "182.36866",
         "132.95601",
         "137.63079",
         "91.65451",
         "130.74502999999999",
         "155.45457",
         "203.49919",
         "245.69546",
         "145.50198",
         "149.9563"
        ],
        [
         "20047",
         "183.1788",
         "161.48385",
         "186.5951",
         "156.05825000000002",
         "248.19355000000002",
         "186.79806",
         "129.98798",
         "113.47343000000001",
         "177.91431",
         "117.63171",
         "251.43491",
         "71.49763"
        ],
        [
         "20048",
         "181.75637",
         "238.14646",
         "207.798",
         "194.03828",
         "195.24873",
         "151.69761",
         "120.60656",
         "103.20842",
         "170.5661",
         "226.99316",
         "133.17067",
         "58.89241"
        ],
        [
         "20049",
         "138.06156",
         "155.36976",
         "222.06912",
         "271.66776",
         "213.72624000000002",
         "224.96292",
         "251.03988",
         "211.35660000000001",
         "220.82424",
         "260.5512",
         "153.36048",
         "124.84836"
        ],
        [
         "20050",
         "105.42604",
         "138.53546",
         "197.95773",
         "19.74334",
         "190.56711",
         "129.69464",
         "151.46476",
         "109.82896000000001",
         "131.42437999999999",
         "139.26927",
         "145.10495",
         "117.02742"
        ],
        [
         "20051",
         "144.04849000000002",
         "133.21935",
         "156.95024",
         "246.2008",
         "128.52975",
         "154.91658",
         "175.49517",
         "128.83116",
         "132.11015",
         "172.57611",
         "105.18797",
         "132.46038000000001"
        ],
        [
         "20052",
         "88.16281",
         "84.48313999999999",
         "157.04177",
         "98.0603",
         "170.49389",
         "102.52917000000001",
         "122.6875",
         "110.35966",
         "151.38613",
         "169.18788",
         "79.25908",
         "95.51068"
        ],
        [
         "20053",
         "150.87501",
         "144.51834",
         "163.58802",
         "132.33135",
         "148.99028",
         "197.59135",
         "112.33781",
         "101.27047",
         "128.92976",
         "151.88416",
         "174.10464",
         "146.36584"
        ],
        [
         "20054",
         "80.46542000000001",
         "127.84587",
         "123.20452",
         "158.95654",
         "206.95987",
         "156.66046",
         "114.80359",
         "70.37038",
         "141.86806",
         "181.84173",
         "170.27657",
         "121.2091"
        ]
       ],
       "shape": {
        "columns": 12,
        "rows": 736
       }
      },
      "text/html": [
       "<div>\n",
       "<style scoped>\n",
       "    .dataframe tbody tr th:only-of-type {\n",
       "        vertical-align: middle;\n",
       "    }\n",
       "\n",
       "    .dataframe tbody tr th {\n",
       "        vertical-align: top;\n",
       "    }\n",
       "\n",
       "    .dataframe thead th {\n",
       "        text-align: right;\n",
       "    }\n",
       "</style>\n",
       "<table border=\"1\" class=\"dataframe\">\n",
       "  <thead>\n",
       "    <tr style=\"text-align: right;\">\n",
       "      <th></th>\n",
       "      <th>t-11</th>\n",
       "      <th>t-10</th>\n",
       "      <th>t-9</th>\n",
       "      <th>t-8</th>\n",
       "      <th>t-7</th>\n",
       "      <th>t-6</th>\n",
       "      <th>t-5</th>\n",
       "      <th>t-4</th>\n",
       "      <th>t-3</th>\n",
       "      <th>t-2</th>\n",
       "      <th>t-1</th>\n",
       "      <th>t-0</th>\n",
       "    </tr>\n",
       "    <tr>\n",
       "      <th>product_id</th>\n",
       "      <th></th>\n",
       "      <th></th>\n",
       "      <th></th>\n",
       "      <th></th>\n",
       "      <th></th>\n",
       "      <th></th>\n",
       "      <th></th>\n",
       "      <th></th>\n",
       "      <th></th>\n",
       "      <th></th>\n",
       "      <th></th>\n",
       "      <th></th>\n",
       "    </tr>\n",
       "  </thead>\n",
       "  <tbody>\n",
       "    <tr>\n",
       "      <th>20001</th>\n",
       "      <td>1275.77351</td>\n",
       "      <td>1259.09363</td>\n",
       "      <td>1470.65653</td>\n",
       "      <td>1647.63848</td>\n",
       "      <td>1629.78233</td>\n",
       "      <td>1109.93769</td>\n",
       "      <td>1678.99318</td>\n",
       "      <td>1261.34529</td>\n",
       "      <td>1660.00561</td>\n",
       "      <td>1561.50552</td>\n",
       "      <td>1397.37231</td>\n",
       "      <td>1504.68856</td>\n",
       "    </tr>\n",
       "    <tr>\n",
       "      <th>20002</th>\n",
       "      <td>1266.78751</td>\n",
       "      <td>1043.01349</td>\n",
       "      <td>1083.62552</td>\n",
       "      <td>1287.62346</td>\n",
       "      <td>1034.98927</td>\n",
       "      <td>928.36431</td>\n",
       "      <td>1066.44999</td>\n",
       "      <td>813.78215</td>\n",
       "      <td>1090.18771</td>\n",
       "      <td>1979.53635</td>\n",
       "      <td>1423.57739</td>\n",
       "      <td>1087.30855</td>\n",
       "    </tr>\n",
       "    <tr>\n",
       "      <th>20003</th>\n",
       "      <td>964.76919</td>\n",
       "      <td>758.32657</td>\n",
       "      <td>638.0401</td>\n",
       "      <td>565.33774</td>\n",
       "      <td>590.12515</td>\n",
       "      <td>662.38654</td>\n",
       "      <td>715.20314</td>\n",
       "      <td>635.59563</td>\n",
       "      <td>967.77116</td>\n",
       "      <td>1081.36645</td>\n",
       "      <td>948.29393</td>\n",
       "      <td>892.50129</td>\n",
       "    </tr>\n",
       "    <tr>\n",
       "      <th>20004</th>\n",
       "      <td>511.33713</td>\n",
       "      <td>441.70332</td>\n",
       "      <td>619.77084</td>\n",
       "      <td>466.70901</td>\n",
       "      <td>603.31081</td>\n",
       "      <td>667.19411</td>\n",
       "      <td>521.71519</td>\n",
       "      <td>482.13372</td>\n",
       "      <td>786.1714</td>\n",
       "      <td>1064.69633</td>\n",
       "      <td>723.94206</td>\n",
       "      <td>637.90002</td>\n",
       "    </tr>\n",
       "    <tr>\n",
       "      <th>20005</th>\n",
       "      <td>363.58438</td>\n",
       "      <td>409.8995</td>\n",
       "      <td>488.21387</td>\n",
       "      <td>624.9988</td>\n",
       "      <td>897.26297</td>\n",
       "      <td>876.39696</td>\n",
       "      <td>745.74978</td>\n",
       "      <td>536.668</td>\n",
       "      <td>879.52808</td>\n",
       "      <td>996.78275</td>\n",
       "      <td>606.91173</td>\n",
       "      <td>593.24443</td>\n",
       "    </tr>\n",
       "    <tr>\n",
       "      <th>...</th>\n",
       "      <td>...</td>\n",
       "      <td>...</td>\n",
       "      <td>...</td>\n",
       "      <td>...</td>\n",
       "      <td>...</td>\n",
       "      <td>...</td>\n",
       "      <td>...</td>\n",
       "      <td>...</td>\n",
       "      <td>...</td>\n",
       "      <td>...</td>\n",
       "      <td>...</td>\n",
       "      <td>...</td>\n",
       "    </tr>\n",
       "    <tr>\n",
       "      <th>21257</th>\n",
       "      <td>0.01421</td>\n",
       "      <td>0.00591</td>\n",
       "      <td>0.01299</td>\n",
       "      <td>0.02469</td>\n",
       "      <td>0.09221</td>\n",
       "      <td>0.0118</td>\n",
       "      <td>0.08213</td>\n",
       "      <td>0.00524</td>\n",
       "      <td>0.01596</td>\n",
       "      <td>0.05176</td>\n",
       "      <td>0.00677</td>\n",
       "      <td>0.01158</td>\n",
       "    </tr>\n",
       "    <tr>\n",
       "      <th>21259</th>\n",
       "      <td>0.04234</td>\n",
       "      <td>0.0508</td>\n",
       "      <td>0.06777</td>\n",
       "      <td>0.02117</td>\n",
       "      <td>0.01976</td>\n",
       "      <td>0.00988</td>\n",
       "      <td>0.04657</td>\n",
       "      <td>0.03106</td>\n",
       "      <td>0.00564</td>\n",
       "      <td>0.01975</td>\n",
       "      <td>0.02965</td>\n",
       "      <td>0.01412</td>\n",
       "    </tr>\n",
       "    <tr>\n",
       "      <th>21262</th>\n",
       "      <td>0.0268</td>\n",
       "      <td>0.05786</td>\n",
       "      <td>0.06353</td>\n",
       "      <td>0.01412</td>\n",
       "      <td>0.0113</td>\n",
       "      <td>0.0127</td>\n",
       "      <td>0.03953</td>\n",
       "      <td>0.02258</td>\n",
       "      <td>0.01552</td>\n",
       "      <td>0.01693</td>\n",
       "      <td>0.02682</td>\n",
       "      <td>0.01834</td>\n",
       "    </tr>\n",
       "    <tr>\n",
       "      <th>21263</th>\n",
       "      <td>0.04376</td>\n",
       "      <td>0.05927</td>\n",
       "      <td>0.06636</td>\n",
       "      <td>0.01835</td>\n",
       "      <td>0.02258</td>\n",
       "      <td>0.00988</td>\n",
       "      <td>0.03387</td>\n",
       "      <td>0.03388</td>\n",
       "      <td>0.01128</td>\n",
       "      <td>0.01552</td>\n",
       "      <td>0.03247</td>\n",
       "      <td>0.0127</td>\n",
       "    </tr>\n",
       "    <tr>\n",
       "      <th>21271</th>\n",
       "      <td>0.00745</td>\n",
       "      <td>0.01041</td>\n",
       "      <td>0.00819</td>\n",
       "      <td>0.00185</td>\n",
       "      <td>0.04347</td>\n",
       "      <td>0.00445</td>\n",
       "      <td>0.01263</td>\n",
       "      <td>0.01784</td>\n",
       "      <td>0.02933</td>\n",
       "      <td>0.02453</td>\n",
       "      <td>0.01301</td>\n",
       "      <td>0.00298</td>\n",
       "    </tr>\n",
       "  </tbody>\n",
       "</table>\n",
       "<p>736 rows × 12 columns</p>\n",
       "</div>"
      ],
      "text/plain": [
       "                  t-11        t-10         t-9         t-8         t-7  \\\n",
       "product_id                                                               \n",
       "20001       1275.77351  1259.09363  1470.65653  1647.63848  1629.78233   \n",
       "20002       1266.78751  1043.01349  1083.62552  1287.62346  1034.98927   \n",
       "20003        964.76919   758.32657    638.0401   565.33774   590.12515   \n",
       "20004        511.33713   441.70332   619.77084   466.70901   603.31081   \n",
       "20005        363.58438    409.8995   488.21387    624.9988   897.26297   \n",
       "...                ...         ...         ...         ...         ...   \n",
       "21257          0.01421     0.00591     0.01299     0.02469     0.09221   \n",
       "21259          0.04234      0.0508     0.06777     0.02117     0.01976   \n",
       "21262           0.0268     0.05786     0.06353     0.01412      0.0113   \n",
       "21263          0.04376     0.05927     0.06636     0.01835     0.02258   \n",
       "21271          0.00745     0.01041     0.00819     0.00185     0.04347   \n",
       "\n",
       "                   t-6         t-5         t-4         t-3         t-2  \\\n",
       "product_id                                                               \n",
       "20001       1109.93769  1678.99318  1261.34529  1660.00561  1561.50552   \n",
       "20002        928.36431  1066.44999   813.78215  1090.18771  1979.53635   \n",
       "20003        662.38654   715.20314   635.59563   967.77116  1081.36645   \n",
       "20004        667.19411   521.71519   482.13372    786.1714  1064.69633   \n",
       "20005        876.39696   745.74978     536.668   879.52808   996.78275   \n",
       "...                ...         ...         ...         ...         ...   \n",
       "21257           0.0118     0.08213     0.00524     0.01596     0.05176   \n",
       "21259          0.00988     0.04657     0.03106     0.00564     0.01975   \n",
       "21262           0.0127     0.03953     0.02258     0.01552     0.01693   \n",
       "21263          0.00988     0.03387     0.03388     0.01128     0.01552   \n",
       "21271          0.00445     0.01263     0.01784     0.02933     0.02453   \n",
       "\n",
       "                   t-1         t-0  \n",
       "product_id                          \n",
       "20001       1397.37231  1504.68856  \n",
       "20002       1423.57739  1087.30855  \n",
       "20003        948.29393   892.50129  \n",
       "20004        723.94206   637.90002  \n",
       "20005        606.91173   593.24443  \n",
       "...                ...         ...  \n",
       "21257          0.00677     0.01158  \n",
       "21259          0.02965     0.01412  \n",
       "21262          0.02682     0.01834  \n",
       "21263          0.03247      0.0127  \n",
       "21271          0.01301     0.00298  \n",
       "\n",
       "[736 rows x 12 columns]"
      ]
     },
     "execution_count": 57,
     "metadata": {},
     "output_type": "execute_result"
    }
   ],
   "source": [
    "X_kgl"
   ]
  },
  {
   "cell_type": "code",
   "execution_count": 58,
   "id": "b93381b6",
   "metadata": {},
   "outputs": [
    {
     "data": {
      "text/plain": [
       "736"
      ]
     },
     "execution_count": 58,
     "metadata": {},
     "output_type": "execute_result"
    }
   ],
   "source": [
    "len(X_kgl.index)"
   ]
  },
  {
   "cell_type": "code",
   "execution_count": 59,
   "id": "27e8b297",
   "metadata": {},
   "outputs": [
    {
     "data": {
      "application/vnd.microsoft.datawrangler.viewer.v0+json": {
       "columns": [
        {
         "name": "index",
         "rawType": "int64",
         "type": "integer"
        },
        {
         "name": "product_id",
         "rawType": "object",
         "type": "unknown"
        },
        {
         "name": "tn",
         "rawType": "float64",
         "type": "float"
        }
       ],
       "ref": "1b2a68e4-2997-40fd-87f7-f172d1962d97",
       "rows": [
        [
         "0",
         "20001",
         "1162.7075252208479"
        ],
        [
         "1",
         "20002",
         "1183.6406041971504"
        ],
        [
         "2",
         "20003",
         "684.7639305138377"
        ],
        [
         "3",
         "20004",
         "580.4849611289094"
        ],
        [
         "4",
         "20005",
         "563.5607802304996"
        ],
        [
         "5",
         "20006",
         "482.8868665740269"
        ],
        [
         "6",
         "20007",
         "390.9244200627476"
        ],
        [
         "7",
         "20008",
         "422.340198725172"
        ],
        [
         "8",
         "20009",
         "450.5606175699725"
        ],
        [
         "9",
         "20010",
         "418.68988843005064"
        ],
        [
         "10",
         "20011",
         "327.0012888765246"
        ],
        [
         "11",
         "20012",
         "291.41706974202685"
        ],
        [
         "12",
         "20013",
         "373.2848888171918"
        ],
        [
         "13",
         "20014",
         "385.3259380016182"
        ],
        [
         "14",
         "20015",
         "326.53318238526043"
        ],
        [
         "15",
         "20016",
         "254.91556127972575"
        ],
        [
         "16",
         "20017",
         "270.82722874344205"
        ],
        [
         "17",
         "20018",
         "290.81790007998563"
        ],
        [
         "18",
         "20019",
         "288.52170579330124"
        ],
        [
         "19",
         "20020",
         "237.39626562567503"
        ],
        [
         "20",
         "20021",
         "238.87717117525318"
        ],
        [
         "21",
         "20022",
         "225.817007434598"
        ],
        [
         "22",
         "20023",
         "218.43067668589157"
        ],
        [
         "23",
         "20024",
         "161.16435909362713"
        ],
        [
         "24",
         "20025",
         "179.40668258609355"
        ],
        [
         "25",
         "20026",
         "255.01378598445115"
        ],
        [
         "26",
         "20027",
         "205.2077551255333"
        ],
        [
         "27",
         "20028",
         "224.13475881483086"
        ],
        [
         "28",
         "20029",
         "190.67610554589197"
        ],
        [
         "29",
         "20030",
         "101.0628507813777"
        ],
        [
         "30",
         "20031",
         "197.82375733094096"
        ],
        [
         "31",
         "20033",
         "123.0030818778107"
        ],
        [
         "32",
         "20035",
         "152.99186419233638"
        ],
        [
         "33",
         "20037",
         "174.24381251641012"
        ],
        [
         "34",
         "20038",
         "154.60991122800743"
        ],
        [
         "35",
         "20039",
         "126.58030387642805"
        ],
        [
         "36",
         "20041",
         "136.92655062809936"
        ],
        [
         "37",
         "20042",
         "159.33659371030961"
        ],
        [
         "38",
         "20043",
         "132.13610875639606"
        ],
        [
         "39",
         "20044",
         "185.44225906787784"
        ],
        [
         "40",
         "20045",
         "139.4429612733743"
        ],
        [
         "41",
         "20046",
         "126.95640282449298"
        ],
        [
         "42",
         "20047",
         "164.41958048279054"
        ],
        [
         "44",
         "20049",
         "167.6829428728578"
        ],
        [
         "45",
         "20050",
         "108.3119996406936"
        ],
        [
         "46",
         "20051",
         "132.88870039196215"
        ],
        [
         "47",
         "20052",
         "91.25040923967205"
        ],
        [
         "48",
         "20053",
         "144.2853962806371"
        ],
        [
         "49",
         "20054",
         "141.72263473436624"
        ],
        [
         "50",
         "20055",
         "94.01727170675827"
        ]
       ],
       "shape": {
        "columns": 2,
        "rows": 780
       }
      },
      "text/html": [
       "<div>\n",
       "<style scoped>\n",
       "    .dataframe tbody tr th:only-of-type {\n",
       "        vertical-align: middle;\n",
       "    }\n",
       "\n",
       "    .dataframe tbody tr th {\n",
       "        vertical-align: top;\n",
       "    }\n",
       "\n",
       "    .dataframe thead th {\n",
       "        text-align: right;\n",
       "    }\n",
       "</style>\n",
       "<table border=\"1\" class=\"dataframe\">\n",
       "  <thead>\n",
       "    <tr style=\"text-align: right;\">\n",
       "      <th></th>\n",
       "      <th>product_id</th>\n",
       "      <th>tn</th>\n",
       "    </tr>\n",
       "  </thead>\n",
       "  <tbody>\n",
       "    <tr>\n",
       "      <th>0</th>\n",
       "      <td>20001</td>\n",
       "      <td>1162.707525</td>\n",
       "    </tr>\n",
       "    <tr>\n",
       "      <th>1</th>\n",
       "      <td>20002</td>\n",
       "      <td>1183.640604</td>\n",
       "    </tr>\n",
       "    <tr>\n",
       "      <th>2</th>\n",
       "      <td>20003</td>\n",
       "      <td>684.763931</td>\n",
       "    </tr>\n",
       "    <tr>\n",
       "      <th>3</th>\n",
       "      <td>20004</td>\n",
       "      <td>580.484961</td>\n",
       "    </tr>\n",
       "    <tr>\n",
       "      <th>4</th>\n",
       "      <td>20005</td>\n",
       "      <td>563.560780</td>\n",
       "    </tr>\n",
       "    <tr>\n",
       "      <th>...</th>\n",
       "      <td>...</td>\n",
       "      <td>...</td>\n",
       "    </tr>\n",
       "    <tr>\n",
       "      <th>861</th>\n",
       "      <td>21252</td>\n",
       "      <td>0.178011</td>\n",
       "    </tr>\n",
       "    <tr>\n",
       "      <th>862</th>\n",
       "      <td>21265</td>\n",
       "      <td>0.089541</td>\n",
       "    </tr>\n",
       "    <tr>\n",
       "      <th>863</th>\n",
       "      <td>21266</td>\n",
       "      <td>0.094659</td>\n",
       "    </tr>\n",
       "    <tr>\n",
       "      <th>864</th>\n",
       "      <td>21267</td>\n",
       "      <td>0.092835</td>\n",
       "    </tr>\n",
       "    <tr>\n",
       "      <th>865</th>\n",
       "      <td>21276</td>\n",
       "      <td>0.045447</td>\n",
       "    </tr>\n",
       "  </tbody>\n",
       "</table>\n",
       "<p>780 rows × 2 columns</p>\n",
       "</div>"
      ],
      "text/plain": [
       "    product_id           tn\n",
       "0        20001  1162.707525\n",
       "1        20002  1183.640604\n",
       "2        20003   684.763931\n",
       "3        20004   580.484961\n",
       "4        20005   563.560780\n",
       "..         ...          ...\n",
       "861      21252     0.178011\n",
       "862      21265     0.089541\n",
       "863      21266     0.094659\n",
       "864      21267     0.092835\n",
       "865      21276     0.045447\n",
       "\n",
       "[780 rows x 2 columns]"
      ]
     },
     "execution_count": 59,
     "metadata": {},
     "output_type": "execute_result"
    }
   ],
   "source": [
    "pred = pd.DataFrame({\"product_id\": X_kgl.index, \"tn\": reg_model.predict(X_kgl).flatten()})\n",
    "nuevas_filas = []\n",
    "for prod in productos_ok[\"product_id\"]:\n",
    "    if prod not in pred[\"product_id\"].values:\n",
    "        nuevas_filas.append({\"product_id\": prod, \"tn\": promedio[prod]})\n",
    "\n",
    "pred = pd.concat([pred, pd.DataFrame(nuevas_filas)], ignore_index=True)\n",
    "pred = pred[pred[\"product_id\"].isin(productos_ok[\"product_id\"])]\n",
    "pred"
   ]
  },
  {
   "cell_type": "code",
   "execution_count": 60,
   "id": "a882baff",
   "metadata": {},
   "outputs": [],
   "source": [
    "pred.to_csv(\"../results/reg_lineal5.csv\", index=False, sep=\",\")"
   ]
  },
  {
   "cell_type": "code",
   "execution_count": null,
   "id": "9a95d6cc",
   "metadata": {},
   "outputs": [],
   "source": []
  }
 ],
 "metadata": {
  "kernelspec": {
   "display_name": "py311",
   "language": "python",
   "name": "python3"
  },
  "language_info": {
   "codemirror_mode": {
    "name": "ipython",
    "version": 3
   },
   "file_extension": ".py",
   "mimetype": "text/x-python",
   "name": "python",
   "nbconvert_exporter": "python",
   "pygments_lexer": "ipython3",
   "version": "3.11.13"
  }
 },
 "nbformat": 4,
 "nbformat_minor": 5
}
