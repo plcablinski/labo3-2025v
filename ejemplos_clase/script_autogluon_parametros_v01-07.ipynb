{
 "cells": [
  {
   "cell_type": "markdown",
   "id": "2ae3d4bc",
   "metadata": {},
   "source": [
    "AutoGluon - Predicción de ventas (tn) por producto para febrero 2020"
   ]
  },
  {
   "cell_type": "code",
   "execution_count": null,
   "id": "8f52d34a",
   "metadata": {},
   "outputs": [],
   "source": [
    "# 📦 1. Importar librerías\n",
    "import pandas as pd"
   ]
  },
  {
   "cell_type": "code",
   "execution_count": null,
   "id": "a67eb1bb",
   "metadata": {},
   "outputs": [],
   "source": [
    "# 💬 Instalar AutoGluon si es necesario\n",
    "%pip install autogluon.timeseries\n",
    "\n",
    "from autogluon.timeseries import TimeSeriesPredictor, TimeSeriesDataFrame"
   ]
  },
  {
   "cell_type": "code",
   "execution_count": null,
   "id": "74387549",
   "metadata": {},
   "outputs": [],
   "source": [
    "# 📄 2. Cargar datasets\n",
    "df_sellin = pd.read_csv(\"sell-in.txt\", sep=\"\\t\")\n",
    "df_productos = pd.read_csv(\"tb_productos.txt\", sep=\"\\t\")"
   ]
  },
  {
   "cell_type": "code",
   "execution_count": null,
   "id": "e14417ff",
   "metadata": {},
   "outputs": [],
   "source": [
    "# 📄 Leer lista de productos a predecir\n",
    "with open(\"product_id_apredecir201912.TXT\", \"r\") as f:\n",
    "    product_ids = [int(line.strip()) for line in f if line.strip().isdigit()]"
   ]
  },
  {
   "cell_type": "code",
   "execution_count": null,
   "id": "b1527b4d",
   "metadata": {},
   "outputs": [],
   "source": [
    "# 🧹 3. Preprocesamiento\n",
    "# Convertir periodo a datetime\n",
    "df_sellin['timestamp'] = pd.to_datetime(df_sellin['periodo'], format='%Y%m')"
   ]
  },
  {
   "cell_type": "code",
   "execution_count": null,
   "id": "1083376b",
   "metadata": {},
   "outputs": [],
   "source": [
    "# Filtrar hasta dic 2019 y productos requeridos\n",
    "df_filtered = df_sellin[\n",
    "    (df_sellin['timestamp'] <= '2019-12-01') &\n",
    "    (df_sellin['product_id'].isin(product_ids))\n",
    "]"
   ]
  },
  {
   "cell_type": "code",
   "execution_count": null,
   "id": "bb3c4bac",
   "metadata": {},
   "outputs": [],
   "source": [
    "# Agregar tn por periodo, cliente y producto\n",
    "df_grouped = df_filtered.groupby(['timestamp', 'customer_id', 'product_id'], as_index=False)['tn'].sum()"
   ]
  },
  {
   "cell_type": "code",
   "execution_count": null,
   "id": "3df0c480",
   "metadata": {},
   "outputs": [],
   "source": [
    "# Agregar tn total por periodo y producto\n",
    "df_monthly_product = df_grouped.groupby(['timestamp', 'product_id'], as_index=False)['tn'].sum()"
   ]
  },
  {
   "cell_type": "code",
   "execution_count": null,
   "id": "065d2ca2",
   "metadata": {},
   "outputs": [],
   "source": [
    "# Agregar columna 'item_id' para AutoGluon\n",
    "df_monthly_product['item_id'] = df_monthly_product['product_id']"
   ]
  },
  {
   "cell_type": "code",
   "execution_count": null,
   "id": "eb4e2dfb",
   "metadata": {},
   "outputs": [],
   "source": [
    "# ⏰ 4. Crear TimeSeriesDataFrame\n",
    "ts_data = TimeSeriesDataFrame.from_data_frame(\n",
    "    df_monthly_product,\n",
    "    id_column='item_id',\n",
    "    timestamp_column='timestamp'\n",
    ")"
   ]
  },
  {
   "cell_type": "code",
   "execution_count": null,
   "id": "ddac4147",
   "metadata": {},
   "outputs": [],
   "source": [
    "# Completar valores faltantes\n",
    "ts_data = ts_data.fill_missing_values()"
   ]
  },
  {
   "cell_type": "code",
   "execution_count": null,
   "id": "5b7cc7be",
   "metadata": {},
   "outputs": [],
   "source": [
    "# ⚙️ 5. Definir y entrenar predictor\n",
    "predictor = TimeSeriesPredictor(\n",
    "    prediction_length=2,\n",
    "    target='tn',\n",
    "    freq='MS'  # Frecuencia mensual (Month Start), \n",
    ")\n",
    "\n",
    "predictor.fit(ts_data, num_val_windows=2, time_limit=60*60)"
   ]
  },
  {
   "cell_type": "code",
   "execution_count": null,
   "id": "30ea18f5",
   "metadata": {},
   "outputs": [],
   "source": []
  },
  {
   "cell_type": "code",
   "execution_count": null,
   "id": "2c27fefb",
   "metadata": {},
   "outputs": [],
   "source": [
    "# 🔮 6. Generar predicción\n",
    "forecast = predictor.predict(ts_data)"
   ]
  },
  {
   "cell_type": "code",
   "execution_count": null,
   "id": "57205cb3",
   "metadata": {},
   "outputs": [],
   "source": [
    "# Extraer predicción media y filtrar febrero 2020\n",
    "forecast_mean = forecast['mean'].reset_index()\n",
    "print(forecast_mean.columns)"
   ]
  },
  {
   "cell_type": "code",
   "execution_count": null,
   "id": "d62a0982",
   "metadata": {},
   "outputs": [],
   "source": [
    "# Tomar solo item_id y la predicción 'mean'\n",
    "resultado = forecast['mean'].reset_index()[['item_id', 'mean']]\n",
    "resultado.columns = ['product_id', 'tn']\n",
    "\n",
    "# Filtrar solo febrero 2020\n",
    "resultado = forecast['mean'].reset_index()\n",
    "resultado = resultado[resultado['timestamp'] == '2020-02-01']\n",
    "\n",
    "# Renombrar columnas\n",
    "resultado = resultado[['item_id', 'mean']]\n",
    "resultado.columns = ['product_id', 'tn']\n"
   ]
  },
  {
   "cell_type": "code",
   "execution_count": null,
   "id": "81a9323c",
   "metadata": {},
   "outputs": [],
   "source": [
    "# 💾 7. Guardar archivo\n",
    "resultado.to_csv(\"predicciones_febrero2020_fecha_01_07.csv\", index=False)\n",
    "resultado.head()"
   ]
  }
 ],
 "metadata": {
  "kernelspec": {
   "display_name": "agluon39",
   "language": "python",
   "name": "python3"
  },
  "language_info": {
   "codemirror_mode": {
    "name": "ipython",
    "version": 3
   },
   "file_extension": ".py",
   "mimetype": "text/x-python",
   "name": "python",
   "nbconvert_exporter": "python",
   "pygments_lexer": "ipython3",
   "version": "3.9.23"
  }
 },
 "nbformat": 4,
 "nbformat_minor": 5
}
