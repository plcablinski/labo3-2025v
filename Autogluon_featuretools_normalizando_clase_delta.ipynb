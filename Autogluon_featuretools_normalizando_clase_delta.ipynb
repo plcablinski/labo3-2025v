{
 "cells": [
  {
   "cell_type": "code",
   "execution_count": 1,
   "id": "55c9b116",
   "metadata": {},
   "outputs": [],
   "source": [
    "import lightgbm as lgb\n",
    "import numpy as np\n",
    "import pandas as pd\n",
    "import numpy as np\n",
    "import gc\n",
    "import os\n",
    "import optuna\n",
    "import sqlite3\n",
    "import ray\n",
    "import matplotlib.pyplot as plt\n",
    "from optuna.integration import LightGBMPruningCallback\n",
    "from autogluon.tabular import TabularPredictor\n",
    "from sklearn.metrics import mean_squared_error, mean_absolute_error"
   ]
  },
  {
   "cell_type": "code",
   "execution_count": 5,
   "id": "830bfc3f",
   "metadata": {},
   "outputs": [],
   "source": [
    "# Reducir memoria automáticamente\n",
    "def optimizar_memoria(df):\n",
    "    for col in df.select_dtypes(include=['int64', 'int32']).columns:\n",
    "        df[col] = pd.to_numeric(df[col], downcast='integer')\n",
    "    for col in df.select_dtypes(include=['float64', 'float32']).columns:\n",
    "        df[col] = pd.to_numeric(df[col], downcast='float')\n",
    "    return df"
   ]
  },
  {
   "cell_type": "code",
   "execution_count": 2,
   "id": "7d80a483",
   "metadata": {},
   "outputs": [],
   "source": [
    "gc.collect()\n",
    "df_full = pd.read_parquet('./data/l_vm_completa_normalizada_fe.parquet', engine='fastparquet')"
   ]
  },
  {
   "cell_type": "code",
   "execution_count": 3,
   "id": "c4c2e2d0",
   "metadata": {},
   "outputs": [
    {
     "data": {
      "text/plain": [
       "48"
      ]
     },
     "execution_count": 3,
     "metadata": {},
     "output_type": "execute_result"
    }
   ],
   "source": [
    "# Variables predictoras y objetivo\n",
    "# filtrar que en X el periodo sea menor o igual a 201910\n",
    "# En x eliminar la columna 'CLASE_ZSCORE' y 'CLASE_DELTA_ZSCORE' si existen\n",
    "cols_to_drop = [col for col in ['CLASE_ZSCORE', 'CLASE_DELTA_ZSCORE'] if col in df_full.columns]\n",
    "X = df_full[df_full['PERIODO'] <= 201910].drop(columns=cols_to_drop)\n",
    "# Filtrar en y que el periodo sea menor o igual a 201910 y que la columna exista\n",
    "y = df_full[df_full['PERIODO'] <= 201910]['CLASE_DELTA_ZSCORE']\n",
    "# Eliminar df_full para liberar memoria\n",
    "del df_full\n",
    "gc.collect()"
   ]
  },
  {
   "cell_type": "code",
   "execution_count": 7,
   "id": "1829385d",
   "metadata": {},
   "outputs": [
    {
     "data": {
      "text/plain": [
       "0"
      ]
     },
     "execution_count": 7,
     "metadata": {},
     "output_type": "execute_result"
    }
   ],
   "source": [
    "X = optimizar_memoria(X)\n",
    "gc.collect()"
   ]
  },
  {
   "cell_type": "code",
   "execution_count": 10,
   "id": "af1a4473",
   "metadata": {},
   "outputs": [],
   "source": [
    "from autogluon.tabular import TabularPredictor\n",
    "\n",
    "# Dataset de entrenamiento\n",
    "df_train = X_train.copy()\n",
    "df_train['CLASE_DELTA_ZSCORE'] = y_train\n",
    "\n",
    "# Dataset de validación\n",
    "df_val = X_val_list[0].copy()\n",
    "df_val['CLASE_DELTA_ZSCORE'] = y_val_list[0]"
   ]
  },
  {
   "cell_type": "code",
   "execution_count": 11,
   "id": "1e8b9ab5",
   "metadata": {},
   "outputs": [
    {
     "data": {
      "text/plain": [
       "96"
      ]
     },
     "execution_count": 11,
     "metadata": {},
     "output_type": "execute_result"
    }
   ],
   "source": [
    "del X_train, y_train, X_val_list, y_val_list\n",
    "gc.collect()"
   ]
  },
  {
   "cell_type": "code",
   "execution_count": null,
   "id": "278f6e4b",
   "metadata": {},
   "outputs": [],
   "source": [
    "import datetime\n",
    "import gc\n",
    "from autogluon.tabular import TabularPredictor\n",
    "\n",
    "gc.collect()\n",
    "\n",
    "# === Configuración general ===\n",
    "label_column = 'CLASE_DELTA_ZSCORE'\n",
    "output_path = f\"AutogluonModels/model_fast_{datetime.datetime.now().strftime('%Y%m%d_%H%M')}\"\n",
    "\n",
    "# === Entrenamiento ===\n",
    "predictor = TabularPredictor(\n",
    "    label=label_column,\n",
    "    problem_type='regression',\n",
    "    eval_metric='mean_absolute_error',\n",
    "    path=output_path\n",
    ").fit(\n",
    "    train_data=df_train,\n",
    "    tuning_data=df_val,\n",
    "    use_bag_holdout=True,\n",
    "    presets='medium_quality',               # Entrenamiento rápido pero razonable\n",
    "    time_limit=1800,                         # ⏱️ Máximo 15 minutos (900 segundos)\n",
    "    num_bag_folds=3,                        # Reduce cantidad de folds\n",
    "    num_bag_sets=1,                         # Una sola pasada\n",
    "    auto_stack=False,                       # Apagar stacking para acelerar\n",
    "    ag_args_ensemble={'fold_fitting_strategy': 'parallel_local'},\n",
    "    hyperparameters={\n",
    "        'GBM': [\n",
    "            {\n",
    "                'ag_args': {'name_suffix': 'QuickXT'},\n",
    "                'extra_trees': True,\n",
    "                'time_limit': 300,\n",
    "                'early_stopping_rounds': 10,\n",
    "            },\n",
    "            {\n",
    "                'ag_args': {'name_suffix': 'QuickDefault'},\n",
    "                'num_leaves': 31,\n",
    "                'feature_fraction': 0.8,\n",
    "                'bagging_fraction': 0.8,\n",
    "                'time_limit': 300,\n",
    "                'early_stopping_rounds': 10,\n",
    "            }\n",
    "        ]\n",
    "    },\n",
    "    verbosity=2\n",
    ")\n"
   ]
  },
  {
   "cell_type": "code",
   "execution_count": null,
   "id": "47e1e59c",
   "metadata": {},
   "outputs": [],
   "source": [
    "predictor.fit_extra(\n",
    "    time_limit=1800,  # 30 minutos\n",
    "    ag_args_ensemble={\n",
    "        'fold_fitting_strategy': 'sequential_local',\n",
    "        'num_bag_folds': 1  # 👈 solo 1 fold para asegurar que termine\n",
    "    },\n",
    "    fit_weighted_ensemble=True,\n",
    "    hyperparameters={\n",
    "        'NN_TORCH': [{\n",
    "            'num_epochs': 4,\n",
    "            'learning_rate': 0.01,\n",
    "            'dropout_prob': 0.1,\n",
    "            'weight_decay': 1e-5,\n",
    "            'batch_size': 256,\n",
    "            'hidden_size': 128,\n",
    "            'ag_args': {'name_suffix': 'NN_LightFast'},\n",
    "            'ag_args_fit': {\n",
    "                'num_gpus': 1,  # Usa GPU si está disponible\n",
    "            }\n",
    "        }]\n",
    "    },\n",
    "    verbosity=2\n",
    ")"
   ]
  },
  {
   "cell_type": "code",
   "execution_count": null,
   "id": "c26e5841",
   "metadata": {},
   "outputs": [],
   "source": [
    "predictor.fit_extra(\n",
    "    time_limit=600,  \n",
    "    ag_args_ensemble={'fold_fitting_strategy': 'parallel_local'},\n",
    "    fit_weighted_ensemble=True,\n",
    "    hyperparameters={\n",
    "        'CAT': [{'ag_args': {'name_suffix': 'CAT_Quick'}\n",
    "        }]\n",
    "    },\n",
    "    verbosity=2\n",
    ")"
   ]
  },
  {
   "cell_type": "code",
   "execution_count": null,
   "id": "c6187325",
   "metadata": {},
   "outputs": [],
   "source": [
    "predictor.fit_extra(\n",
    "    time_limit=600,  \n",
    "    ag_args_ensemble={'fold_fitting_strategy': 'parallel_local'},\n",
    "    fit_weighted_ensemble=True,\n",
    "    hyperparameters={\n",
    "        'XGB': [{\n",
    "            'n_estimators': 150,\n",
    "            'early_stopping_rounds': 10,\n",
    "            'learning_rate': 0.05,\n",
    "            'booster': 'gbtree',\n",
    "            'ag_args': {'name_suffix': 'XGB_Quick'}\n",
    "        }]\n",
    "    },\n",
    "    verbosity=2\n",
    ")"
   ]
  },
  {
   "cell_type": "code",
   "execution_count": null,
   "id": "5ba301cb",
   "metadata": {},
   "outputs": [],
   "source": [
    "predictor.fit_extra(\n",
    "    time_limit=7200,  # 2 horas\n",
    "    ag_args_ensemble={\n",
    "        'fold_fitting_strategy': 'sequential_local',\n",
    "        'num_bag_folds': 3\n",
    "    },\n",
    "    fit_weighted_ensemble=True,\n",
    "    hyperparameters={\n",
    "        'NN_TORCH': [\n",
    "            {\n",
    "                'num_epochs': 10,  # Base, puede ser sobreescrito\n",
    "                'learning_rate': 0.005,\n",
    "                'dropout_prob': 0.2,\n",
    "                'weight_decay': 1e-4,\n",
    "                'batch_size': 512,\n",
    "                'hidden_size': 256,\n",
    "                'ag_args': {'name_suffix': 'NN_HPO'},\n",
    "                'ag_args_fit': {'num_gpus': 1}\n",
    "            }\n",
    "        ]\n",
    "    },\n",
    "    hyperparameter_tune_kwargs={\n",
    "        'num_trials': 15,              # N° de combinaciones a probar\n",
    "        'scheduler': 'fifo',           # Simples y seguros para 1 GPU\n",
    "        'searcher': 'random',          # Búsqueda aleatoria (rápida)\n",
    "    },\n",
    "    verbosity=2\n",
    ")\n"
   ]
  },
  {
   "cell_type": "code",
   "execution_count": null,
   "id": "b375bc4a",
   "metadata": {},
   "outputs": [],
   "source": [
    "\"\"\" import datetime\n",
    "gc.collect()\n",
    "# === Configuración general ===\n",
    "label_column = 'CLASE_DELTA_ZSCORE'\n",
    "output_path = f\"AutogluonModels/model_gbm_{datetime.datetime.now().strftime('%Y%m%d_%H%M')}\"\n",
    "\n",
    "# === Entrenamiento ===\n",
    "predictor = TabularPredictor(\n",
    "    label=label_column,\n",
    "    problem_type='regression',\n",
    "    eval_metric='mean_absolute_error',\n",
    "    path=output_path\n",
    ").fit(\n",
    "    train_data=df_train,\n",
    "    tuning_data=df_val,\n",
    "    use_bag_holdout=True,\n",
    "    presets='medium_quality',\n",
    "    num_bag_folds=8,         # Mayor robustez\n",
    "    num_bag_sets=2,          # Mejor estimación out-of-fold\n",
    "    auto_stack=True,         # Activar stacking desde el inicio\n",
    "    time_limit=10800,\n",
    "    ag_args_ensemble={'fold_fitting_strategy': 'parallel_local'},\n",
    "    hyperparameters={\n",
    "        'GBM': [\n",
    "            {\n",
    "                'ag_args': {'name_suffix': 'XT'},\n",
    "                'extra_trees': True,\n",
    "                'time_limit': 600,\n",
    "                'early_stopping_rounds': 20,\n",
    "            },\n",
    "            {\n",
    "                'ag_args': {'name_suffix': 'LinearTree'},\n",
    "                'linear_tree': True,\n",
    "                'time_limit': 600,\n",
    "                'early_stopping_rounds': 20,\n",
    "            },\n",
    "            {\n",
    "                'ag_args': {'name_suffix': 'Default'},\n",
    "                'num_leaves': 31,\n",
    "                'feature_fraction': 0.8,\n",
    "                'bagging_fraction': 0.8,\n",
    "                'time_limit': 600,\n",
    "                'early_stopping_rounds': 20,\n",
    "            }\n",
    "        ]\n",
    "    }\n",
    ")\n",
    " \"\"\""
   ]
  },
  {
   "cell_type": "code",
   "execution_count": null,
   "id": "d2503094",
   "metadata": {},
   "outputs": [],
   "source": [
    "# # === Cargar modelo ya entrenado ===\n",
    "# #predictor = TabularPredictor.load(\"AutogluonModels/model_gbm\")\n",
    "\n",
    "# predictor.fit_extra(\n",
    "#     time_limit=10800,  # Tiempo total disponible para todos los modelos nuevos\n",
    "#     ag_args_ensemble={'fold_fitting_strategy': 'parallel_local'},\n",
    "#     fit_weighted_ensemble=True,  # Activar Weighted Ensemble\n",
    "#     hyperparameters={\n",
    "#         'XGB': [{\n",
    "#             'n_estimators': 1000,\n",
    "#             'early_stopping_rounds': 25,\n",
    "#             'learning_rate': 0.03,\n",
    "#             'booster': 'gbtree',\n",
    "#             'ag_args': {'name_suffix': 'XGB_Custom'}\n",
    "#         }],\n",
    "#         'CAT': [{\n",
    "#             'ag_args_fit': {'time_limit': 1200},\n",
    "#             'ag_args': {'name_suffix': 'CAT_Custom'}\n",
    "#         }],\n",
    "#         'NN_TORCH': [{\n",
    "#             'num_epochs': 50,\n",
    "#             'learning_rate': 0.003,\n",
    "#             'layers': [1024, 512, 256],\n",
    "#             'dropout_prob': 0.3,\n",
    "#             'weight_decay': 1e-5,\n",
    "#             'batch_size': 2048,\n",
    "#             'ag_args': {'name_suffix': 'DeepCustom'},\n",
    "#             'ag_args_fit': {'num_gpus': 1}\n",
    "#         }]\n",
    "#     },\n",
    "#     verbosity=2\n",
    "# )\n"
   ]
  },
  {
   "cell_type": "code",
   "execution_count": null,
   "id": "c08426fd",
   "metadata": {},
   "outputs": [],
   "source": [
    "# Comparar MAE y MedAE en el leaderboard\n",
    "lb = predictor.leaderboard(data = df_val, extra_metrics=['mean_absolute_error', 'median_absolute_error', 'r2'], silent=False)"
   ]
  },
  {
   "cell_type": "code",
   "execution_count": null,
   "id": "a3b1f98b",
   "metadata": {},
   "outputs": [],
   "source": [
    "ensemble_model = predictor._trainer.load_model(best_model)\n",
    "weights = getattr(ensemble_model, 'weights', None)\n",
    "print(f\"Best model: {best_model}\")\n",
    "print(weights)\n"
   ]
  },
  {
   "cell_type": "code",
   "execution_count": null,
   "id": "50559ac1",
   "metadata": {},
   "outputs": [],
   "source": [
    "# Evaluar feature importance sobre el conjunto de validación\n",
    "importancia = predictor.feature_importance(df_val)"
   ]
  },
  {
   "cell_type": "code",
   "execution_count": null,
   "id": "4d197fe6",
   "metadata": {},
   "outputs": [],
   "source": [
    "importancia"
   ]
  },
  {
   "cell_type": "markdown",
   "id": "ce344269",
   "metadata": {},
   "source": [
    "✅ Paso 1: Calcular errores de predicción"
   ]
  },
  {
   "cell_type": "code",
   "execution_count": null,
   "id": "0bd9735a",
   "metadata": {},
   "outputs": [],
   "source": [
    "import matplotlib.pyplot as plt\n",
    "import seaborn as sns\n",
    "\n",
    "# Predicciones y error absoluto\n",
    "df_val['y_true'] = df_val['CLASE_DELTA_ZSCORE']\n",
    "df_val['y_pred'] = predictor.predict(df_val)\n",
    "df_val['error_abs'] = abs(df_val['y_true'] - df_val['y_pred'])\n",
    "df_val['error_signed'] = df_val['y_pred'] - df_val['y_true']\n"
   ]
  },
  {
   "cell_type": "markdown",
   "id": "e47114e7",
   "metadata": {},
   "source": [
    "📊 Paso 2: Histogramas de error absoluto y error signado"
   ]
  },
  {
   "cell_type": "code",
   "execution_count": null,
   "id": "57cbd6f2",
   "metadata": {},
   "outputs": [],
   "source": [
    "plt.figure(figsize=(10, 4))\n",
    "sns.histplot(df_val['error_abs'], bins=50, kde=True)\n",
    "plt.title('Distribución del Error Absoluto')\n",
    "plt.xlabel('|y_pred - y_true|')\n",
    "plt.ylabel('Frecuencia')\n",
    "plt.show()\n",
    "\n",
    "plt.figure(figsize=(10, 4))\n",
    "sns.histplot(df_val['error_signed'], bins=50, kde=True)\n",
    "plt.title('Distribución del Error Signado')\n",
    "plt.xlabel('y_pred - y_true')\n",
    "plt.ylabel('Frecuencia')\n",
    "plt.axvline(0, color='red', linestyle='--')\n",
    "plt.show()\n"
   ]
  },
  {
   "cell_type": "markdown",
   "id": "18881d9e",
   "metadata": {},
   "source": [
    "📈 Paso 3: Error vs. Valor real (dispersión)\n"
   ]
  },
  {
   "cell_type": "code",
   "execution_count": null,
   "id": "ed4c3d88",
   "metadata": {},
   "outputs": [],
   "source": [
    "plt.figure(figsize=(8, 6))\n",
    "sns.scatterplot(x=df_val['y_true'], y=df_val['error_signed'], alpha=0.3)\n",
    "plt.axhline(0, color='red', linestyle='--')\n",
    "plt.title('Error Signado vs. Valor Real')\n",
    "plt.xlabel('Valor real')\n",
    "plt.ylabel('Error (pred - real)')\n",
    "plt.show()\n"
   ]
  },
  {
   "cell_type": "markdown",
   "id": "ae2c603b",
   "metadata": {},
   "source": [
    "🧩 Paso 4: Promedio de error por grupo "
   ]
  },
  {
   "cell_type": "code",
   "execution_count": null,
   "id": "a608c254",
   "metadata": {},
   "outputs": [],
   "source": [
    "top_errores_producto = df_val.groupby('PRODUCT_ID')['error_abs'].mean().sort_values(ascending=False).head(20)\n",
    "top_errores_producto.plot(kind='bar', figsize=(10,4), title='Top 20 PRODUCT_ID con mayor error promedio')\n",
    "plt.ylabel('Error Absoluto Medio')\n",
    "plt.show()\n"
   ]
  },
  {
   "cell_type": "code",
   "execution_count": null,
   "id": "f284e9f0",
   "metadata": {},
   "outputs": [],
   "source": [
    "top_errores_producto = df_val.groupby('CUSTOMER_ID')['error_abs'].mean().sort_values(ascending=False).head(20)\n",
    "top_errores_producto.plot(kind='bar', figsize=(10,4), title='Top 20 CUSTOMER_ID con mayor error promedio')\n",
    "plt.ylabel('Error Absoluto Medio')\n",
    "plt.show()"
   ]
  },
  {
   "cell_type": "code",
   "execution_count": null,
   "id": "ac970579",
   "metadata": {},
   "outputs": [],
   "source": [
    "# Combinar entrenamiento + validación\n",
    "df_full = pd.concat([df_train, df_val], axis=0)\n",
    "del df_train, df_val\n",
    "gc.collect()"
   ]
  },
  {
   "cell_type": "code",
   "execution_count": null,
   "id": "e31acb87",
   "metadata": {},
   "outputs": [],
   "source": [
    "# Reentrenar el mejor modelo con TODOS los datos disponibles\n",
    "predictor_full = predictor.refit_full(train_data=df_full)"
   ]
  },
  {
   "cell_type": "code",
   "execution_count": null,
   "id": "d9fdca08",
   "metadata": {},
   "outputs": [],
   "source": [
    "# Verificar los modelos disponibles (el mejor ahora tiene el sufijo '_FULL')\n",
    "print(\"Modelos disponibles luego del refit completo:\")\n",
    "print(predictor.leaderboard(silent=True)['model'].tolist())\n",
    "# Eliminar modelos intermedios para liberar espacio\n",
    "predictor.delete_models(models_to_keep='best', dry_run=False)\n",
    "\n",
    "# Confirmar que solo queda el modelo reentrenado\n",
    "print(\"\\nModelos restantes después de eliminar los intermedios:\")\n",
    "print(predictor.leaderboard(silent=True)['model'].tolist())\n",
    "\n",
    "# (Opcional) Guardar el predictor final si querés usarlo luego sin volver a cargar todo\n",
    "predictor.save('./data/modelo_final_autogluon')\n",
    "\n",
    "# ---  Liberar memoria ---\n",
    "del df_full\n",
    "gc.collect()\n"
   ]
  },
  {
   "cell_type": "code",
   "execution_count": null,
   "id": "e32fcd66",
   "metadata": {},
   "outputs": [],
   "source": [
    "# Cargo los datos sobre los que quiero hacer predicciones\n",
    "df_pred_full = pd.read_parquet('./data/l_vm_completa_normalizada_fe.parquet', engine='fastparquet')\n",
    "# Dejo solo los datos del periodo 201910 y que A_PREDECIR sea True\n",
    "# Filtrar solo los datos del periodo 201910 y donde A_PREDECIR sea True\n",
    "df_pred_full = df_pred_full[\n",
    "    (df_pred_full['PERIODO'] == 201910) & (df_pred_full['A_PREDECIR'] == True)\n",
    "].drop(columns=['CLASE_ZSCORE', 'CLASE_DELTA_ZSCORE'])"
   ]
  },
  {
   "cell_type": "code",
   "execution_count": null,
   "id": "ee7da41a",
   "metadata": {},
   "outputs": [],
   "source": [
    "# Realizar las predicciones usando el predictor original\n",
    "predictions = predictor.predict(df_pred_full)\n",
    "# Agregar las predicciones al DataFrame original\n",
    "df_pred_full['CLASE_DELTA_ZSCORE'] = predictions"
   ]
  },
  {
   "cell_type": "code",
   "execution_count": null,
   "id": "be3f5677",
   "metadata": {},
   "outputs": [],
   "source": [
    "# Imprimir la lista de columas del DataFrame con las predicciones\n",
    "print(\"Columnas del DataFrame con las predicciones:\")\n",
    "print(df_pred_full.columns.tolist())"
   ]
  },
  {
   "cell_type": "code",
   "execution_count": null,
   "id": "1d459184",
   "metadata": {},
   "outputs": [],
   "source": [
    "# Dernormalizar la columna CLASE_DELTA_ZSCORE\n",
    "df_pred_full['CLASE_DELTA'] = df_pred_full['CLASE_DELTA_ZSCORE'] * df_pred_full['CLASE_DELTA_STD'] + df_pred_full['CLASE_DELTA_MEAN']\n",
    "df_pred_full['TN'] = df_pred_full['TN_ZSCORE'] * df_pred_full['TN_STD'] + df_pred_full['TN_MEAN']\n",
    "# Agregar la columna TN_PREDICT que sea la suma de TN y CLASE_DELTA y si es menor que cero, poner cero\n",
    "df_pred_full['TN_PREDICT'] = df_pred_full['TN'] + df_pred_full['CLASE_DELTA']\n",
    "df_pred_full['TN_PREDICT'] = df_pred_full['TN_PREDICT'].clip(lower=0)"
   ]
  },
  {
   "cell_type": "code",
   "execution_count": null,
   "id": "4d822ae9",
   "metadata": {},
   "outputs": [],
   "source": [
    "# Generar Dataframe que contenga por cada PRODUCT_ID la suma de TN_PREDICT\n",
    "df_final = df_pred_full.groupby('PRODUCT_ID').agg({'TN_PREDICT': 'sum'}).reset_index()\n",
    "df_final = df_final.rename(columns={'PRODUCT_ID': 'product_id', 'TN_PREDICT': 'tn'})\n",
    "# Guardar el DataFrame df_final en un archivo CSV\n",
    "df_final.to_csv('./modelos/autoglun_normalizando_clase_delta.csv', index=False)\n",
    "df_final.shape\n"
   ]
  }
 ],
 "metadata": {
  "kernelspec": {
   "display_name": "LaboIII",
   "language": "python",
   "name": "python3"
  },
  "language_info": {
   "codemirror_mode": {
    "name": "ipython",
    "version": 3
   },
   "file_extension": ".py",
   "mimetype": "text/x-python",
   "name": "python",
   "nbconvert_exporter": "python",
   "pygments_lexer": "ipython3",
   "version": "3.9.23"
  }
 },
 "nbformat": 4,
 "nbformat_minor": 5
}
