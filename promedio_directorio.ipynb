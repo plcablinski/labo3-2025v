{
 "cells": [
  {
   "cell_type": "code",
   "execution_count": null,
   "id": "438f598c",
   "metadata": {},
   "outputs": [],
   "source": [
    "import pandas as pd\n",
    "import os\n",
    "\n",
    "csvs = [f for f in os.listdir() if f.endswith(\".csv\")]\n",
    "dfs = [pd.read_csv(csv) for csv in csvs]\n",
    "final = pd.concat(dfs, ignore_index=True)\n",
    "final = final.groupby(\"product_id\").mean().reset_index()\n",
    "final"
   ]
  }
 ],
 "metadata": {
  "language_info": {
   "name": "python"
  }
 },
 "nbformat": 4,
 "nbformat_minor": 5
}
