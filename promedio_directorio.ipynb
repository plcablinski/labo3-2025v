{
 "cells": [
  {
   "cell_type": "code",
   "execution_count": 14,
   "id": "560272ca",
   "metadata": {},
   "outputs": [
    {
     "name": "stdout",
     "output_type": "stream",
     "text": [
      "¡kaggle.json movido y con permisos listos!\n"
     ]
    }
   ],
   "source": [
    "import os\n",
    "import shutil\n",
    "\n",
    "# Ruta al archivo kaggle.json subido (ajustar si tu archivo está en otro lugar)\n",
    "origen = \"kaggle.json\"\n",
    "\n",
    "# Ruta destino según el error que ves: /root/.config/kaggle/kaggle.json\n",
    "destino = \"/root/.config/kaggle/kaggle.json\"\n",
    "os.makedirs(os.path.dirname(destino), exist_ok=True)\n",
    "shutil.move(origen, destino)\n",
    "os.chmod(destino, 0o600)\n",
    "print(\"¡kaggle.json movido y con permisos listos!\")\n"
   ]
  },
  {
   "cell_type": "code",
   "execution_count": 15,
   "id": "78bf25be",
   "metadata": {},
   "outputs": [],
   "source": [
    "import pandas as pd\n",
    "import os\n",
    "import itertools\n",
    "from kaggle.api.kaggle_api_extended import KaggleApi\n",
    "\n",
    "# Configuración inicial\n",
    "folder = \"./archivos\"\n",
    "competition = \"labo-iii-edicion-2025-v\"  \n",
    "\n",
    "# Inicializar Kaggle API\n",
    "api = KaggleApi()\n",
    "api.authenticate()\n"
   ]
  },
  {
   "cell_type": "code",
   "execution_count": 16,
   "id": "9fc108c7",
   "metadata": {},
   "outputs": [
    {
     "name": "stdout",
     "output_type": "stream",
     "text": [
      "Generado: combinado_reg_lineal5.csv\n"
     ]
    },
    {
     "name": "stderr",
     "output_type": "stream",
     "text": [
      "100%|██████████| 18.0k/18.0k [00:00<00:00, 35.7kB/s]\n"
     ]
    },
    {
     "name": "stdout",
     "output_type": "stream",
     "text": [
      "Enviado a Kaggle: combinado_reg_lineal5.csv\n",
      "Generado: combinado_lgbm_predictions_ensemble_4_objectives_median.csv\n"
     ]
    },
    {
     "name": "stderr",
     "output_type": "stream",
     "text": [
      "100%|██████████| 18.4k/18.4k [00:00<00:00, 36.8kB/s]\n"
     ]
    },
    {
     "name": "stdout",
     "output_type": "stream",
     "text": [
      "Enviado a Kaggle: combinado_lgbm_predictions_ensemble_4_objectives_median.csv\n",
      "Generado: combinado_lgbm_predictions_ensemble_4_objectives_mean.csv\n"
     ]
    },
    {
     "name": "stderr",
     "output_type": "stream",
     "text": [
      "100%|██████████| 18.4k/18.4k [00:00<00:00, 34.8kB/s]\n"
     ]
    },
    {
     "name": "stdout",
     "output_type": "stream",
     "text": [
      "Enviado a Kaggle: combinado_lgbm_predictions_ensemble_4_objectives_mean.csv\n",
      "Generado: combinado_predicciones_febrero2020_fecha_01_07.csv\n"
     ]
    },
    {
     "name": "stderr",
     "output_type": "stream",
     "text": [
      "100%|██████████| 18.5k/18.5k [00:00<00:00, 39.2kB/s]\n"
     ]
    },
    {
     "name": "stdout",
     "output_type": "stream",
     "text": [
      "Enviado a Kaggle: combinado_predicciones_febrero2020_fecha_01_07.csv\n",
      "Generado: combinado_b_submission_lgbm_median_all_11_pct_+0_09.csv\n"
     ]
    },
    {
     "name": "stderr",
     "output_type": "stream",
     "text": [
      "100%|██████████| 13.2k/13.2k [00:00<00:00, 25.1kB/s]\n"
     ]
    },
    {
     "name": "stdout",
     "output_type": "stream",
     "text": [
      "Enviado a Kaggle: combinado_b_submission_lgbm_median_all_11_pct_+0_09.csv\n",
      "Generado: combinado_reg_lineal5_lgbm_predictions_ensemble_4_objectives_median.csv\n"
     ]
    },
    {
     "name": "stderr",
     "output_type": "stream",
     "text": [
      "100%|██████████| 18.6k/18.6k [00:00<00:00, 36.3kB/s]\n"
     ]
    },
    {
     "name": "stdout",
     "output_type": "stream",
     "text": [
      "Enviado a Kaggle: combinado_reg_lineal5_lgbm_predictions_ensemble_4_objectives_median.csv\n",
      "Generado: combinado_reg_lineal5_lgbm_predictions_ensemble_4_objectives_mean.csv\n"
     ]
    },
    {
     "name": "stderr",
     "output_type": "stream",
     "text": [
      "100%|██████████| 18.6k/18.6k [00:00<00:00, 37.4kB/s]\n"
     ]
    },
    {
     "name": "stdout",
     "output_type": "stream",
     "text": [
      "Enviado a Kaggle: combinado_reg_lineal5_lgbm_predictions_ensemble_4_objectives_mean.csv\n",
      "Generado: combinado_reg_lineal5_predicciones_febrero2020_fecha_01_07.csv\n"
     ]
    },
    {
     "name": "stderr",
     "output_type": "stream",
     "text": [
      "100%|██████████| 18.6k/18.6k [00:00<00:00, 33.4kB/s]\n"
     ]
    },
    {
     "name": "stdout",
     "output_type": "stream",
     "text": [
      "Enviado a Kaggle: combinado_reg_lineal5_predicciones_febrero2020_fecha_01_07.csv\n",
      "Generado: combinado_reg_lineal5_b_submission_lgbm_median_all_11_pct_+0_09.csv\n"
     ]
    },
    {
     "name": "stderr",
     "output_type": "stream",
     "text": [
      "100%|██████████| 18.3k/18.3k [00:00<00:00, 33.1kB/s]\n"
     ]
    },
    {
     "name": "stdout",
     "output_type": "stream",
     "text": [
      "Enviado a Kaggle: combinado_reg_lineal5_b_submission_lgbm_median_all_11_pct_+0_09.csv\n",
      "Generado: combinado_lgbm_predictions_ensemble_4_objectives_median_lgbm_predictions_ensemble_4_objectives_mean.csv\n"
     ]
    },
    {
     "name": "stderr",
     "output_type": "stream",
     "text": [
      "100%|██████████| 18.5k/18.5k [00:00<00:00, 34.2kB/s]\n"
     ]
    },
    {
     "name": "stdout",
     "output_type": "stream",
     "text": [
      "Enviado a Kaggle: combinado_lgbm_predictions_ensemble_4_objectives_median_lgbm_predictions_ensemble_4_objectives_mean.csv\n",
      "Generado: combinado_lgbm_predictions_ensemble_4_objectives_median_predicciones_febrero2020_fecha_01_07.csv\n"
     ]
    },
    {
     "name": "stderr",
     "output_type": "stream",
     "text": [
      "100%|██████████| 18.6k/18.6k [00:00<00:00, 32.6kB/s]\n"
     ]
    },
    {
     "name": "stdout",
     "output_type": "stream",
     "text": [
      "Enviado a Kaggle: combinado_lgbm_predictions_ensemble_4_objectives_median_predicciones_febrero2020_fecha_01_07.csv\n",
      "Generado: combinado_lgbm_predictions_ensemble_4_objectives_median_b_submission_lgbm_median_all_11_pct_+0_09.csv\n"
     ]
    },
    {
     "name": "stderr",
     "output_type": "stream",
     "text": [
      "100%|██████████| 18.5k/18.5k [00:00<00:00, 30.0kB/s]\n"
     ]
    },
    {
     "name": "stdout",
     "output_type": "stream",
     "text": [
      "Enviado a Kaggle: combinado_lgbm_predictions_ensemble_4_objectives_median_b_submission_lgbm_median_all_11_pct_+0_09.csv\n",
      "Generado: combinado_lgbm_predictions_ensemble_4_objectives_mean_predicciones_febrero2020_fecha_01_07.csv\n"
     ]
    },
    {
     "name": "stderr",
     "output_type": "stream",
     "text": [
      "100%|██████████| 18.7k/18.7k [00:00<00:00, 37.3kB/s]\n"
     ]
    },
    {
     "name": "stdout",
     "output_type": "stream",
     "text": [
      "Enviado a Kaggle: combinado_lgbm_predictions_ensemble_4_objectives_mean_predicciones_febrero2020_fecha_01_07.csv\n",
      "Generado: combinado_lgbm_predictions_ensemble_4_objectives_mean_b_submission_lgbm_median_all_11_pct_+0_09.csv\n"
     ]
    },
    {
     "name": "stderr",
     "output_type": "stream",
     "text": [
      "100%|██████████| 18.5k/18.5k [00:00<00:00, 30.8kB/s]\n"
     ]
    },
    {
     "name": "stdout",
     "output_type": "stream",
     "text": [
      "Enviado a Kaggle: combinado_lgbm_predictions_ensemble_4_objectives_mean_b_submission_lgbm_median_all_11_pct_+0_09.csv\n",
      "Generado: combinado_predicciones_febrero2020_fecha_01_07_b_submission_lgbm_median_all_11_pct_+0_09.csv\n"
     ]
    },
    {
     "name": "stderr",
     "output_type": "stream",
     "text": [
      "100%|██████████| 18.6k/18.6k [00:00<00:00, 34.3kB/s]\n"
     ]
    },
    {
     "name": "stdout",
     "output_type": "stream",
     "text": [
      "Enviado a Kaggle: combinado_predicciones_febrero2020_fecha_01_07_b_submission_lgbm_median_all_11_pct_+0_09.csv\n",
      "Generado: combinado_reg_lineal5_lgbm_predictions_ensemble_4_objectives_median_lgbm_predictions_ensemble_4_objectives_mean.csv\n"
     ]
    },
    {
     "name": "stderr",
     "output_type": "stream",
     "text": [
      "100%|██████████| 18.6k/18.6k [00:00<00:00, 37.2kB/s]\n"
     ]
    },
    {
     "name": "stdout",
     "output_type": "stream",
     "text": [
      "Enviado a Kaggle: combinado_reg_lineal5_lgbm_predictions_ensemble_4_objectives_median_lgbm_predictions_ensemble_4_objectives_mean.csv\n",
      "Generado: combinado_reg_lineal5_lgbm_predictions_ensemble_4_objectives_median_predicciones_febrero2020_fecha_01_07.csv\n"
     ]
    },
    {
     "name": "stderr",
     "output_type": "stream",
     "text": [
      "100%|██████████| 18.6k/18.6k [00:00<00:00, 31.9kB/s]\n"
     ]
    },
    {
     "ename": "HTTPError",
     "evalue": "429 Client Error: Too Many Requests for url: https://www.kaggle.com/api/v1/competitions/submissions/submit/labo-iii-edicion-2025-v",
     "output_type": "error",
     "traceback": [
      "\u001b[0;31m---------------------------------------------------------------------------\u001b[0m",
      "\u001b[0;31mHTTPError\u001b[0m                                 Traceback (most recent call last)",
      "Cell \u001b[0;32mIn[16], line 37\u001b[0m\n\u001b[1;32m     35\u001b[0m \u001b[38;5;28mprint\u001b[39m(\u001b[38;5;124mf\u001b[39m\u001b[38;5;124m\"\u001b[39m\u001b[38;5;124mGenerado: \u001b[39m\u001b[38;5;132;01m{\u001b[39;00mnombre_archivo\u001b[38;5;132;01m}\u001b[39;00m\u001b[38;5;124m\"\u001b[39m)\n\u001b[1;32m     36\u001b[0m \u001b[38;5;66;03m# Subir a Kaggle\u001b[39;00m\n\u001b[0;32m---> 37\u001b[0m \u001b[43mapi\u001b[49m\u001b[38;5;241;43m.\u001b[39;49m\u001b[43mcompetition_submit\u001b[49m\u001b[43m(\u001b[49m\n\u001b[1;32m     38\u001b[0m \u001b[43m    \u001b[49m\u001b[43mfile_name\u001b[49m\u001b[38;5;241;43m=\u001b[39;49m\u001b[43mnombre_archivo\u001b[49m\u001b[43m,\u001b[49m\n\u001b[1;32m     39\u001b[0m \u001b[43m    \u001b[49m\u001b[43mmessage\u001b[49m\u001b[38;5;241;43m=\u001b[39;49m\u001b[38;5;124;43mf\u001b[39;49m\u001b[38;5;124;43m\"\u001b[39;49m\u001b[38;5;124;43mCombinación de archivos: \u001b[39;49m\u001b[38;5;132;43;01m{\u001b[39;49;00m\u001b[38;5;124;43m'\u001b[39;49m\u001b[38;5;124;43m, \u001b[39;49m\u001b[38;5;124;43m'\u001b[39;49m\u001b[38;5;241;43m.\u001b[39;49m\u001b[43mjoin\u001b[49m\u001b[43m(\u001b[49m\u001b[43mcombinacion\u001b[49m\u001b[43m)\u001b[49m\u001b[38;5;132;43;01m}\u001b[39;49;00m\u001b[38;5;124;43m\"\u001b[39;49m\u001b[43m,\u001b[49m\n\u001b[1;32m     40\u001b[0m \u001b[43m    \u001b[49m\u001b[43mcompetition\u001b[49m\u001b[38;5;241;43m=\u001b[39;49m\u001b[43mcompetition\u001b[49m\n\u001b[1;32m     41\u001b[0m \u001b[43m\u001b[49m\u001b[43m)\u001b[49m\n\u001b[1;32m     42\u001b[0m \u001b[38;5;28mprint\u001b[39m(\u001b[38;5;124mf\u001b[39m\u001b[38;5;124m\"\u001b[39m\u001b[38;5;124mEnviado a Kaggle: \u001b[39m\u001b[38;5;132;01m{\u001b[39;00mnombre_archivo\u001b[38;5;132;01m}\u001b[39;00m\u001b[38;5;124m\"\u001b[39m)\n",
      "File \u001b[0;32m/opt/conda/lib/python3.10/site-packages/kaggle/api/kaggle_api_extended.py:888\u001b[0m, in \u001b[0;36mKaggleApi.competition_submit\u001b[0;34m(self, file_name, message, competition, quiet)\u001b[0m\n\u001b[1;32m    886\u001b[0m \u001b[38;5;28;01mif\u001b[39;00m message:\n\u001b[1;32m    887\u001b[0m   submit_request\u001b[38;5;241m.\u001b[39msubmission_description \u001b[38;5;241m=\u001b[39m message\n\u001b[0;32m--> 888\u001b[0m submit_response \u001b[38;5;241m=\u001b[39m \u001b[43mkaggle\u001b[49m\u001b[38;5;241;43m.\u001b[39;49m\u001b[43mcompetitions\u001b[49m\u001b[38;5;241;43m.\u001b[39;49m\u001b[43mcompetition_api_client\u001b[49m\u001b[38;5;241;43m.\u001b[39;49m\u001b[43mcreate_submission\u001b[49m\u001b[43m(\u001b[49m\n\u001b[1;32m    889\u001b[0m \u001b[43m    \u001b[49m\u001b[43msubmit_request\u001b[49m\u001b[43m)\u001b[49m\n\u001b[1;32m    890\u001b[0m \u001b[38;5;28;01mreturn\u001b[39;00m submit_response\n",
      "File \u001b[0;32m/opt/conda/lib/python3.10/site-packages/kagglesdk/competitions/services/competition_api_service.py:81\u001b[0m, in \u001b[0;36mCompetitionApiClient.create_submission\u001b[0;34m(self, request)\u001b[0m\n\u001b[1;32m     78\u001b[0m \u001b[38;5;28;01mif\u001b[39;00m request \u001b[38;5;129;01mis\u001b[39;00m \u001b[38;5;28;01mNone\u001b[39;00m:\n\u001b[1;32m     79\u001b[0m   request \u001b[38;5;241m=\u001b[39m ApiCreateSubmissionRequest()\n\u001b[0;32m---> 81\u001b[0m \u001b[38;5;28;01mreturn\u001b[39;00m \u001b[38;5;28;43mself\u001b[39;49m\u001b[38;5;241;43m.\u001b[39;49m\u001b[43m_client\u001b[49m\u001b[38;5;241;43m.\u001b[39;49m\u001b[43mcall\u001b[49m\u001b[43m(\u001b[49m\u001b[38;5;124;43m\"\u001b[39;49m\u001b[38;5;124;43mcompetitions.CompetitionApiService\u001b[39;49m\u001b[38;5;124;43m\"\u001b[39;49m\u001b[43m,\u001b[49m\u001b[43m \u001b[49m\u001b[38;5;124;43m\"\u001b[39;49m\u001b[38;5;124;43mApiCreateSubmission\u001b[39;49m\u001b[38;5;124;43m\"\u001b[39;49m\u001b[43m,\u001b[49m\u001b[43m \u001b[49m\u001b[43mrequest\u001b[49m\u001b[43m,\u001b[49m\u001b[43m \u001b[49m\u001b[43mApiCreateSubmissionResponse\u001b[49m\u001b[43m)\u001b[49m\n",
      "File \u001b[0;32m/opt/conda/lib/python3.10/site-packages/kagglesdk/kaggle_http_client.py:126\u001b[0m, in \u001b[0;36mKaggleHttpClient.call\u001b[0;34m(self, service_name, request_name, request, response_type)\u001b[0m\n\u001b[1;32m    123\u001b[0m settings \u001b[38;5;241m=\u001b[39m \u001b[38;5;28mself\u001b[39m\u001b[38;5;241m.\u001b[39m_session\u001b[38;5;241m.\u001b[39mmerge_environment_settings(http_request\u001b[38;5;241m.\u001b[39murl, {}, \u001b[38;5;28;01mNone\u001b[39;00m, \u001b[38;5;28;01mNone\u001b[39;00m, \u001b[38;5;28;01mNone\u001b[39;00m)\n\u001b[1;32m    124\u001b[0m http_response \u001b[38;5;241m=\u001b[39m \u001b[38;5;28mself\u001b[39m\u001b[38;5;241m.\u001b[39m_session\u001b[38;5;241m.\u001b[39msend(http_request, \u001b[38;5;241m*\u001b[39m\u001b[38;5;241m*\u001b[39msettings)\n\u001b[0;32m--> 126\u001b[0m response \u001b[38;5;241m=\u001b[39m \u001b[38;5;28;43mself\u001b[39;49m\u001b[38;5;241;43m.\u001b[39;49m\u001b[43m_prepare_response\u001b[49m\u001b[43m(\u001b[49m\u001b[43mresponse_type\u001b[49m\u001b[43m,\u001b[49m\u001b[43m \u001b[49m\u001b[43mhttp_response\u001b[49m\u001b[43m)\u001b[49m\n\u001b[1;32m    127\u001b[0m \u001b[38;5;28;01mreturn\u001b[39;00m response\n",
      "File \u001b[0;32m/opt/conda/lib/python3.10/site-packages/kagglesdk/kaggle_http_client.py:191\u001b[0m, in \u001b[0;36mKaggleHttpClient._prepare_response\u001b[0;34m(self, response_type, http_response)\u001b[0m\n\u001b[1;32m    189\u001b[0m \u001b[38;5;28;01mdef\u001b[39;00m \u001b[38;5;21m_prepare_response\u001b[39m(\u001b[38;5;28mself\u001b[39m, response_type, http_response):\n\u001b[1;32m    190\u001b[0m   \u001b[38;5;28mself\u001b[39m\u001b[38;5;241m.\u001b[39m_print_response(http_response)\n\u001b[0;32m--> 191\u001b[0m   \u001b[43mhttp_response\u001b[49m\u001b[38;5;241;43m.\u001b[39;49m\u001b[43mraise_for_status\u001b[49m\u001b[43m(\u001b[49m\u001b[43m)\u001b[49m\n\u001b[1;32m    192\u001b[0m   \u001b[38;5;28;01mif\u001b[39;00m \u001b[38;5;124m'\u001b[39m\u001b[38;5;124mapplication/json\u001b[39m\u001b[38;5;124m'\u001b[39m \u001b[38;5;129;01min\u001b[39;00m http_response\u001b[38;5;241m.\u001b[39mheaders[\u001b[38;5;124m'\u001b[39m\u001b[38;5;124mContent-Type\u001b[39m\u001b[38;5;124m'\u001b[39m]:\n\u001b[1;32m    193\u001b[0m     resp \u001b[38;5;241m=\u001b[39m http_response\u001b[38;5;241m.\u001b[39mjson()\n",
      "File \u001b[0;32m/opt/conda/lib/python3.10/site-packages/requests/models.py:1021\u001b[0m, in \u001b[0;36mResponse.raise_for_status\u001b[0;34m(self)\u001b[0m\n\u001b[1;32m   1016\u001b[0m     http_error_msg \u001b[38;5;241m=\u001b[39m (\n\u001b[1;32m   1017\u001b[0m         \u001b[38;5;124mf\u001b[39m\u001b[38;5;124m\"\u001b[39m\u001b[38;5;132;01m{\u001b[39;00m\u001b[38;5;28mself\u001b[39m\u001b[38;5;241m.\u001b[39mstatus_code\u001b[38;5;132;01m}\u001b[39;00m\u001b[38;5;124m Server Error: \u001b[39m\u001b[38;5;132;01m{\u001b[39;00mreason\u001b[38;5;132;01m}\u001b[39;00m\u001b[38;5;124m for url: \u001b[39m\u001b[38;5;132;01m{\u001b[39;00m\u001b[38;5;28mself\u001b[39m\u001b[38;5;241m.\u001b[39murl\u001b[38;5;132;01m}\u001b[39;00m\u001b[38;5;124m\"\u001b[39m\n\u001b[1;32m   1018\u001b[0m     )\n\u001b[1;32m   1020\u001b[0m \u001b[38;5;28;01mif\u001b[39;00m http_error_msg:\n\u001b[0;32m-> 1021\u001b[0m     \u001b[38;5;28;01mraise\u001b[39;00m HTTPError(http_error_msg, response\u001b[38;5;241m=\u001b[39m\u001b[38;5;28mself\u001b[39m)\n",
      "\u001b[0;31mHTTPError\u001b[0m: 429 Client Error: Too Many Requests for url: https://www.kaggle.com/api/v1/competitions/submissions/submit/labo-iii-edicion-2025-v"
     ]
    }
   ],
   "source": [
    "\n",
    "# Listar archivos y armar diccionario de nombres a paths\n",
    "csvs = [os.path.join(folder, f) for f in os.listdir(folder) if f.endswith(\".csv\")]\n",
    "csv_names = [os.path.splitext(os.path.basename(f))[0] for f in csvs]\n",
    "name2path = dict(zip(csv_names, csvs))\n",
    "\n",
    "# Diccionario de reemplazos\n",
    "valores_a_reemplazar = {\n",
    "    20001: 1122.1555,\n",
    "    20006: 749.1662,\n",
    "    20007: 401.1913,\n",
    "    20012: 224.8046,\n",
    "    20017: 242.0700,\n",
    "    20018: 386.8463,\n",
    "    20032: 352.3456,\n",
    "    20033: 121.0774,\n",
    "    20043: 189.5840\n",
    "}\n",
    "\n",
    "\n",
    "\n",
    "# Generar y subir los archivos\n",
    "for n in range(1, min(5, len(csvs)+1)):\n",
    "    for combinacion in itertools.combinations(csv_names, n):\n",
    "        # Concatenar y procesar\n",
    "        dfs = [pd.read_csv(name2path[name]) for name in combinacion]\n",
    "        df = pd.concat(dfs, ignore_index=True)\n",
    "        if \"tn\" in df.columns:\n",
    "            df[\"tn\"] = df[\"tn\"].clip(lower=0)\n",
    "        df = df.groupby(\"product_id\").mean().reset_index()\n",
    "        for pid, valor in valores_a_reemplazar.items():\n",
    "            df.loc[df[\"product_id\"] == pid, \"tn\"] = valor\n",
    "        # Nombre de archivo\n",
    "        nombre_archivo = \"combinado_\" + \"_\".join(combinacion) + \".csv\"\n",
    "        df.to_csv(nombre_archivo, index=False)\n",
    "        print(f\"Generado: {nombre_archivo}\")\n",
    "        # Subir a Kaggle\n",
    "        api.competition_submit(\n",
    "            file_name=nombre_archivo,\n",
    "            message=f\"Combinación de archivos: {', '.join(combinacion)}\",\n",
    "            competition=competition\n",
    "        )\n",
    "        print(f\"Enviado a Kaggle: {nombre_archivo}\")"
   ]
  },
  {
   "cell_type": "code",
   "execution_count": 22,
   "id": "15e792ce",
   "metadata": {},
   "outputs": [
    {
     "name": "stdout",
     "output_type": "stream",
     "text": [
      "     product_id     tn_file1     tn_file2  diferencia_absoluta_tn\n",
      "1         20002  1075.435416  1003.003216               72.432200\n",
      "2         20003   749.365443   653.415495               95.949949\n",
      "3         20004   554.654095   466.377916               88.276180\n",
      "4         20005   565.616910   518.678618               46.938292\n",
      "7         20008   386.817262   311.491346               75.325915\n",
      "..          ...          ...          ...                     ...\n",
      "775       21263     0.000000     0.001013                0.001013\n",
      "776       21265     0.099248     0.072178                0.027069\n",
      "777       21266     0.101340     0.043812                0.057528\n",
      "778       21267     0.000000     0.018061                0.018061\n",
      "779       21276     0.000000     0.027037                0.027037\n",
      "\n",
      "[771 rows x 4 columns]\n"
     ]
    }
   ],
   "source": [
    "# Diccionario de reemplazos\n",
    "valores_a_reemplazar = {\n",
    "    20001: 1122.1555,\n",
    "    20006: 749.1662,\n",
    "    20007: 401.1913,\n",
    "    20012: 224.8046,\n",
    "    20017: 242.0700,\n",
    "    20018: 386.8463,\n",
    "    20032: 352.3456,\n",
    "    20033: 121.0774,\n",
    "    20043: 189.5840\n",
    "}\n",
    "\n",
    "# Leer los archivos\n",
    "df1 = pd.read_csv(\"./archivos/b_submission_lgbm_median_all_11_pct_+0_09.csv\")\n",
    "df2 = pd.read_csv(\"./archivos/lgbm_predictions_ensemble_4_objectives_mean.csv\")\n",
    "\n",
    "# Unir ambos dataframes por product_id\n",
    "df_merged = df1[[\"product_id\", \"tn\"]].merge(\n",
    "    df2[[\"product_id\", \"tn\"]],\n",
    "    on=\"product_id\",\n",
    "    suffixes=('_file1', '_file2')\n",
    ")\n",
    "\n",
    "# Filtrar SOLO los product_id que NO están en el diccionario\n",
    "ids_filtrar = list(valores_a_reemplazar.keys())\n",
    "df_merged_filtrado = df_merged[~df_merged[\"product_id\"].isin(ids_filtrar)].copy()\n",
    "\n",
    "# Calcular la diferencia absoluta\n",
    "df_merged_filtrado[\"diferencia_absoluta_tn\"] = (df_merged_filtrado[\"tn_file1\"] - df_merged_filtrado[\"tn_file2\"]).abs()\n",
    "\n",
    "# Mostrar resultado\n",
    "print(df_merged_filtrado[[\"product_id\", \"tn_file1\", \"tn_file2\", \"diferencia_absoluta_tn\"]])\n",
    "\n",
    "# Guardar si lo querés a CSV\n",
    "df_merged_filtrado[[\"product_id\", \"tn_file1\", \"tn_file2\", \"diferencia_absoluta_tn\"]].to_csv(\"comparacion_diferencia_absoluta_tn_no_reemplazados.csv\", index=False)\n"
   ]
  }
 ],
 "metadata": {
  "kernelspec": {
   "display_name": "base",
   "language": "python",
   "name": "python3"
  },
  "language_info": {
   "codemirror_mode": {
    "name": "ipython",
    "version": 3
   },
   "file_extension": ".py",
   "mimetype": "text/x-python",
   "name": "python",
   "nbconvert_exporter": "python",
   "pygments_lexer": "ipython3",
   "version": "3.10.14"
  }
 },
 "nbformat": 4,
 "nbformat_minor": 5
}
