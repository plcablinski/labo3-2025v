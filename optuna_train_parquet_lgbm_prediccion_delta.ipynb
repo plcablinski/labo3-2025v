{
 "cells": [
  {
   "cell_type": "code",
   "execution_count": 20,
   "id": "e5d6f6dc",
   "metadata": {},
   "outputs": [],
   "source": [
    "#%pip install optuna-integration[lightgbm]\n",
    "\n",
    "import lightgbm as lgb\n",
    "import numpy as np\n",
    "import pandas as pd\n",
    "import numpy as np\n",
    "import gc\n",
    "import os\n",
    "import optuna\n",
    "from optuna.integration import LightGBMPruningCallback\n",
    "import sqlite3"
   ]
  },
  {
   "cell_type": "code",
   "execution_count": 21,
   "id": "bea074aa",
   "metadata": {},
   "outputs": [],
   "source": [
    "gc.collect()\n",
    "df_full = pd.read_parquet('./data/l_vm_completa_train.parquet', engine='fastparquet')"
   ]
  },
  {
   "cell_type": "code",
   "execution_count": 22,
   "id": "cca73795",
   "metadata": {},
   "outputs": [
    {
     "name": "stdout",
     "output_type": "stream",
     "text": [
      "Columnas de df_full después de la unión con df_pendientes:\n",
      "['PERIODO', 'ANIO', 'MES', 'MES_SIN', 'MES_COS', 'TRIMESTRE', 'ID_CAT1', 'ID_CAT2', 'ID_CAT3', 'ID_BRAND', 'SKU_SIZE', 'CUSTOMER_ID', 'PRODUCT_ID', 'PLAN_PRECIOS_CUIDADOS', 'CUST_REQUEST_QTY', 'CUST_REQUEST_TN', 'TN', 'STOCK_FINAL', 'MEDIA_MOVIL_3M_CLI_PROD', 'MEDIA_MOVIL_6M_CLI_PROD', 'MEDIA_MOVIL_12M_CLI_PROD', 'DESVIO_MOVIL_3M_CLI_PROD', 'DESVIO_MOVIL_6M_CLI_PROD', 'DESVIO_MOVIL_12M_CLI_PROD', 'MEDIA_MOVIL_3M_PROD', 'MEDIA_MOVIL_6M_PROD', 'MEDIA_MOVIL_12M_PROD', 'DESVIO_MOVIL_3M_PROD', 'DESVIO_MOVIL_6M_PROD', 'DESVIO_MOVIL_12M_PROD', 'MEDIA_MOVIL_3M_CLI', 'MEDIA_MOVIL_6M_CLI', 'MEDIA_MOVIL_12M_CLI', 'DESVIO_MOVIL_3M_CLI', 'DESVIO_MOVIL_6M_CLI', 'DESVIO_MOVIL_12M_CLI', 'TN_LAG_01', 'TN_LAG_02', 'TN_LAG_03', 'TN_LAG_04', 'TN_LAG_05', 'TN_LAG_06', 'TN_LAG_07', 'TN_LAG_08', 'TN_LAG_09', 'TN_LAG_10', 'TN_LAG_11', 'TN_LAG_12', 'TN_LAG_13', 'TN_LAG_14', 'TN_LAG_15', 'CLASE', 'CLASE_DELTA', 'ORDINAL', 'TN_DELTA_01', 'TN_DELTA_02', 'TN_DELTA_03', 'TN_DELTA_04', 'TN_DELTA_05', 'TN_DELTA_06', 'TN_DELTA_07', 'TN_DELTA_08', 'TN_DELTA_09', 'TN_DELTA_10', 'TN_DELTA_11', 'TN_DELTA_12', 'TN_DELTA_13', 'TN_DELTA_14', 'TN_DELTA_15', 'ANTIG_CLIENTE', 'ANTIG_PRODUCTO', 'CANT_PROD_CLI_PER', 'MEDIA_PROD_PER', 'MEDIA_PROD', 'MEDIA_PER', 'A_PREDECIR', 'PENDIENTE_TENDENCIA_3', 'TN_EWMA_03', 'TN_MEDIAN_03', 'TN_MIN_03', 'TN_MAX_03', 'PENDIENTE_TENDENCIA_6', 'TN_EWMA_06', 'TN_MEDIAN_06', 'TN_MIN_06', 'TN_MAX_06', 'PENDIENTE_TENDENCIA_9', 'TN_EWMA_09', 'TN_MEDIAN_09', 'TN_MIN_09', 'TN_MAX_09', 'PENDIENTE_TENDENCIA_12', 'TN_EWMA_12', 'TN_MEDIAN_12', 'TN_MIN_12', 'TN_MAX_12']\n"
     ]
    }
   ],
   "source": [
    "# Abrir el archivo parquet y cargarlo en un DataFrame data/l_vm_completa_train_pendientes.parquet\n",
    "df_pendientes = pd.read_parquet('./data/l_vm_completa_train_pendientes.parquet', engine='fastparquet')\n",
    "# Reunir los DataFrames df_full y df_pendientes por PRODUCT_ID, CUSTOMER_ID y PERIODO, agregar las \n",
    "# columnas de df_pendientes a df_full\n",
    "df_full = df_full.merge(df_pendientes, on=['PRODUCT_ID', 'CUSTOMER_ID', 'PERIODO'], how='left', suffixes=('', '_features'))\n",
    "# Imprimir las columnas de df_full\n",
    "print(\"Columnas de df_full después de la unión con df_pendientes:\")\n",
    "print(df_full.columns.tolist())"
   ]
  },
  {
   "cell_type": "code",
   "execution_count": 23,
   "id": "2661c129",
   "metadata": {},
   "outputs": [],
   "source": [
    "# Agregar a df_full una variable categorica MES_PROBLEMATICO que sea 1 si PERIODO es 201906 o 201908 o 201910, y 0 en caso contrario\n",
    "df_full['MES_PROBLEMATICO'] = df_full['PERIODO'].apply(lambda x: 1 if x in [201906, 201908] else 0)"
   ]
  },
  {
   "cell_type": "code",
   "execution_count": 24,
   "id": "11e06b65",
   "metadata": {},
   "outputs": [],
   "source": [
    "# Optimizar tipos de datos numéricos\n",
    "for col in df_full.select_dtypes(include=['int64']).columns:\n",
    "    df_full[col] = pd.to_numeric(df_full[col], downcast='integer')\n",
    "for col in df_full.select_dtypes(include=['float64']).columns:\n",
    "    df_full[col] = pd.to_numeric(df_full[col], downcast='float')\n",
    "# Variables categóricas\n",
    "# categorical_features = ['ANIO','MES','TRIMESTRE','ID_CAT1','ID_CAT2','ID_CAT3','ID_BRAND','SKU_SIZE','CUSTOMER_ID','PRODUCT_ID','PLAN_PRECIOS_CUIDADOS']\n",
    "categorical_features = ['ID_CAT1','ID_CAT2','ID_CAT3','ID_BRAND','PLAN_PRECIOS_CUIDADOS','MES_PROBLEMATICO']\n",
    "# Convertir las variables categóricas a tipo 'category'\n",
    "for col in categorical_features:\n",
    "    df_full[col] = df_full[col].astype('category')\n",
    "# Hacer que A_PREDECIR sea boolean si es 'S' vale True, si es 'N' False\n",
    "df_full['A_PREDECIR'] = df_full['A_PREDECIR'].map({'S': True, 'N': False})\n"
   ]
  },
  {
   "cell_type": "code",
   "execution_count": 25,
   "id": "2e06cb76",
   "metadata": {},
   "outputs": [
    {
     "data": {
      "text/plain": [
       "0"
      ]
     },
     "execution_count": 25,
     "metadata": {},
     "output_type": "execute_result"
    }
   ],
   "source": [
    "# Variables predictoras y objetivo\n",
    "# filtrar que en X el periodo sea menor o igual a 201910\n",
    "# En x eliminar la columna 'CLASE' y 'CLASE_DELTA'\n",
    "X = df_full[df_full['PERIODO'] <= 201910].drop(columns=['CLASE', 'CLASE_DELTA']) \n",
    "# Filtrar en y que el periodo sea menor o igual a 201910\n",
    "y = df_full[df_full['PERIODO'] <= 201910]['CLASE_DELTA']\n",
    "# Eliminar df_full para liberar memoria\n",
    "del df_full\n",
    "gc.collect()"
   ]
  },
  {
   "cell_type": "code",
   "execution_count": 26,
   "id": "dec1811b",
   "metadata": {},
   "outputs": [
    {
     "data": {
      "text/plain": [
       "0"
      ]
     },
     "execution_count": 26,
     "metadata": {},
     "output_type": "execute_result"
    }
   ],
   "source": [
    "# Definir los periodos de validación 201910\n",
    "#periodos_valid = [201910]\n",
    "periodos_valid = [201910]\n",
    "\n",
    "# Separar train y cinco conjuntos de validación respetando la secuencia temporal\n",
    "X_train = X[X['PERIODO'] < periodos_valid[0]]\n",
    "y_train = y[X['PERIODO'] < periodos_valid[0]]\n",
    "X_val_list = [X[X['PERIODO'] == p] for p in periodos_valid]\n",
    "y_val_list = [y[X['PERIODO'] == p] for p in periodos_valid]\n",
    "del X, y\n",
    "gc.collect()"
   ]
  },
  {
   "cell_type": "code",
   "execution_count": 27,
   "id": "a6c6bbfd",
   "metadata": {},
   "outputs": [],
   "source": [
    "import lightgbm as lgb\n",
    "import optuna\n",
    "from optuna.integration import LightGBMPruningCallback\n",
    "import os\n",
    "\n",
    "# === Usamos solo el primer período de validación ===\n",
    "X_val = X_val_list[0]\n",
    "y_val = y_val_list[0]\n",
    "\n",
    "train_data = lgb.Dataset(X_train, label=y_train, categorical_feature=categorical_features)\n",
    "val_data = lgb.Dataset(X_val, label=y_val, categorical_feature=categorical_features)\n"
   ]
  },
  {
   "cell_type": "code",
   "execution_count": null,
   "id": "0791b775",
   "metadata": {},
   "outputs": [],
   "source": [
    "\n",
    "def objective(trial):\n",
    "    params = {\n",
    "        'objective': 'regression',\n",
    "        'metric': 'mae',  # alias de l1\n",
    "        'boosting_type': 'gbdt',\n",
    "        'num_leaves': trial.suggest_int('num_leaves', 31, 1024, log=True),\n",
    "        'learning_rate': trial.suggest_float('learning_rate', 0.001, 0.2, log=True),\n",
    "        'feature_fraction': trial.suggest_float('feature_fraction', 0.4, 1.0),\n",
    "        'bagging_fraction': trial.suggest_float('bagging_fraction', 0.4, 1.0),\n",
    "        'bagging_freq': trial.suggest_int('bagging_freq', 1, 10),\n",
    "        'min_data_in_leaf': trial.suggest_int('min_data_in_leaf', 10, 500),\n",
    "        'max_depth': trial.suggest_int('max_depth', 3, 24),\n",
    "        'lambda_l1': trial.suggest_float('lambda_l1', 0.0, 5.0),\n",
    "        'lambda_l2': trial.suggest_float('lambda_l2', 0.0, 5.0),\n",
    "        'min_gain_to_split': trial.suggest_float('min_gain_to_split', 0.0, 1.0),\n",
    "        'verbose': -1,\n",
    "        'feature_pre_filter': False,\n",
    "        'bagging_seed': 42,\n",
    "        'feature_fraction_seed': 42\n",
    "    }\n",
    "\n",
    "    model = lgb.train(\n",
    "        params,\n",
    "        train_data,\n",
    "        num_boost_round=2000,\n",
    "        valid_sets=[val_data],  # No usar valid_names\n",
    "        callbacks=[\n",
    "            lgb.early_stopping(stopping_rounds=100),\n",
    "            lgb.log_evaluation(period=100),\n",
    "            LightGBMPruningCallback(trial, 'l1')  # Este es el nombre correcto\n",
    "        ]\n",
    "    )\n",
    "\n",
    "    best_score = model.best_score['valid_0']['l1']\n",
    "    print(f\"Trial {trial.number}: MAE = {best_score:.5f}\")\n",
    "    return best_score\n",
    "\n",
    "# Optuna\n",
    "storage_url = \"sqlite:///./modelos/optuna.db\"\n",
    "study = optuna.create_study(\n",
    "    direction='minimize',\n",
    "    study_name=\"mae_delta_lgbm_regression_todos_los_productos_con_pendientes\",\n",
    "    storage=storage_url,\n",
    "    load_if_exists=True\n",
    ")\n",
    "study.optimize(objective, n_trials=200, show_progress_bar=True)\n",
    "\n",
    "# Mostrar mejores hiperparámetros\n",
    "print(\"Mejores hiperparámetros encontrados:\")\n",
    "print(study.best_params)\n"
   ]
  },
  {
   "cell_type": "code",
   "execution_count": 28,
   "id": "d465c9ad",
   "metadata": {},
   "outputs": [
    {
     "data": {
      "text/plain": [
       "{'num_leaves': 159,\n",
       " 'learning_rate': 0.15976562141122164,\n",
       " 'feature_fraction': 0.9902705425545245,\n",
       " 'bagging_fraction': 0.9641034133841936,\n",
       " 'bagging_freq': 3,\n",
       " 'min_data_in_leaf': 311,\n",
       " 'max_depth': 18,\n",
       " 'lambda_l1': 2.4322841274280815,\n",
       " 'lambda_l2': 0.4206330467495403,\n",
       " 'min_gain_to_split': 0.9020185871164503}"
      ]
     },
     "execution_count": 28,
     "metadata": {},
     "output_type": "execute_result"
    }
   ],
   "source": [
    "# Obtener los mejores hiperparámetros del estudio de la base de datos SQLite\n",
    "storage_url = \"sqlite:///./modelos/optuna.db\"\n",
    "study = optuna.load_study(\n",
    "    study_name=\"mae_delta_lgbm_regression_todos_los_productos_con_pendientes\",\n",
    "    storage=storage_url\n",
    ")\n",
    "best_params = study.best_params\n",
    "study.best_params"
   ]
  },
  {
   "cell_type": "code",
   "execution_count": 29,
   "id": "7b6e4fee",
   "metadata": {},
   "outputs": [
    {
     "name": "stdout",
     "output_type": "stream",
     "text": [
      "Training until validation scores don't improve for 500 rounds\n",
      "[500]\tvalid_0's l1: 0.0508179\n",
      "Early stopping, best iteration is:\n",
      "[243]\tvalid_0's l1: 0.0502319\n"
     ]
    },
    {
     "data": {
      "text/plain": [
       "<lightgbm.basic.Booster at 0x7ea92a60fe80>"
      ]
     },
     "execution_count": 29,
     "metadata": {},
     "output_type": "execute_result"
    }
   ],
   "source": [
    "\n",
    "# Entrenamiento final\n",
    "best_params = study.best_params\n",
    "best_params['objective'] = 'regression'\n",
    "best_params['metric'] = 'mae'\n",
    "best_params['verbose'] = -1\n",
    "\n",
    "model_reg = lgb.train(\n",
    "    best_params,\n",
    "    train_data,\n",
    "    num_boost_round=50000,\n",
    "    valid_sets=[val_data],\n",
    "    callbacks=[\n",
    "        lgb.early_stopping(stopping_rounds=500),\n",
    "        lgb.log_evaluation(period=500)\n",
    "    ]\n",
    ")\n",
    "\n",
    "os.makedirs('./modelos', exist_ok=True)\n",
    "model_reg.save_model('./modelos/lgbm_model_reg_todos_los_productos.txt')\n",
    "\n"
   ]
  },
  {
   "cell_type": "code",
   "execution_count": 45,
   "id": "6fd4720a",
   "metadata": {},
   "outputs": [
    {
     "name": "stdout",
     "output_type": "stream",
     "text": [
      "                      feature    importance\n",
      "52                TN_DELTA_01  5.333540e+06\n",
      "8                     ID_CAT3  1.699108e+06\n",
      "74      PENDIENTE_TENDENCIA_3  1.394175e+06\n",
      "54                TN_DELTA_03  1.321291e+06\n",
      "71                 MEDIA_PROD  1.267442e+06\n",
      "16                         TN  1.240481e+06\n",
      "53                TN_DELTA_02  1.122404e+06\n",
      "84      PENDIENTE_TENDENCIA_9  9.649020e+05\n",
      "69          CANT_PROD_CLI_PER  9.438581e+05\n",
      "36                  TN_LAG_01  8.995127e+05\n",
      "12                 PRODUCT_ID  8.433797e+05\n",
      "9                    ID_BRAND  8.000335e+05\n",
      "79      PENDIENTE_TENDENCIA_6  7.766121e+05\n",
      "70             MEDIA_PROD_PER  7.091040e+05\n",
      "57                TN_DELTA_06  6.924990e+05\n",
      "55                TN_DELTA_04  6.640851e+05\n",
      "2                         MES  6.589357e+05\n",
      "11                CUSTOMER_ID  6.405387e+05\n",
      "56                TN_DELTA_05  6.146077e+05\n",
      "38                  TN_LAG_03  6.103073e+05\n",
      "39                  TN_LAG_04  6.081877e+05\n",
      "14           CUST_REQUEST_QTY  5.735370e+05\n",
      "77                  TN_MIN_03  5.474518e+05\n",
      "23  DESVIO_MOVIL_12M_CLI_PROD  5.449772e+05\n",
      "86               TN_MEDIAN_09  5.370034e+05\n",
      "41                  TN_LAG_06  4.747871e+05\n",
      "37                  TN_LAG_02  4.444383e+05\n",
      "72                  MEDIA_PER  4.399214e+05\n",
      "82                  TN_MIN_06  4.303303e+05\n",
      "21   DESVIO_MOVIL_3M_CLI_PROD  4.071806e+05\n",
      "89     PENDIENTE_TENDENCIA_12  3.982887e+05\n",
      "40                  TN_LAG_05  3.812693e+05\n",
      "61                TN_DELTA_10  3.731573e+05\n",
      "17                STOCK_FINAL  3.464187e+05\n",
      "92                  TN_MIN_12  3.217251e+05\n",
      "42                  TN_LAG_07  3.182261e+05\n",
      "76               TN_MEDIAN_03  3.147834e+05\n",
      "87                  TN_MIN_09  3.101845e+05\n",
      "44                  TN_LAG_09  2.935321e+05\n",
      "45                  TN_LAG_10  2.913708e+05\n",
      "50                  TN_LAG_15  2.828692e+05\n",
      "58                TN_DELTA_07  2.764544e+05\n",
      "4                     MES_COS  2.728108e+05\n",
      "81               TN_MEDIAN_06  2.589695e+05\n",
      "0                     PERIODO  2.449090e+05\n",
      "15            CUST_REQUEST_TN  2.438965e+05\n",
      "26       MEDIA_MOVIL_12M_PROD  2.114800e+05\n",
      "10                   SKU_SIZE  2.092589e+05\n",
      "35       DESVIO_MOVIL_12M_CLI  2.077778e+05\n",
      "63                TN_DELTA_12  2.020120e+05\n"
     ]
    },
    {
     "data": {
      "image/png": "[encoded data removed]",
      "text/plain": [
       "<Figure size 1000x600 with 1 Axes>"
      ]
     },
     "metadata": {},
     "output_type": "display_data"
    }
   ],
   "source": [
    "# Obtener la importancia de cada variable\n",
    "importancia = model_reg.feature_importance(importance_type='gain')\n",
    "nombres = X_train.columns\n",
    "\n",
    "# Crear un DataFrame ordenado por importancia\n",
    "df_importancia = pd.DataFrame({'feature': nombres, 'importance': importancia})\n",
    "df_importancia = df_importancia.sort_values(by='importance', ascending=False)\n",
    "\n",
    "# Mostrar las variables más importantes\n",
    "print(df_importancia.head(50))\n",
    "\n",
    "\n",
    "# Si quieres visualizarlo gráficamente:\n",
    "import matplotlib.pyplot as plt\n",
    "\n",
    "plt.figure(figsize=(10,6))\n",
    "plt.barh(df_importancia['feature'], df_importancia['importance'])\n",
    "plt.gca().invert_yaxis()\n",
    "plt.title('Importancia de variables LightGBM')\n",
    "plt.xlabel('Importancia')\n",
    "plt.show()"
   ]
  },
  {
   "cell_type": "code",
   "execution_count": 31,
   "id": "1c421266",
   "metadata": {},
   "outputs": [
    {
     "data": {
      "text/plain": [
       "0"
      ]
     },
     "execution_count": 31,
     "metadata": {},
     "output_type": "execute_result"
    }
   ],
   "source": [
    "# Entreno nuevamente el modelo con los mejores hiperparámetros y el conjunto completo de datos\n",
    "df_full = pd.read_parquet('./data/l_vm_completa_train.parquet', engine='fastparquet')\n",
    "# Abrir el archivo parquet y cargarlo en un DataFrame data/l_vm_completa_train_pendientes.parquet\n",
    "df_pendientes = pd.read_parquet('./data/l_vm_completa_train_pendientes.parquet', engine='fastparquet')\n",
    "# Reunir los DataFrames df_full y df_pendientes por PRODUCT_ID, CUSTOMER_ID y PERIODO, agregar las \n",
    "# columnas de df_pendientes a df_full\n",
    "df_full = df_full.merge(df_pendientes, on=['PRODUCT_ID', 'CUSTOMER_ID', 'PERIODO'], how='left', suffixes=('', '_features'))\n",
    "# Agregar a df_full una variable categorica MES_PROBLEMATICO que sea 1 si PERIODO es 201906 o 201908 o 201910, y 0 en caso contrario\n",
    "df_full['MES_PROBLEMATICO'] = df_full['PERIODO'].apply(lambda x: 1 if x in [201906, 201908] else 0)\n",
    "# Optimizar tipos de datos numéricos\n",
    "for col in df_full.select_dtypes(include=['int64']).columns:\n",
    "    df_full[col] = pd.to_numeric(df_full[col], downcast='integer')\n",
    "for col in df_full.select_dtypes(include=['float64']).columns:\n",
    "    df_full[col] = pd.to_numeric(df_full[col], downcast='float')\n",
    "# Variables categóricas\n",
    "# categorical_features = ['ANIO','MES','TRIMESTRE','ID_CAT1','ID_CAT2','ID_CAT3','ID_BRAND','SKU_SIZE','CUSTOMER_ID','PRODUCT_ID','PLAN_PRECIOS_CUIDADOS']\n",
    "categorical_features = ['ID_CAT1','ID_CAT2','ID_CAT3','ID_BRAND','PLAN_PRECIOS_CUIDADOS','MES_PROBLEMATICO','A_PREDECIR']\n",
    "# Convertir las variables categóricas a tipo 'category'\n",
    "for col in categorical_features:\n",
    "    df_full[col] = df_full[col].astype('category')\n",
    "# Variables predictoras y objetivo\n",
    "# filtrar que en X el periodo sea menor o igual a 201910\n",
    "# En x eliminar la columna 'CLASE' y 'CLASE_DELTA'\n",
    "X = df_full[df_full['PERIODO'] <= 201910].drop(columns=['CLASE', 'CLASE_DELTA']) \n",
    "# Filtrar en y que el periodo sea menor o igual a 201910\n",
    "y = df_full[df_full['PERIODO'] <= 201910]['CLASE_DELTA']\n",
    "# Eliminar df_full para liberar memoria\n",
    "del df_full\n",
    "gc.collect()\n",
    "# Separar train y cinco conjuntos de validación respetando la secuencia temporal\n",
    "X_train = X\n",
    "y_train = y\n",
    "del X, y\n",
    "gc.collect()"
   ]
  },
  {
   "cell_type": "code",
   "execution_count": 32,
   "id": "528be593",
   "metadata": {},
   "outputs": [
    {
     "data": {
      "text/plain": [
       "{'num_leaves': 159,\n",
       " 'learning_rate': 0.15976562141122164,\n",
       " 'feature_fraction': 0.9902705425545245,\n",
       " 'bagging_fraction': 0.9641034133841936,\n",
       " 'bagging_freq': 3,\n",
       " 'min_data_in_leaf': 311,\n",
       " 'max_depth': 18,\n",
       " 'lambda_l1': 2.4322841274280815,\n",
       " 'lambda_l2': 0.4206330467495403,\n",
       " 'min_gain_to_split': 0.9020185871164503}"
      ]
     },
     "execution_count": 32,
     "metadata": {},
     "output_type": "execute_result"
    }
   ],
   "source": [
    "# Obtener los mejores hiperparámetros del estudio de la base de datos SQLite\n",
    "storage_url = \"sqlite:///./modelos/optuna.db\"\n",
    "study1 = optuna.load_study(\n",
    "    study_name=\"mae_delta_lgbm_regression_todos_los_productos_con_pendientes\",\n",
    "    storage=storage_url\n",
    ")\n",
    "best_params1 = study1.best_params\n",
    "study1.best_params"
   ]
  },
  {
   "cell_type": "code",
   "execution_count": 33,
   "id": "ae84cc75",
   "metadata": {},
   "outputs": [
    {
     "data": {
      "text/plain": [
       "<lightgbm.basic.Booster at 0x7ea8fe293970>"
      ]
     },
     "execution_count": 33,
     "metadata": {},
     "output_type": "execute_result"
    }
   ],
   "source": [
    "\n",
    "train_data = lgb.Dataset(X_train, label=y_train, categorical_feature=categorical_features)\n",
    "\n",
    "# Entrenamiento final\n",
    "best_params = study1.best_params\n",
    "best_params['objective'] = 'regression'\n",
    "best_params['metric'] = 'mae'\n",
    "best_params['verbose'] = -1\n",
    "\n",
    "model_reg = lgb.train(\n",
    "    best_params,\n",
    "    train_data,\n",
    "    num_boost_round=250\n",
    ")\n",
    "\n",
    "os.makedirs('./modelos', exist_ok=True)\n",
    "model_reg.save_model('./modelos/lgbm_model_reg_todos_los_productos.txt')"
   ]
  },
  {
   "cell_type": "code",
   "execution_count": 34,
   "id": "b51a3774",
   "metadata": {},
   "outputs": [
    {
     "ename": "NameError",
     "evalue": "name 'df_full' is not defined",
     "output_type": "error",
     "traceback": [
      "\u001b[0;31m---------------------------------------------------------------------------\u001b[0m",
      "\u001b[0;31mNameError\u001b[0m                                 Traceback (most recent call last)",
      "Cell \u001b[0;32mIn[34], line 1\u001b[0m\n\u001b[0;32m----> 1\u001b[0m \u001b[38;5;28;01mdel\u001b[39;00m df_full\n\u001b[1;32m      2\u001b[0m gc\u001b[38;5;241m.\u001b[39mcollect()\n",
      "\u001b[0;31mNameError\u001b[0m: name 'df_full' is not defined"
     ]
    }
   ],
   "source": [
    "del df_full\n",
    "gc.collect()"
   ]
  },
  {
   "cell_type": "code",
   "execution_count": 35,
   "id": "c6453469",
   "metadata": {},
   "outputs": [],
   "source": [
    "# Cargo los datos sobre los que quiero hacer predicciones\n",
    "gc.collect()\n",
    "df_pred_full = pd.read_parquet('./data/l_vm_completa_train.parquet', engine='fastparquet')\n",
    "df_pred_full = df_pred_full[df_pred_full['PERIODO'] == 201910].drop(columns=['CLASE', 'CLASE_DELTA'])"
   ]
  },
  {
   "cell_type": "code",
   "execution_count": 36,
   "id": "a49ce89b",
   "metadata": {},
   "outputs": [],
   "source": [
    "df_pendientes = pd.read_parquet('./data/l_vm_completa_train_pendientes.parquet', engine='fastparquet')\n",
    "df_pendientes = df_pendientes[df_pendientes['PERIODO'] == 201910]"
   ]
  },
  {
   "cell_type": "code",
   "execution_count": 37,
   "id": "b9e18359",
   "metadata": {},
   "outputs": [],
   "source": [
    "\n",
    "df_pred_full = df_pred_full.merge(df_pendientes, on=['PRODUCT_ID', 'CUSTOMER_ID', 'PERIODO'], how='left', suffixes=('', '_features'))\n"
   ]
  },
  {
   "cell_type": "code",
   "execution_count": 20,
   "id": "4102d117",
   "metadata": {},
   "outputs": [
    {
     "name": "stdout",
     "output_type": "stream",
     "text": [
      "Valores únicos de A_PREDECIR en df_pred_full:\n",
      "['S' 'N']\n"
     ]
    }
   ],
   "source": [
    "# Mostrar los valores únicos de A_PREDECIR\n",
    "print(\"Valores únicos de A_PREDECIR en df_pred_full:\")\n",
    "print(df_pred_full['A_PREDECIR'].unique())"
   ]
  },
  {
   "cell_type": "code",
   "execution_count": 38,
   "id": "f827404d",
   "metadata": {},
   "outputs": [],
   "source": [
    "# Filtrar solo los que tengan la columna A_PREDECIR con valor 1\n",
    "df_pred_full = df_pred_full[df_pred_full['A_PREDECIR'] == 'S']\n",
    "# Hacer que A_PREDECIR sea boolean si es 'S' vale True, si es 'N' False\n",
    "df_pred_full['A_PREDECIR'] = df_pred_full['A_PREDECIR'].map({'S': True, 'N': False})\n",
    "\n",
    "# Agregar a df_pred_full una variable categorica MES_PROBLEMATICO que sea 1 si PERIODO es 201906 o 201908 o 201910, y 0 en caso contrario\n",
    "df_pred_full['MES_PROBLEMATICO'] = df_pred_full['PERIODO'].apply(lambda x: 1 if x in [201906, 201908] else 0)\n",
    "# Convertir las variables categóricas a tipo 'category'\n",
    "for col in categorical_features:\n",
    "    df_pred_full[col] = df_pred_full[col].astype('category')"
   ]
  },
  {
   "cell_type": "code",
   "execution_count": 39,
   "id": "f98a0458",
   "metadata": {},
   "outputs": [],
   "source": [
    "# Eliminar del dataframe df_pred_full la columna 'PREDICCIONES'\n",
    "if 'PREDICCIONES' in df_pred_full.columns:\n",
    "    df_pred_full.drop(columns=['PREDICCIONES'], inplace=True)"
   ]
  },
  {
   "cell_type": "code",
   "execution_count": 40,
   "id": "5a5f6f91",
   "metadata": {},
   "outputs": [],
   "source": [
    "\n",
    "if not df_pred_full.empty:\n",
    "\tpredictions = model_reg.predict(df_pred_full)\n",
    "\tdf_pred_full['PREDICCIONES'] = predictions\n",
    "else:\n",
    "\tprint(\"df_pred_full está vacío, no se generaron predicciones.\")\n"
   ]
  },
  {
   "cell_type": "code",
   "execution_count": 48,
   "id": "2e5a1861",
   "metadata": {},
   "outputs": [
    {
     "name": "stdout",
     "output_type": "stream",
     "text": [
      "Columnas de df_pred_full después de las predicciones:\n",
      "['PERIODO', 'ANIO', 'MES', 'MES_SIN', 'MES_COS', 'TRIMESTRE', 'ID_CAT1', 'ID_CAT2', 'ID_CAT3', 'ID_BRAND', 'SKU_SIZE', 'CUSTOMER_ID', 'PRODUCT_ID', 'PLAN_PRECIOS_CUIDADOS', 'CUST_REQUEST_QTY', 'CUST_REQUEST_TN', 'TN', 'STOCK_FINAL', 'MEDIA_MOVIL_3M_CLI_PROD', 'MEDIA_MOVIL_6M_CLI_PROD', 'MEDIA_MOVIL_12M_CLI_PROD', 'DESVIO_MOVIL_3M_CLI_PROD', 'DESVIO_MOVIL_6M_CLI_PROD', 'DESVIO_MOVIL_12M_CLI_PROD', 'MEDIA_MOVIL_3M_PROD', 'MEDIA_MOVIL_6M_PROD', 'MEDIA_MOVIL_12M_PROD', 'DESVIO_MOVIL_3M_PROD', 'DESVIO_MOVIL_6M_PROD', 'DESVIO_MOVIL_12M_PROD', 'MEDIA_MOVIL_3M_CLI', 'MEDIA_MOVIL_6M_CLI', 'MEDIA_MOVIL_12M_CLI', 'DESVIO_MOVIL_3M_CLI', 'DESVIO_MOVIL_6M_CLI', 'DESVIO_MOVIL_12M_CLI', 'TN_LAG_01', 'TN_LAG_02', 'TN_LAG_03', 'TN_LAG_04', 'TN_LAG_05', 'TN_LAG_06', 'TN_LAG_07', 'TN_LAG_08', 'TN_LAG_09', 'TN_LAG_10', 'TN_LAG_11', 'TN_LAG_12', 'TN_LAG_13', 'TN_LAG_14', 'TN_LAG_15', 'ORDINAL', 'TN_DELTA_01', 'TN_DELTA_02', 'TN_DELTA_03', 'TN_DELTA_04', 'TN_DELTA_05', 'TN_DELTA_06', 'TN_DELTA_07', 'TN_DELTA_08', 'TN_DELTA_09', 'TN_DELTA_10', 'TN_DELTA_11', 'TN_DELTA_12', 'TN_DELTA_13', 'TN_DELTA_14', 'TN_DELTA_15', 'ANTIG_CLIENTE', 'ANTIG_PRODUCTO', 'CANT_PROD_CLI_PER', 'MEDIA_PROD_PER', 'MEDIA_PROD', 'MEDIA_PER', 'A_PREDECIR', 'PENDIENTE_TENDENCIA_3', 'TN_EWMA_03', 'TN_MEDIAN_03', 'TN_MIN_03', 'TN_MAX_03', 'PENDIENTE_TENDENCIA_6', 'TN_EWMA_06', 'TN_MEDIAN_06', 'TN_MIN_06', 'TN_MAX_06', 'PENDIENTE_TENDENCIA_9', 'TN_EWMA_09', 'TN_MEDIAN_09', 'TN_MIN_09', 'TN_MAX_09', 'PENDIENTE_TENDENCIA_12', 'TN_EWMA_12', 'TN_MEDIAN_12', 'TN_MIN_12', 'TN_MAX_12', 'MES_PROBLEMATICO', 'PREDICCIONES', 'TN_PREDICCIONES']\n"
     ]
    }
   ],
   "source": [
    "# Mostar las columnas de df_pred_full\n",
    "print(\"Columnas de df_pred_full después de las predicciones:\")\n",
    "print(df_pred_full.columns.tolist())"
   ]
  },
  {
   "cell_type": "code",
   "execution_count": 68,
   "id": "f07e7c7d",
   "metadata": {},
   "outputs": [],
   "source": [
    "# A cada reregistro de df_pred_full le agrego la columna que TN + PREDICCIONES\n",
    "df_pred_full['TN_PREDICCIONES'] = df_pred_full['TN'] + 0.7 * df_pred_full['PREDICCIONES']\n",
    "df_pred_full['TN_PREDICCIONES'] = np.where(\n",
    "    df_pred_full['TN_PREDICCIONES'] <= df_pred_full['TN_MIN_12'] ,\n",
    "    df_pred_full['TN_MIN_12'],\n",
    "    np.where(\n",
    "        df_pred_full['TN_PREDICCIONES'] >= df_pred_full['TN_MAX_12'],\n",
    "        df_pred_full['TN_MAX_12'],\n",
    "        df_pred_full['TN_PREDICCIONES']\n",
    "    )\n",
    ")   "
   ]
  },
  {
   "cell_type": "code",
   "execution_count": 69,
   "id": "9d74fc6b",
   "metadata": {},
   "outputs": [
    {
     "data": {
      "application/vnd.microsoft.datawrangler.viewer.v0+json": {
       "columns": [
        {
         "name": "index",
         "rawType": "int64",
         "type": "integer"
        },
        {
         "name": "PRODUCT_ID",
         "rawType": "int64",
         "type": "integer"
        },
        {
         "name": "PREDICCIONES",
         "rawType": "float64",
         "type": "float"
        },
        {
         "name": "TN_PREDICCIONES",
         "rawType": "float64",
         "type": "float"
        }
       ],
       "ref": "130c3915-7153-4ce2-8434-a9f8e70c6b9c",
       "rows": [
        [
         "0",
         "20001",
         "-125.17911323165596",
         "1472.3293091322873"
        ],
        [
         "1",
         "20002",
         "-654.4470248605289",
         "1520.7769544693017"
        ],
        [
         "2",
         "20003",
         "-327.8404563501374",
         "850.3832402435318"
        ],
        [
         "3",
         "20004",
         "-491.75126409832274",
         "718.6210614091632"
        ],
        [
         "4",
         "20005",
         "-459.11020054180784",
         "671.7803585285895"
        ],
        [
         "5",
         "20006",
         "-173.63597163587534",
         "405.88385391194635"
        ],
        [
         "6",
         "20007",
         "-120.55060467663408",
         "360.319474346909"
        ],
        [
         "7",
         "20008",
         "-139.70410896725883",
         "354.40601893347207"
        ],
        [
         "8",
         "20009",
         "-56.494020801129665",
         "516.2273532287501"
        ],
        [
         "9",
         "20010",
         "-185.09982888491587",
         "315.90968709420224"
        ],
        [
         "10",
         "20011",
         "-74.54236364412304",
         "369.6944280925399"
        ],
        [
         "11",
         "20012",
         "-85.32871954468547",
         "234.1662621471934"
        ],
        [
         "12",
         "20013",
         "-233.91514907483867",
         "362.52182104530857"
        ],
        [
         "13",
         "20014",
         "-212.39608015567754",
         "361.43857617205066"
        ],
        [
         "14",
         "20015",
         "-158.7943689638678",
         "360.1395253929989"
        ],
        [
         "15",
         "20016",
         "-39.99040453846786",
         "240.0056037065298"
        ],
        [
         "16",
         "20017",
         "-101.08014523878846",
         "230.45525757985826"
        ],
        [
         "17",
         "20018",
         "-94.92811461631746",
         "211.32072713477498"
        ],
        [
         "18",
         "20019",
         "-184.21820857831565",
         "327.0654817872126"
        ],
        [
         "19",
         "20020",
         "-41.53373453645031",
         "209.3983016835678"
        ],
        [
         "20",
         "20021",
         "-55.279154497674",
         "205.8895384261477"
        ],
        [
         "21",
         "20022",
         "24.65383987497752",
         "181.94266780462476"
        ],
        [
         "22",
         "20023",
         "-159.2671115658934",
         "272.8714239587226"
        ],
        [
         "23",
         "20024",
         "-18.60006439971608",
         "187.22011931597382"
        ],
        [
         "24",
         "20025",
         "1.3901004768544345",
         "144.86139293133908"
        ],
        [
         "25",
         "20026",
         "-148.45937884097415",
         "269.35624973156484"
        ],
        [
         "26",
         "20027",
         "-33.539810338802276",
         "188.60300597984826"
        ],
        [
         "27",
         "20028",
         "40.07938113333643",
         "111.8943486168466"
        ],
        [
         "28",
         "20029",
         "-48.454786848202716",
         "162.54401695571525"
        ],
        [
         "29",
         "20030",
         "12.852028450525594",
         "93.59396791168295"
        ],
        [
         "30",
         "20031",
         "12.876172678034035",
         "122.46556483552314"
        ],
        [
         "31",
         "20032",
         "-202.0780303915987",
         "609.713458725881"
        ],
        [
         "32",
         "20033",
         "-91.46664919672827",
         "139.0339258439148"
        ],
        [
         "33",
         "20035",
         "-12.715127233647326",
         "127.43334724965337"
        ],
        [
         "34",
         "20037",
         "-20.01530391991508",
         "115.81837056353848"
        ],
        [
         "35",
         "20038",
         "-32.73329699961173",
         "142.00573445196954"
        ],
        [
         "36",
         "20039",
         "-103.69874718121295",
         "130.94532343592496"
        ],
        [
         "37",
         "20041",
         "-111.52656720024893",
         "148.04414779788777"
        ],
        [
         "38",
         "20042",
         "-107.4626149714916",
         "139.51211702714824"
        ],
        [
         "39",
         "20043",
         "-51.26392652311104",
         "124.90966458942535"
        ],
        [
         "40",
         "20044",
         "-94.98474264426008",
         "138.7459825694293"
        ],
        [
         "41",
         "20045",
         "-98.61881662418989",
         "146.77092700536565"
        ],
        [
         "42",
         "20046",
         "-98.21135039012955",
         "175.81876400307777"
        ],
        [
         "43",
         "20047",
         "-8.201086688268202",
         "111.67988158892443"
        ],
        [
         "44",
         "20049",
         "-104.90982220714918",
         "185.81629857481985"
        ],
        [
         "45",
         "20050",
         "-54.581887962808445",
         "100.23327642306266"
        ],
        [
         "46",
         "20051",
         "-56.36552430339944",
         "132.36969334694103"
        ],
        [
         "47",
         "20052",
         "-71.15926849067178",
         "117.79635926210737"
        ],
        [
         "48",
         "20053",
         "-34.1767278532593",
         "127.50397490587515"
        ],
        [
         "49",
         "20054",
         "-68.7272174217027",
         "133.03177997515706"
        ]
       ],
       "shape": {
        "columns": 3,
        "rows": 780
       }
      },
      "text/html": [
       "<div>\n",
       "<style scoped>\n",
       "    .dataframe tbody tr th:only-of-type {\n",
       "        vertical-align: middle;\n",
       "    }\n",
       "\n",
       "    .dataframe tbody tr th {\n",
       "        vertical-align: top;\n",
       "    }\n",
       "\n",
       "    .dataframe thead th {\n",
       "        text-align: right;\n",
       "    }\n",
       "</style>\n",
       "<table border=\"1\" class=\"dataframe\">\n",
       "  <thead>\n",
       "    <tr style=\"text-align: right;\">\n",
       "      <th></th>\n",
       "      <th>PRODUCT_ID</th>\n",
       "      <th>PREDICCIONES</th>\n",
       "      <th>TN_PREDICCIONES</th>\n",
       "    </tr>\n",
       "  </thead>\n",
       "  <tbody>\n",
       "    <tr>\n",
       "      <th>0</th>\n",
       "      <td>20001</td>\n",
       "      <td>-125.179113</td>\n",
       "      <td>1472.329309</td>\n",
       "    </tr>\n",
       "    <tr>\n",
       "      <th>1</th>\n",
       "      <td>20002</td>\n",
       "      <td>-654.447025</td>\n",
       "      <td>1520.776954</td>\n",
       "    </tr>\n",
       "    <tr>\n",
       "      <th>2</th>\n",
       "      <td>20003</td>\n",
       "      <td>-327.840456</td>\n",
       "      <td>850.383240</td>\n",
       "    </tr>\n",
       "    <tr>\n",
       "      <th>3</th>\n",
       "      <td>20004</td>\n",
       "      <td>-491.751264</td>\n",
       "      <td>718.621061</td>\n",
       "    </tr>\n",
       "    <tr>\n",
       "      <th>4</th>\n",
       "      <td>20005</td>\n",
       "      <td>-459.110201</td>\n",
       "      <td>671.780359</td>\n",
       "    </tr>\n",
       "    <tr>\n",
       "      <th>...</th>\n",
       "      <td>...</td>\n",
       "      <td>...</td>\n",
       "      <td>...</td>\n",
       "    </tr>\n",
       "    <tr>\n",
       "      <th>775</th>\n",
       "      <td>21263</td>\n",
       "      <td>0.358657</td>\n",
       "      <td>0.057365</td>\n",
       "    </tr>\n",
       "    <tr>\n",
       "      <th>776</th>\n",
       "      <td>21265</td>\n",
       "      <td>0.427579</td>\n",
       "      <td>0.408516</td>\n",
       "    </tr>\n",
       "    <tr>\n",
       "      <th>777</th>\n",
       "      <td>21266</td>\n",
       "      <td>0.442618</td>\n",
       "      <td>0.428142</td>\n",
       "    </tr>\n",
       "    <tr>\n",
       "      <th>778</th>\n",
       "      <td>21267</td>\n",
       "      <td>0.458867</td>\n",
       "      <td>0.417967</td>\n",
       "    </tr>\n",
       "    <tr>\n",
       "      <th>779</th>\n",
       "      <td>21276</td>\n",
       "      <td>0.493610</td>\n",
       "      <td>0.366317</td>\n",
       "    </tr>\n",
       "  </tbody>\n",
       "</table>\n",
       "<p>780 rows × 3 columns</p>\n",
       "</div>"
      ],
      "text/plain": [
       "     PRODUCT_ID  PREDICCIONES  TN_PREDICCIONES\n",
       "0         20001   -125.179113      1472.329309\n",
       "1         20002   -654.447025      1520.776954\n",
       "2         20003   -327.840456       850.383240\n",
       "3         20004   -491.751264       718.621061\n",
       "4         20005   -459.110201       671.780359\n",
       "..          ...           ...              ...\n",
       "775       21263      0.358657         0.057365\n",
       "776       21265      0.427579         0.408516\n",
       "777       21266      0.442618         0.428142\n",
       "778       21267      0.458867         0.417967\n",
       "779       21276      0.493610         0.366317\n",
       "\n",
       "[780 rows x 3 columns]"
      ]
     },
     "execution_count": 69,
     "metadata": {},
     "output_type": "execute_result"
    }
   ],
   "source": [
    "# Generar Dataframe que contenga por cada PRODUCT_ID la suma de las predicciones y la suma de la clase observada\n",
    "df_final = df_pred_full.groupby('PRODUCT_ID').agg({'PREDICCIONES': 'sum', 'TN_PREDICCIONES': 'sum'}).reset_index()\n",
    "# Los valore de TN_PREDICCIONES deben ser cero o mayores a cero, si no es así, los cambio a cero\n",
    "df_final['TN_PREDICCIONES'] = df_final['TN_PREDICCIONES'].clip(lower=0)\n",
    "df_final \n"
   ]
  },
  {
   "cell_type": "code",
   "execution_count": 71,
   "id": "123da34a",
   "metadata": {},
   "outputs": [
    {
     "data": {
      "text/plain": [
       "(780, 2)"
      ]
     },
     "execution_count": 71,
     "metadata": {},
     "output_type": "execute_result"
    }
   ],
   "source": [
    "# En df_final, solo dejar las columnas PRODUCT_ID, TN_PREDICCIONES que deben llamarse product_id y tn\n",
    "df_final = df_final.rename(columns={'PRODUCT_ID': 'product_id', 'TN_PREDICCIONES': 'tn'})\n",
    "# Eliminar el indice y PREDICCIONES\n",
    "df_final = df_final[['product_id', 'tn']]   \n",
    "df_final\n",
    "# Guardar el DataFrame df_final en un archivo CSV\n",
    "df_final.to_csv('./modelos/lgbm_model_reg_todos_los_productos.csv', index=False)\n",
    "df_final.shape"
   ]
  }
 ],
 "metadata": {
  "kernelspec": {
   "display_name": "LaboIII",
   "language": "python",
   "name": "python3"
  },
  "language_info": {
   "codemirror_mode": {
    "name": "ipython",
    "version": 3
   },
   "file_extension": ".py",
   "mimetype": "text/x-python",
   "name": "python",
   "nbconvert_exporter": "python",
   "pygments_lexer": "ipython3",
   "version": "3.9.23"
  }
 },
 "nbformat": 4,
 "nbformat_minor": 5
}
