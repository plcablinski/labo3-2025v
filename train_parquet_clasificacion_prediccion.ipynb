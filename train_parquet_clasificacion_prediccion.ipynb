{
 "cells": [
  {
   "cell_type": "code",
   "execution_count": null,
   "id": "b2c7e386",
   "metadata": {},
   "outputs": [],
   "source": [
    "import lightgbm as lgb\n",
    "import numpy as np\n",
    "import pandas as pd\n",
    "import matplotlib.pyplot as plt\n",
    "\n"
   ]
  },
  {
   "cell_type": "code",
   "execution_count": null,
   "id": "7658552b",
   "metadata": {},
   "outputs": [],
   "source": [
    "# --- CARGA Y PREPARACIÓN DE DATOS ---\n",
    "df_full = pd.read_parquet('./data/l_vm_completa_train.parquet')\n",
    "print(df_full.shape)\n",
    "\n",
    "categorical_features = [\n",
    "    'ANIO','MES','TRIMESTRE','ID_CAT1','ID_CAT2','ID_CAT3',\n",
    "    'ID_BRAND','SKU_SIZE','CUSTOMER_ID','PRODUCT_ID','PLAN_PRECIOS_CUIDADOS'\n",
    "]\n",
    "for col in categorical_features:\n",
    "    df_full[col] = df_full[col].astype('category')\n"
   ]
  },
  {
   "cell_type": "code",
   "execution_count": null,
   "id": "c6498e90",
   "metadata": {},
   "outputs": [],
   "source": [
    "\n",
    "plt.hist(df_full['CLASE'], bins=50)\n",
    "plt.title('Distribución del target (CLASE)')\n",
    "plt.show()\n",
    "print(df_full['CLASE'].describe())\n",
    "print(df_full['CLASE'].value_counts().head(30))\n",
    "total = df_full['CLASE'].count()\n",
    "ceros = df_full['CLASE'].value_counts().get(0, 0)\n",
    "porcentaje_ceros = (ceros / total) * 100\n",
    "print(f\"Porcentaje de ceros: {porcentaje_ceros:.2f}%\")\n",
    "\n"
   ]
  },
  {
   "cell_type": "code",
   "execution_count": null,
   "id": "9e5898d7",
   "metadata": {},
   "outputs": [],
   "source": [
    "\n",
    "\n",
    "# --- SPLIT TRAIN/VALID ---\n",
    "periodos_valid = [201909, 201910]\n",
    "X = df_full[df_full['PERIODO'] <= 201910].drop(columns=['CLASE', 'CLASE_DELTA'])\n",
    "y = df_full[df_full['PERIODO'] <= 201910]['CLASE']\n",
    "\n",
    "X_train = X[X['PERIODO'] < periodos_valid[0]]\n",
    "y_train = y[X['PERIODO'] < periodos_valid[0]]\n",
    "X_val_list = [X[X['PERIODO'] == p] for p in periodos_valid]\n",
    "y_val_list = [y[X['PERIODO'] == p] for p in periodos_valid]\n"
   ]
  },
  {
   "cell_type": "code",
   "execution_count": null,
   "id": "9964db7d",
   "metadata": {},
   "outputs": [],
   "source": [
    "\n",
    "# --- ETAPA 1: CLASIFICACIÓN ---\n",
    "df_full['CLASE_BIN'] = (df_full['CLASE'] > 0).astype(int)\n",
    "y_train_bin = df_full.loc[X_train.index, 'CLASE_BIN']\n",
    "y_val_bin_list = [df_full.loc[X_val.index, 'CLASE_BIN'] for X_val in X_val_list]\n",
    "\n",
    "clf = lgb.LGBMClassifier(\n",
    "    n_estimators=50000,\n",
    "    learning_rate=0.0001,\n",
    "    num_leaves=2048,\n",
    "    min_child_samples=50,\n",
    "    feature_fraction=0.8,\n",
    "    bagging_fraction=0.8,\n",
    "    max_bin=1024\n",
    ")\n",
    "\n",
    "clf.fit(\n",
    "    X_train,\n",
    "    y_train_bin,\n",
    "    eval_set=[(X_val_list[0], y_val_bin_list[0])],\n",
    "    callbacks=[lgb.early_stopping(stopping_rounds=300), lgb.log_evaluation(period=300)],\n",
    "    categorical_feature=categorical_features\n",
    ")\n"
   ]
  },
  {
   "cell_type": "code",
   "execution_count": null,
   "id": "69231d6d",
   "metadata": {},
   "outputs": [],
   "source": [
    "# --- ETAPA 2: REGRESIÓN SOBRE TODOS LOS DATOS (incluyendo ceros) ---\n",
    "X_train_reg = X_train\n",
    "y_train_reg = y_train\n",
    "\n",
    "X_val_reg_list = X_val_list\n",
    "y_val_reg_list = y_val_list\n",
    "\n",
    "reg = lgb.LGBMRegressor(\n",
    "    n_estimators=50000,\n",
    "    learning_rate=0.0001,\n",
    "    num_leaves=2048,\n",
    "    max_bin=1024    \n",
    ")\n",
    "reg.fit(\n",
    "    X_train_reg,\n",
    "    y_train_reg,\n",
    "    eval_set=[(X_val_reg_list[0], y_val_reg_list[0])],\n",
    "    callbacks=[lgb.early_stopping(stopping_rounds=300), lgb.log_evaluation(period=300)],\n",
    "    categorical_feature=categorical_features\n",
    ")\n"
   ]
  },
  {
   "cell_type": "code",
   "execution_count": null,
   "id": "5b0ccef4",
   "metadata": {},
   "outputs": [],
   "source": [
    "# Guardar los modelos entrenados\n",
    "clf.booster_.save_model('lgbm_classifier.txt')\n",
    "reg.booster_.save_model('lgbm_regressor.txt')\n"
   ]
  },
  {
   "cell_type": "code",
   "execution_count": null,
   "id": "f21d64e3",
   "metadata": {},
   "outputs": [],
   "source": [
    "# --- PREDICCIÓN Y EVALUACIÓN por periodo ---\n",
    "for i, (X_val, y_val, periodo) in enumerate(zip(X_val_list, y_val_list, periodos_valid)):\n",
    "    proba_no_cero = clf.predict_proba(X_val)[:, 1]\n",
    "    umbral = 0.25\n",
    "    pred_bin = (proba_no_cero > umbral)\n",
    "    pred_reg = np.zeros(len(X_val))\n",
    "    if pred_bin.sum() > 0:\n",
    "        pred_reg[pred_bin] = reg.predict(X_val[pred_bin])\n",
    "    y_val_real = y_val.values\n",
    "    # WAPE solo en no-cero\n",
    "    mask_nocero = y_val_real != 0\n",
    "    if mask_nocero.sum() > 0:\n",
    "        wape_nocero = np.sum(np.abs(y_val_real[mask_nocero] - pred_reg[mask_nocero])) / np.sum(np.abs(y_val_real[mask_nocero]))\n",
    "        print(f\"WAPE (no-cero) periodo {periodo}: {wape_nocero:.4f}\")\n",
    "    else:\n",
    "        print(f\"WAPE (no-cero) periodo {periodo}: N/A (no hay valores no-cero)\")\n",
    "    # También puedes seguir mostrando el WAPE global\n",
    "    wape = np.sum(np.abs(y_val_real - pred_reg)) / np.sum(np.abs(y_val_real))\n",
    "    print(f\"WAPE global periodo {periodo}: {wape:.4f}\")\n",
    "    print(f\"Valores distintos de cero en pred_reg: {(pred_reg != 0).sum()} de {len(pred_reg)}\")"
   ]
  },
  {
   "cell_type": "code",
   "execution_count": null,
   "id": "2030a9c9",
   "metadata": {},
   "outputs": [],
   "source": [
    "\n",
    "# --- IMPORTANCIA DE VARIABLES ---\n",
    "importancia = reg.feature_importances_\n",
    "nombres = X_train_reg.columns\n",
    "df_importancia = pd.DataFrame({'feature': nombres, 'importance': importancia})\n",
    "df_importancia = df_importancia.sort_values(by='importance', ascending=False)\n",
    "print(df_importancia)\n",
    "\n",
    "plt.figure(figsize=(10,6))\n",
    "plt.barh(df_importancia['feature'], df_importancia['importance'])\n",
    "plt.gca().invert_yaxis()\n",
    "plt.title('Importancia de variables LightGBM (Regresión)')\n",
    "plt.xlabel('Importancia')\n",
    "plt.show()"
   ]
  }
 ],
 "metadata": {
  "kernelspec": {
   "display_name": "LaboIII",
   "language": "python",
   "name": "python3"
  },
  "language_info": {
   "codemirror_mode": {
    "name": "ipython",
    "version": 3
   },
   "file_extension": ".py",
   "mimetype": "text/x-python",
   "name": "python",
   "nbconvert_exporter": "python",
   "pygments_lexer": "ipython3",
   "version": "3.9.18"
  }
 },
 "nbformat": 4,
 "nbformat_minor": 5
}
