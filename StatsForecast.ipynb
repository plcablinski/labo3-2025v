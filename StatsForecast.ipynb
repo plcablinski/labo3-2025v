{
 "cells": [
  {
   "cell_type": "code",
   "execution_count": 1,
   "id": "085154a6",
   "metadata": {},
   "outputs": [],
   "source": [
    "# Cargo los datos sobre los que quiero hacer predicciones\n",
    "import cx_Oracle\n",
    "import pandas as pd\n"
   ]
  },
  {
   "cell_type": "code",
   "execution_count": 19,
   "id": "3eee952a",
   "metadata": {},
   "outputs": [
    {
     "name": "stderr",
     "output_type": "stream",
     "text": [
      "C:\\Users\\pablo\\AppData\\Local\\Temp\\ipykernel_9736\\1234798557.py:3: UserWarning: pandas only supports SQLAlchemy connectable (engine/connection) or database string URI or sqlite3 DBAPI2 connection. Other DBAPI2 objects are not tested. Please consider using SQLAlchemy.\n",
      "  df_pred = pd.read_sql(query, conn, chunksize=1000000)  # Lee en chunks para no llenar la RAM\n"
     ]
    }
   ],
   "source": [
    "\n",
    "conn =  cx_Oracle.connect(user=\"pc\",password=\"p201404\",dsn=\"siatchdesa\")\n",
    "query = \"select periodo,product_id,sum(tn) tn from PC.L_VM_COMPLETA join L_PRODUCTOS_A_PREDECIR using(product_id) group by periodo,product_id order by product_id,periodo\" \n",
    "df_pred = pd.read_sql(query, conn, chunksize=1000000)  # Lee en chunks para no llenar la RAM\n",
    "\n",
    "# Para concatenar todos los chunks en un solo DataFrame (si tienes suficiente RAM)\n",
    "df_pred_full = pd.concat(df_pred, ignore_index=True)\n",
    "conn.close()"
   ]
  },
  {
   "cell_type": "code",
   "execution_count": 20,
   "id": "1ef56c37",
   "metadata": {},
   "outputs": [
    {
     "name": "stdout",
     "output_type": "stream",
     "text": [
      "(16088, 3)\n"
     ]
    }
   ],
   "source": [
    "print(df_pred_full.shape)"
   ]
  },
  {
   "cell_type": "code",
   "execution_count": 22,
   "id": "28f0b484",
   "metadata": {},
   "outputs": [
    {
     "name": "stdout",
     "output_type": "stream",
     "text": [
      "(28080, 3)\n"
     ]
    }
   ],
   "source": [
    "# convertir el periodo a datetime\n",
    "df_pred_full['PERIODO'] = pd.to_datetime(df_pred_full['PERIODO'], format='%Y%m')\n",
    "\n",
    "# Para cada producto si faltan meses entre 201701 y 201912, reemplazar con 0 el tn de esos meses para cada producto\n",
    "def complete_months(df, start_date, end_date):\n",
    "    # Crear un rango de fechas mensuales\n",
    "    all_months = pd.date_range(start=start_date, end=end_date, freq='MS')\n",
    "    \n",
    "    # Crear un DataFrame con todos los meses y los productos únicos\n",
    "    products = df['PRODUCT_ID'].unique()\n",
    "    all_combinations = pd.MultiIndex.from_product([products, all_months], names=['PRODUCT_ID', 'PERIODO'])\n",
    "    complete_df = pd.DataFrame(index=all_combinations).reset_index()\n",
    "    \n",
    "    # Unir con el DataFrame original\n",
    "    complete_df = complete_df.merge(df, on=['PRODUCT_ID', 'PERIODO'], how='left')\n",
    "    \n",
    "    # Rellenar los valores NaN con 0\n",
    "    complete_df['TN'] = complete_df['TN'].fillna(0)\n",
    "    \n",
    "    return complete_df\n",
    "# Completar los meses entre 201701 y 201912\n",
    "df_complete = complete_months(df_pred_full, '2017-01-01', '2019-12-01')\n",
    "print(df_complete.shape)\n",
    "\n"
   ]
  },
  {
   "cell_type": "code",
   "execution_count": 29,
   "id": "537a92b0",
   "metadata": {},
   "outputs": [
    {
     "name": "stderr",
     "output_type": "stream",
     "text": [
      "C:\\Users\\pablo\\AppData\\Roaming\\Python\\Python310\\site-packages\\tqdm\\auto.py:21: TqdmWarning: IProgress not found. Please update jupyter and ipywidgets. See https://ipywidgets.readthedocs.io/en/stable/user_install.html\n",
      "  from .autonotebook import tqdm as notebook_tqdm\n"
     ]
    },
    {
     "ename": "ImportError",
     "evalue": "cannot import name 'SARIMA' from 'statsforecast.models' (c:\\anaconda3\\envs\\Autogluon\\lib\\site-packages\\statsforecast\\models.py)",
     "output_type": "error",
     "traceback": [
      "\u001b[1;31m---------------------------------------------------------------------------\u001b[0m",
      "\u001b[1;31mImportError\u001b[0m                               Traceback (most recent call last)",
      "Cell \u001b[1;32mIn[29], line 4\u001b[0m\n\u001b[0;32m      1\u001b[0m \u001b[38;5;66;03m# ...existing code de carga y preprocesamiento...\u001b[39;00m\n\u001b[0;32m      3\u001b[0m \u001b[38;5;28;01mfrom\u001b[39;00m\u001b[38;5;250m \u001b[39m\u001b[38;5;21;01mstatsforecast\u001b[39;00m\u001b[38;5;250m \u001b[39m\u001b[38;5;28;01mimport\u001b[39;00m StatsForecast\n\u001b[1;32m----> 4\u001b[0m \u001b[38;5;28;01mfrom\u001b[39;00m\u001b[38;5;250m \u001b[39m\u001b[38;5;21;01mstatsforecast\u001b[39;00m\u001b[38;5;21;01m.\u001b[39;00m\u001b[38;5;21;01mmodels\u001b[39;00m\u001b[38;5;250m \u001b[39m\u001b[38;5;28;01mimport\u001b[39;00m SARIMA\n\u001b[0;32m      5\u001b[0m \u001b[38;5;28;01mimport\u001b[39;00m\u001b[38;5;250m \u001b[39m\u001b[38;5;21;01mpolars\u001b[39;00m\u001b[38;5;250m \u001b[39m\u001b[38;5;28;01mas\u001b[39;00m\u001b[38;5;250m \u001b[39m\u001b[38;5;21;01mpl\u001b[39;00m\n",
      "\u001b[1;31mImportError\u001b[0m: cannot import name 'SARIMA' from 'statsforecast.models' (c:\\anaconda3\\envs\\Autogluon\\lib\\site-packages\\statsforecast\\models.py)"
     ]
    }
   ],
   "source": [
    "# ...existing code de carga y preprocesamiento...\n",
    "\n",
    "from statsforecast import StatsForecast\n",
    "from statsforecast.models import SARIMA\n",
    "import polars as pl\n"
   ]
  },
  {
   "cell_type": "code",
   "execution_count": null,
   "id": "ee700504",
   "metadata": {},
   "outputs": [],
   "source": [
    "\n",
    "# Convertir el DataFrame a formato polars y renombrar columnas para statsforecast\n",
    "df_sf = pl.from_pandas(df_complete.rename(columns={\n",
    "    'PRODUCT_ID': 'unique_id',\n",
    "    'PERIODO': 'ds',\n",
    "    'TN': 'y'\n",
    "}))\n",
    "\n",
    "# Crear el objeto StatsForecast\n",
    "sf = StatsForecast(\n",
    "    models=[SARIMA(order=(1,1,0), seasonal_order=(1,1,0,12))],\n",
    "    freq='M',  # Mensual\n",
    "    n_jobs=-1\n",
    ")\n",
    "\n",
    "# Ajustar y predecir los próximos 2 meses para cada serie\n",
    "# last_window_size es opcional, puedes omitirlo si tienes todos los datos completos\n",
    "df_forecast = sf.forecast(df=df_sf, h=2)\n",
    "\n",
    "# Tomar solo el segundo mes pronosticado para cada producto\n",
    "df_result = df_forecast.filter(pl.col('ds') == df_sf['ds'].max() + pl.duration(months=2))\n",
    "\n",
    "# Renombrar columnas para coincidir con tu formato original\n",
    "df_result = df_result.rename({'unique_id': 'PRODUCT_ID', 'SARIMA': 'TN_PREDICTED'})\n",
    "\n",
    "# Convertir a pandas y guardar\n",
    "df_result = df_result.to_pandas()\n",
    "df_result['TN_PREDICTED'] = df_result['TN_PREDICTED'].clip(lower=0)\n",
    "df_result.to_csv('pronostico_statsforecast.csv', index=False, encoding='utf-8-sig')\n",
    "\n",
    "print(df_result.head())"
   ]
  },
  {
   "cell_type": "code",
   "execution_count": 27,
   "id": "9e90f3c7",
   "metadata": {},
   "outputs": [],
   "source": [
    "# Hacer cero los valores de tn_predicted que sean menores a cero\n",
    "df_pronostico['TN_PREDICTED'] = df_pronostico['TN_PREDICTED'].clip(lower=0) \n",
    "# Guardar el DataFrame de pronósticos en un archivo CSV\n",
    "df_pronostico.to_csv('pronostico_sarimax_2.csv', index=False, encoding='utf-8-sig')   "
   ]
  },
  {
   "cell_type": "code",
   "execution_count": 28,
   "id": "b8fbeea4",
   "metadata": {},
   "outputs": [
    {
     "name": "stdout",
     "output_type": "stream",
     "text": [
      "  PRODUCT_ID  TN_PREDICTED\n",
      "0      20001   2460.547605\n",
      "1      20002   1512.242450\n",
      "2      20003   1585.858222\n",
      "3      20004    950.804368\n",
      "4      20005    844.389682\n"
     ]
    }
   ],
   "source": [
    "print(df_pronostico.head())  # Mostrar las primeras filas del DataFrame de pronósticos\n"
   ]
  }
 ],
 "metadata": {
  "kernelspec": {
   "display_name": "Autogluon",
   "language": "python",
   "name": "python3"
  },
  "language_info": {
   "codemirror_mode": {
    "name": "ipython",
    "version": 3
   },
   "file_extension": ".py",
   "mimetype": "text/x-python",
   "name": "python",
   "nbconvert_exporter": "python",
   "pygments_lexer": "ipython3",
   "version": "3.10.17"
  }
 },
 "nbformat": 4,
 "nbformat_minor": 5
}
