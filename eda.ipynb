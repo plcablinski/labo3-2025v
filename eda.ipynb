{
 "cells": [
  {
   "cell_type": "code",
   "execution_count": null,
   "id": "4008499e",
   "metadata": {},
   "outputs": [],
   "source": [
    "# Importar los datos de un archivo de texto que tiene esta estructura:\n",
    "# periodo\tcustomer_id\tproduct_id\tplan_precios_cuidados\tcust_request_qty\tcust_request_tn\ttn\n",
    "# 201701\t10234\t20524\t0\t2\t0.053\t0.053\n",
    "# 201701\t10032\t20524\t0\t1\t0.13628\t0.13628\n",
    "\n",
    "import pandas as pd\n",
    "import numpy as np\n"
   ]
  },
  {
   "cell_type": "code",
   "execution_count": null,
   "id": "bd5e301c",
   "metadata": {},
   "outputs": [],
   "source": [
    "# abrir el archivo sell-in.txt e importar los datos\n",
    "def import_data(file_path):\n",
    "    try:\n",
    "        data = pd.read_csv(file_path, sep='\\t', header=0)\n",
    "        data.columns = ['periodo', 'customer_id', 'product_id', 'plan_precios_cuidados', 'cust_request_qty', 'cust_request_tn', 'tn']\n",
    "        return data\n",
    "    except Exception as e:\n",
    "        logging.error(f\"Error importing data: {e}\")\n",
    "        sys.exit(1)\n",
    "\n",
    "# filtrar los datos para obtener solo los que tienen plan_precios_cuidados = 0\n",
    "def filter_data(data):\n",
    "    try:\n",
    "        filtered_data = data[data['plan_precios_cuidados'] == 0]\n",
    "        return filtered_data\n",
    "    except Exception as e:\n",
    "        logging.error(f\"Error filtering data: {e}\")\n",
    "        sys.exit(1)\n",
    "        \n"
   ]
  },
  {
   "cell_type": "code",
   "execution_count": null,
   "id": "46e7297a",
   "metadata": {},
   "outputs": [],
   "source": [
    "datos = import_data('.\\Datasets Competencia\\sell-in.txt')\n",
    "datos.shape\n",
    "datos.head(10)\n"
   ]
  },
  {
   "cell_type": "code",
   "execution_count": null,
   "id": "509bdb63",
   "metadata": {},
   "outputs": [],
   "source": [
    "# Generar un nuevo dataframe que por cada periodo y producto sume las tn\n",
    "\n",
    "nuevo_df = datos.groupby(['periodo', 'product_id'])['tn'].sum().reset_index()\n",
    "nuevo_df = nuevo_df.rename(columns={'tn': 'tn_total'})\n",
    "nuevo_df.head(10)\n"
   ]
  },
  {
   "cell_type": "code",
   "execution_count": null,
   "id": "c870e45d",
   "metadata": {},
   "outputs": [],
   "source": [
    "# Con los datos de nuevo_df hacer un grafico por cada product_id que representa tn_total por cada periodo\n",
    "\n",
    "import matplotlib.pyplot as plt\n",
    "import seaborn as sns\n",
    "sns.set(style=\"whitegrid\")\n",
    "def plot_data(data):\n",
    "    try:\n",
    "        unique_products = data['product_id'].unique()\n",
    "        for product in unique_products:\n",
    "            product_data = data[data['product_id'] == product]\n",
    "            plt.figure(figsize=(10, 6))\n",
    "            sns.lineplot(x='periodo', y='tn_total', data=product_data)\n",
    "            plt.title(f'Total TN for Product ID: {product}')\n",
    "            plt.xlabel('Period')\n",
    "            plt.ylabel('Total TN')\n",
    "            plt.xticks(rotation=45)\n",
    "            plt.tight_layout()\n",
    "            plt.show()\n",
    "    except Exception as e:\n",
    "        logging.error(f\"Error plotting data: {e}\")\n",
    "        sys.exit(1)\n",
    "# Llamar a la funcion para graficar los datos\n",
    "plot_data(nuevo_df)\n"
   ]
  }
 ],
 "metadata": {
  "kernelspec": {
   "display_name": "Autogluon",
   "language": "python",
   "name": "python3"
  },
  "language_info": {
   "codemirror_mode": {
    "name": "ipython",
    "version": 3
   },
   "file_extension": ".py",
   "mimetype": "text/x-python",
   "name": "python",
   "nbconvert_exporter": "python",
   "pygments_lexer": "ipython3",
   "version": "3.10.17"
  }
 },
 "nbformat": 4,
 "nbformat_minor": 5
}
